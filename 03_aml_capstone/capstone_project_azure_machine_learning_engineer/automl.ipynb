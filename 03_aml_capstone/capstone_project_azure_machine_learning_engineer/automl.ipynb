{
 "cells": [
  {
   "cell_type": "markdown",
   "metadata": {},
   "source": [
    "# Automated ML\n",
    "\n",
    "TODO: Import Dependencies. In the cell below, import all the dependencies that you will need to complete the project."
   ]
  },
  {
   "cell_type": "code",
   "execution_count": 22,
   "metadata": {
    "collapsed": false,
    "gather": {
     "logged": 1598423888013
    },
    "jupyter": {
     "outputs_hidden": false,
     "source_hidden": false
    },
    "nteract": {
     "transient": {
      "deleting": false
     }
    }
   },
   "outputs": [],
   "source": [
    "from azureml.core.compute import AmlCompute\n",
    "from azureml.core.compute import ComputeTarget\n",
    "from azureml.core.compute_target import ComputeTargetException\n",
    "from azureml.core.dataset import Dataset\n",
    "from azureml.core.experiment import Experiment\n",
    "from azureml.core.model import Model\n",
    "from azureml.core.workspace import Workspace\n",
    "from azureml.train.automl import AutoMLConfig\n",
    "from azureml.train.automl.utilities import get_primary_metrics\n",
    "from azureml.widgets import RunDetails\n",
    "\n",
    "import joblib\n",
    "import os\n",
    "import pandas as pd"
   ]
  },
  {
   "cell_type": "code",
   "execution_count": 5,
   "metadata": {},
   "outputs": [],
   "source": [
    "# Set pandas options to be able to display all columns\n",
    "pd.set_option(\"display.max_columns\", 35)"
   ]
  },
  {
   "cell_type": "markdown",
   "metadata": {},
   "source": [
    "## Dataset\n",
    "\n",
    "### Overview\n",
    "TODO: In this markdown cell, give an overview of the dataset you are using. Also mention the task you will be performing.\n",
    "\n",
    "I am using the IBM HR Analytics Employee Attrition & Performance dataset from Kaggle (https://www.kaggle.com/pavansubhasht/ibm-hr-analytics-attrition-dataset) for the binary classification task of predicting whether an employee is at risk to leave the company, a phenomenon that is called attrition. The dataset contains the target class \"Attrition\" as well as demographic, job-specific, geographic and socioeconomic feature columns. It is a fictional dataset created by IBM Data Scientists.\n",
    "\n",
    "TODO: Get data. In the cell below, write code to access the data you will be using in this project. Remember that the dataset needs to be external."
   ]
  },
  {
   "cell_type": "code",
   "execution_count": 6,
   "metadata": {
    "collapsed": false,
    "gather": {
     "logged": 1598423890461
    },
    "jupyter": {
     "outputs_hidden": false,
     "source_hidden": false
    },
    "nteract": {
     "transient": {
      "deleting": false
     }
    }
   },
   "outputs": [
    {
     "data": {
      "text/html": [
       "<div>\n",
       "<style scoped>\n",
       "    .dataframe tbody tr th:only-of-type {\n",
       "        vertical-align: middle;\n",
       "    }\n",
       "\n",
       "    .dataframe tbody tr th {\n",
       "        vertical-align: top;\n",
       "    }\n",
       "\n",
       "    .dataframe thead th {\n",
       "        text-align: right;\n",
       "    }\n",
       "</style>\n",
       "<table border=\"1\" class=\"dataframe\">\n",
       "  <thead>\n",
       "    <tr style=\"text-align: right;\">\n",
       "      <th></th>\n",
       "      <th>Age</th>\n",
       "      <th>Attrition</th>\n",
       "      <th>BusinessTravel</th>\n",
       "      <th>DailyRate</th>\n",
       "      <th>Department</th>\n",
       "      <th>DistanceFromHome</th>\n",
       "      <th>Education</th>\n",
       "      <th>EducationField</th>\n",
       "      <th>EmployeeCount</th>\n",
       "      <th>EmployeeNumber</th>\n",
       "      <th>EnvironmentSatisfaction</th>\n",
       "      <th>Gender</th>\n",
       "      <th>HourlyRate</th>\n",
       "      <th>JobInvolvement</th>\n",
       "      <th>JobLevel</th>\n",
       "      <th>JobRole</th>\n",
       "      <th>JobSatisfaction</th>\n",
       "      <th>MaritalStatus</th>\n",
       "      <th>MonthlyIncome</th>\n",
       "      <th>MonthlyRate</th>\n",
       "      <th>NumCompaniesWorked</th>\n",
       "      <th>Over18</th>\n",
       "      <th>OverTime</th>\n",
       "      <th>PercentSalaryHike</th>\n",
       "      <th>PerformanceRating</th>\n",
       "      <th>RelationshipSatisfaction</th>\n",
       "      <th>StandardHours</th>\n",
       "      <th>StockOptionLevel</th>\n",
       "      <th>TotalWorkingYears</th>\n",
       "      <th>TrainingTimesLastYear</th>\n",
       "      <th>WorkLifeBalance</th>\n",
       "      <th>YearsAtCompany</th>\n",
       "      <th>YearsInCurrentRole</th>\n",
       "      <th>YearsSinceLastPromotion</th>\n",
       "      <th>YearsWithCurrManager</th>\n",
       "    </tr>\n",
       "  </thead>\n",
       "  <tbody>\n",
       "    <tr>\n",
       "      <th>0</th>\n",
       "      <td>41</td>\n",
       "      <td>True</td>\n",
       "      <td>Travel_Rarely</td>\n",
       "      <td>1102</td>\n",
       "      <td>Sales</td>\n",
       "      <td>1</td>\n",
       "      <td>2</td>\n",
       "      <td>Life Sciences</td>\n",
       "      <td>1</td>\n",
       "      <td>1</td>\n",
       "      <td>2</td>\n",
       "      <td>Female</td>\n",
       "      <td>94</td>\n",
       "      <td>3</td>\n",
       "      <td>2</td>\n",
       "      <td>Sales Executive</td>\n",
       "      <td>4</td>\n",
       "      <td>Single</td>\n",
       "      <td>5993</td>\n",
       "      <td>19479</td>\n",
       "      <td>8</td>\n",
       "      <td>True</td>\n",
       "      <td>True</td>\n",
       "      <td>11</td>\n",
       "      <td>3</td>\n",
       "      <td>1</td>\n",
       "      <td>80</td>\n",
       "      <td>0</td>\n",
       "      <td>8</td>\n",
       "      <td>0</td>\n",
       "      <td>1</td>\n",
       "      <td>6</td>\n",
       "      <td>4</td>\n",
       "      <td>0</td>\n",
       "      <td>5</td>\n",
       "    </tr>\n",
       "    <tr>\n",
       "      <th>1</th>\n",
       "      <td>49</td>\n",
       "      <td>False</td>\n",
       "      <td>Travel_Frequently</td>\n",
       "      <td>279</td>\n",
       "      <td>Research &amp; Development</td>\n",
       "      <td>8</td>\n",
       "      <td>1</td>\n",
       "      <td>Life Sciences</td>\n",
       "      <td>1</td>\n",
       "      <td>2</td>\n",
       "      <td>3</td>\n",
       "      <td>Male</td>\n",
       "      <td>61</td>\n",
       "      <td>2</td>\n",
       "      <td>2</td>\n",
       "      <td>Research Scientist</td>\n",
       "      <td>2</td>\n",
       "      <td>Married</td>\n",
       "      <td>5130</td>\n",
       "      <td>24907</td>\n",
       "      <td>1</td>\n",
       "      <td>True</td>\n",
       "      <td>False</td>\n",
       "      <td>23</td>\n",
       "      <td>4</td>\n",
       "      <td>4</td>\n",
       "      <td>80</td>\n",
       "      <td>1</td>\n",
       "      <td>10</td>\n",
       "      <td>3</td>\n",
       "      <td>3</td>\n",
       "      <td>10</td>\n",
       "      <td>7</td>\n",
       "      <td>1</td>\n",
       "      <td>7</td>\n",
       "    </tr>\n",
       "    <tr>\n",
       "      <th>2</th>\n",
       "      <td>37</td>\n",
       "      <td>True</td>\n",
       "      <td>Travel_Rarely</td>\n",
       "      <td>1373</td>\n",
       "      <td>Research &amp; Development</td>\n",
       "      <td>2</td>\n",
       "      <td>2</td>\n",
       "      <td>Other</td>\n",
       "      <td>1</td>\n",
       "      <td>4</td>\n",
       "      <td>4</td>\n",
       "      <td>Male</td>\n",
       "      <td>92</td>\n",
       "      <td>2</td>\n",
       "      <td>1</td>\n",
       "      <td>Laboratory Technician</td>\n",
       "      <td>3</td>\n",
       "      <td>Single</td>\n",
       "      <td>2090</td>\n",
       "      <td>2396</td>\n",
       "      <td>6</td>\n",
       "      <td>True</td>\n",
       "      <td>True</td>\n",
       "      <td>15</td>\n",
       "      <td>3</td>\n",
       "      <td>2</td>\n",
       "      <td>80</td>\n",
       "      <td>0</td>\n",
       "      <td>7</td>\n",
       "      <td>3</td>\n",
       "      <td>3</td>\n",
       "      <td>0</td>\n",
       "      <td>0</td>\n",
       "      <td>0</td>\n",
       "      <td>0</td>\n",
       "    </tr>\n",
       "    <tr>\n",
       "      <th>3</th>\n",
       "      <td>33</td>\n",
       "      <td>False</td>\n",
       "      <td>Travel_Frequently</td>\n",
       "      <td>1392</td>\n",
       "      <td>Research &amp; Development</td>\n",
       "      <td>3</td>\n",
       "      <td>4</td>\n",
       "      <td>Life Sciences</td>\n",
       "      <td>1</td>\n",
       "      <td>5</td>\n",
       "      <td>4</td>\n",
       "      <td>Female</td>\n",
       "      <td>56</td>\n",
       "      <td>3</td>\n",
       "      <td>1</td>\n",
       "      <td>Research Scientist</td>\n",
       "      <td>3</td>\n",
       "      <td>Married</td>\n",
       "      <td>2909</td>\n",
       "      <td>23159</td>\n",
       "      <td>1</td>\n",
       "      <td>True</td>\n",
       "      <td>True</td>\n",
       "      <td>11</td>\n",
       "      <td>3</td>\n",
       "      <td>3</td>\n",
       "      <td>80</td>\n",
       "      <td>0</td>\n",
       "      <td>8</td>\n",
       "      <td>3</td>\n",
       "      <td>3</td>\n",
       "      <td>8</td>\n",
       "      <td>7</td>\n",
       "      <td>3</td>\n",
       "      <td>0</td>\n",
       "    </tr>\n",
       "    <tr>\n",
       "      <th>4</th>\n",
       "      <td>27</td>\n",
       "      <td>False</td>\n",
       "      <td>Travel_Rarely</td>\n",
       "      <td>591</td>\n",
       "      <td>Research &amp; Development</td>\n",
       "      <td>2</td>\n",
       "      <td>1</td>\n",
       "      <td>Medical</td>\n",
       "      <td>1</td>\n",
       "      <td>7</td>\n",
       "      <td>1</td>\n",
       "      <td>Male</td>\n",
       "      <td>40</td>\n",
       "      <td>3</td>\n",
       "      <td>1</td>\n",
       "      <td>Laboratory Technician</td>\n",
       "      <td>2</td>\n",
       "      <td>Married</td>\n",
       "      <td>3468</td>\n",
       "      <td>16632</td>\n",
       "      <td>9</td>\n",
       "      <td>True</td>\n",
       "      <td>False</td>\n",
       "      <td>12</td>\n",
       "      <td>3</td>\n",
       "      <td>4</td>\n",
       "      <td>80</td>\n",
       "      <td>1</td>\n",
       "      <td>6</td>\n",
       "      <td>3</td>\n",
       "      <td>3</td>\n",
       "      <td>2</td>\n",
       "      <td>2</td>\n",
       "      <td>2</td>\n",
       "      <td>2</td>\n",
       "    </tr>\n",
       "  </tbody>\n",
       "</table>\n",
       "</div>"
      ],
      "text/plain": [
       "   Age  Attrition     BusinessTravel  DailyRate              Department  \\\n",
       "0   41       True      Travel_Rarely       1102                   Sales   \n",
       "1   49      False  Travel_Frequently        279  Research & Development   \n",
       "2   37       True      Travel_Rarely       1373  Research & Development   \n",
       "3   33      False  Travel_Frequently       1392  Research & Development   \n",
       "4   27      False      Travel_Rarely        591  Research & Development   \n",
       "\n",
       "   DistanceFromHome  Education EducationField  EmployeeCount  EmployeeNumber  \\\n",
       "0                 1          2  Life Sciences              1               1   \n",
       "1                 8          1  Life Sciences              1               2   \n",
       "2                 2          2          Other              1               4   \n",
       "3                 3          4  Life Sciences              1               5   \n",
       "4                 2          1        Medical              1               7   \n",
       "\n",
       "   EnvironmentSatisfaction  Gender  HourlyRate  JobInvolvement  JobLevel  \\\n",
       "0                        2  Female          94               3         2   \n",
       "1                        3    Male          61               2         2   \n",
       "2                        4    Male          92               2         1   \n",
       "3                        4  Female          56               3         1   \n",
       "4                        1    Male          40               3         1   \n",
       "\n",
       "                 JobRole  JobSatisfaction MaritalStatus  MonthlyIncome  \\\n",
       "0        Sales Executive                4        Single           5993   \n",
       "1     Research Scientist                2       Married           5130   \n",
       "2  Laboratory Technician                3        Single           2090   \n",
       "3     Research Scientist                3       Married           2909   \n",
       "4  Laboratory Technician                2       Married           3468   \n",
       "\n",
       "   MonthlyRate  NumCompaniesWorked  Over18  OverTime  PercentSalaryHike  \\\n",
       "0        19479                   8    True      True                 11   \n",
       "1        24907                   1    True     False                 23   \n",
       "2         2396                   6    True      True                 15   \n",
       "3        23159                   1    True      True                 11   \n",
       "4        16632                   9    True     False                 12   \n",
       "\n",
       "   PerformanceRating  RelationshipSatisfaction  StandardHours  \\\n",
       "0                  3                         1             80   \n",
       "1                  4                         4             80   \n",
       "2                  3                         2             80   \n",
       "3                  3                         3             80   \n",
       "4                  3                         4             80   \n",
       "\n",
       "   StockOptionLevel  TotalWorkingYears  TrainingTimesLastYear  \\\n",
       "0                 0                  8                      0   \n",
       "1                 1                 10                      3   \n",
       "2                 0                  7                      3   \n",
       "3                 0                  8                      3   \n",
       "4                 1                  6                      3   \n",
       "\n",
       "   WorkLifeBalance  YearsAtCompany  YearsInCurrentRole  \\\n",
       "0                1               6                   4   \n",
       "1                3              10                   7   \n",
       "2                3               0                   0   \n",
       "3                3               8                   7   \n",
       "4                3               2                   2   \n",
       "\n",
       "   YearsSinceLastPromotion  YearsWithCurrManager  \n",
       "0                        0                     5  \n",
       "1                        1                     7  \n",
       "2                        0                     0  \n",
       "3                        3                     0  \n",
       "4                        2                     2  "
      ]
     },
     "execution_count": 6,
     "metadata": {},
     "output_type": "execute_result"
    }
   ],
   "source": [
    "ws = Workspace.from_config()\n",
    "\n",
    "# Create an experiment\n",
    "experiment_name = 'attrition-automl'\n",
    "experiment=Experiment(ws, experiment_name)\n",
    "\n",
    "# Retrieve the data from the workspace\n",
    "dataset = Dataset.get_by_name(ws, name='attrition')\n",
    "df = dataset.to_pandas_dataframe()\n",
    "\n",
    "# Show the first rows\n",
    "df.head()"
   ]
  },
  {
   "cell_type": "markdown",
   "metadata": {},
   "source": [
    "## Compute Target"
   ]
  },
  {
   "cell_type": "code",
   "execution_count": 8,
   "metadata": {},
   "outputs": [
    {
     "name": "stdout",
     "output_type": "stream",
     "text": [
      "Found existing cluster, using it.\n"
     ]
    }
   ],
   "source": [
    "compute_cluster_name = \"cpu-cluster\"\n",
    "\n",
    "# Retrieve the compute target\n",
    "# Verify that cluster does not exist already\n",
    "try:\n",
    "    compute_target = ComputeTarget(workspace=ws, name=compute_cluster_name)\n",
    "    print(\"Found existing cluster, using it.\")\n",
    "except ComputeTargetException:\n",
    "    compute_config = AmlCompute.provisioning_configuration(vm_size='STANDARD_D2_V2',\n",
    "                                                           max_nodes=5)\n",
    "    compute_target = ComputeTarget.create(ws, compute_cluster_name, compute_config)\n",
    "    compute_target.wait_for_completion(show_output=True, min_node_count = 1, timeout_in_minutes = 10)"
   ]
  },
  {
   "cell_type": "markdown",
   "metadata": {},
   "source": [
    "## AutoML Configuration\n",
    "\n",
    "TODO: Explain why you chose the automl settings and cofiguration you used below.\n",
    "- \"enable_early_stopping\" is set to true to discard non-promising training runs.\n",
    "- \"enable_onnx_compatible_models\" is set to true as onnx is a great format for standardized model deployment and I want to use it as part of the project\n",
    "- \"experiment_timeout_minutes\" is set 60 to give the automl experiment 60min of training time.\n",
    "- \"max_concurrent_iterations\" is set to 4 as this number should be smaller than the node count of the cluster (which is 5) but should be leveraged to a maximum for parallel model training.\n",
    "- AUC_weighted is used as \"primary_metric\" because it can account for imbalanced classes (which we face here) in contrast to simple accuracy.\n",
    "- As the dataset has between 1,000 and 20,000 rows, 3-fold cross validation will be used for the automated model evaluation by default (since no validation_data or n_cross_validations is specified).\n",
    "- \"featurization\" is set to auto for automatic featurization."
   ]
  },
  {
   "cell_type": "code",
   "execution_count": 10,
   "metadata": {},
   "outputs": [
    {
     "data": {
      "text/plain": [
       "['norm_macro_recall',\n",
       " 'average_precision_score_weighted',\n",
       " 'precision_score_weighted',\n",
       " 'AUC_weighted',\n",
       " 'accuracy']"
      ]
     },
     "execution_count": 10,
     "metadata": {},
     "output_type": "execute_result"
    }
   ],
   "source": [
    "# Check available primary metrics for classification\n",
    "get_primary_metrics(\"classification\")"
   ]
  },
  {
   "cell_type": "code",
   "execution_count": 13,
   "metadata": {
    "collapsed": false,
    "gather": {
     "logged": 1598429217746
    },
    "jupyter": {
     "outputs_hidden": false,
     "source_hidden": false
    },
    "nteract": {
     "transient": {
      "deleting": false
     }
    }
   },
   "outputs": [],
   "source": [
    "# TODO: Put your automl settings here\n",
    "automl_settings = {\n",
    "    \"enable_early_stopping\": True,\n",
    "    \"enable_onnx_compatible_models\": True,\n",
    "    \"experiment_timeout_minutes\": 60,\n",
    "    \"max_concurrent_iterations\": 4,\n",
    "    \"primary_metric\" : \"AUC_weighted\"\n",
    "}\n",
    "\n",
    "# TODO: Put your automl config here\n",
    "automl_config = AutoMLConfig(\n",
    "    compute_target = compute_target,\n",
    "    task = \"classification\",\n",
    "    training_data = dataset,\n",
    "    label_column_name = \"Attrition\",\n",
    "    path = \"./automl\",\n",
    "    featurization = \"auto\",\n",
    "    **automl_settings\n",
    ")"
   ]
  },
  {
   "cell_type": "code",
   "execution_count": 14,
   "metadata": {
    "collapsed": false,
    "gather": {
     "logged": 1598431107951
    },
    "jupyter": {
     "outputs_hidden": false,
     "source_hidden": false
    },
    "nteract": {
     "transient": {
      "deleting": false
     }
    }
   },
   "outputs": [
    {
     "name": "stdout",
     "output_type": "stream",
     "text": [
      "Running on remote.\n"
     ]
    }
   ],
   "source": [
    "# TODO: Submit your experiment\n",
    "automl_run = experiment.submit(automl_config)"
   ]
  },
  {
   "cell_type": "markdown",
   "metadata": {},
   "source": [
    "## Run Details\n",
    "\n",
    "OPTIONAL: Write about the different models trained and their performance. Why do you think some models did better than others?\n",
    "\n",
    "TODO: In the cell below, use the `RunDetails` widget to show the different experiments."
   ]
  },
  {
   "cell_type": "code",
   "execution_count": 15,
   "metadata": {
    "collapsed": false,
    "gather": {
     "logged": 1598431121770
    },
    "jupyter": {
     "outputs_hidden": false,
     "source_hidden": false
    },
    "nteract": {
     "transient": {
      "deleting": false
     }
    }
   },
   "outputs": [
    {
     "data": {
      "application/vnd.jupyter.widget-view+json": {
       "model_id": "b66955f2e6d547439dd961bd0355dfd2",
       "version_major": 2,
       "version_minor": 0
      },
      "text/plain": [
       "_AutoMLWidget(widget_settings={'childWidgetDisplay': 'popup', 'send_telemetry': False, 'log_level': 'INFO', 's…"
      ]
     },
     "metadata": {},
     "output_type": "display_data"
    },
    {
     "data": {
      "application/aml.mini.widget.v1": "{\"status\": \"Completed\", \"workbench_run_details_uri\": \"https://ml.azure.com/experiments/attrition-automl/runs/AutoML_169df40b-a192-427a-9e6b-74822c261a15?wsid=/subscriptions/bf088f59-f015-4332-bd36-54b988be7c90/resourcegroups/sbirk-aml-rg/workspaces/sbirk-aml-ws\", \"run_id\": \"AutoML_169df40b-a192-427a-9e6b-74822c261a15\", \"run_properties\": {\"run_id\": \"AutoML_169df40b-a192-427a-9e6b-74822c261a15\", \"created_utc\": \"2020-12-16T19:46:39.975865Z\", \"properties\": {\"num_iterations\": \"1000\", \"training_type\": \"TrainFull\", \"acquisition_function\": \"EI\", \"primary_metric\": \"AUC_weighted\", \"train_split\": \"0\", \"acquisition_parameter\": \"0\", \"num_cross_validation\": null, \"target\": \"cpu-cluster\", \"AMLSettingsJsonString\": \"{\\\"path\\\":null,\\\"name\\\":\\\"attrition-automl\\\",\\\"subscription_id\\\":\\\"bf088f59-f015-4332-bd36-54b988be7c90\\\",\\\"resource_group\\\":\\\"sbirk-aml-rg\\\",\\\"workspace_name\\\":\\\"sbirk-aml-ws\\\",\\\"region\\\":\\\"westeurope\\\",\\\"compute_target\\\":\\\"cpu-cluster\\\",\\\"spark_service\\\":null,\\\"azure_service\\\":\\\"remote\\\",\\\"_local_managed_run_id\\\":null,\\\"many_models\\\":false,\\\"pipeline_fetch_max_batch_size\\\":1,\\\"iterations\\\":1000,\\\"primary_metric\\\":\\\"AUC_weighted\\\",\\\"task_type\\\":\\\"classification\\\",\\\"data_script\\\":null,\\\"validation_size\\\":0.0,\\\"n_cross_validations\\\":null,\\\"y_min\\\":null,\\\"y_max\\\":null,\\\"num_classes\\\":null,\\\"featurization\\\":\\\"auto\\\",\\\"_ignore_package_version_incompatibilities\\\":false,\\\"is_timeseries\\\":false,\\\"max_cores_per_iteration\\\":1,\\\"max_concurrent_iterations\\\":4,\\\"iteration_timeout_minutes\\\":null,\\\"mem_in_mb\\\":null,\\\"enforce_time_on_windows\\\":false,\\\"experiment_timeout_minutes\\\":60,\\\"experiment_exit_score\\\":null,\\\"whitelist_models\\\":null,\\\"blacklist_algos\\\":[\\\"TensorFlowLinearClassifier\\\",\\\"TensorFlowDNN\\\"],\\\"supported_models\\\":[\\\"TensorFlowDNN\\\",\\\"KNN\\\",\\\"DecisionTree\\\",\\\"AveragedPerceptronClassifier\\\",\\\"RandomForest\\\",\\\"LightGBM\\\",\\\"GradientBoosting\\\",\\\"SGD\\\",\\\"TensorFlowLinearClassifier\\\",\\\"BernoulliNaiveBayes\\\",\\\"LinearSVM\\\",\\\"LogisticRegression\\\",\\\"ExtremeRandomTrees\\\",\\\"XGBoostClassifier\\\",\\\"SVM\\\",\\\"MultinomialNaiveBayes\\\"],\\\"auto_blacklist\\\":true,\\\"blacklist_samples_reached\\\":false,\\\"exclude_nan_labels\\\":true,\\\"verbosity\\\":20,\\\"_debug_log\\\":\\\"azureml_automl.log\\\",\\\"show_warnings\\\":false,\\\"model_explainability\\\":true,\\\"service_url\\\":null,\\\"sdk_url\\\":null,\\\"sdk_packages\\\":null,\\\"enable_onnx_compatible_models\\\":true,\\\"enable_split_onnx_featurizer_estimator_models\\\":false,\\\"vm_type\\\":\\\"STANDARD_D2_V2\\\",\\\"telemetry_verbosity\\\":20,\\\"send_telemetry\\\":true,\\\"enable_dnn\\\":false,\\\"scenario\\\":\\\"SDK-1.13.0\\\",\\\"environment_label\\\":null,\\\"force_text_dnn\\\":false,\\\"enable_feature_sweeping\\\":false,\\\"enable_early_stopping\\\":true,\\\"early_stopping_n_iters\\\":10,\\\"metrics\\\":null,\\\"enable_ensembling\\\":true,\\\"enable_stack_ensembling\\\":false,\\\"ensemble_iterations\\\":15,\\\"enable_tf\\\":false,\\\"enable_subsampling\\\":null,\\\"subsample_seed\\\":null,\\\"enable_nimbusml\\\":false,\\\"enable_streaming\\\":false,\\\"force_streaming\\\":false,\\\"track_child_runs\\\":true,\\\"allowed_private_models\\\":[],\\\"label_column_name\\\":\\\"Attrition\\\",\\\"weight_column_name\\\":null,\\\"cv_split_column_names\\\":null,\\\"enable_local_managed\\\":false,\\\"cost_mode\\\":1,\\\"lag_length\\\":0,\\\"metric_operation\\\":\\\"maximize\\\",\\\"preprocess\\\":true}\", \"DataPrepJsonString\": \"{\\\\\\\"training_data\\\\\\\": \\\\\\\"{\\\\\\\\\\\\\\\"blocks\\\\\\\\\\\\\\\": [{\\\\\\\\\\\\\\\"id\\\\\\\\\\\\\\\": \\\\\\\\\\\\\\\"d117ea17-85fa-433e-ad4e-efc1c8b4992c\\\\\\\\\\\\\\\", \\\\\\\\\\\\\\\"type\\\\\\\\\\\\\\\": \\\\\\\\\\\\\\\"Microsoft.DPrep.GetDatastoreFilesBlock\\\\\\\\\\\\\\\", \\\\\\\\\\\\\\\"arguments\\\\\\\\\\\\\\\": {\\\\\\\\\\\\\\\"datastores\\\\\\\\\\\\\\\": [{\\\\\\\\\\\\\\\"datastoreName\\\\\\\\\\\\\\\": \\\\\\\\\\\\\\\"workspaceblobstore\\\\\\\\\\\\\\\", \\\\\\\\\\\\\\\"path\\\\\\\\\\\\\\\": \\\\\\\\\\\\\\\"UI/12-16-2020_064721_UTC/attrition.csv\\\\\\\\\\\\\\\", \\\\\\\\\\\\\\\"resourceGroup\\\\\\\\\\\\\\\": \\\\\\\\\\\\\\\"sbirk-aml-rg\\\\\\\\\\\\\\\", \\\\\\\\\\\\\\\"subscription\\\\\\\\\\\\\\\": \\\\\\\\\\\\\\\"bf088f59-f015-4332-bd36-54b988be7c90\\\\\\\\\\\\\\\", \\\\\\\\\\\\\\\"workspaceName\\\\\\\\\\\\\\\": \\\\\\\\\\\\\\\"sbirk-aml-ws\\\\\\\\\\\\\\\"}]}, \\\\\\\\\\\\\\\"localData\\\\\\\\\\\\\\\": {}, \\\\\\\\\\\\\\\"isEnabled\\\\\\\\\\\\\\\": true, \\\\\\\\\\\\\\\"name\\\\\\\\\\\\\\\": null, \\\\\\\\\\\\\\\"annotation\\\\\\\\\\\\\\\": null}, {\\\\\\\\\\\\\\\"id\\\\\\\\\\\\\\\": \\\\\\\\\\\\\\\"3836527e-2860-4eec-a876-1d3362f73588\\\\\\\\\\\\\\\", \\\\\\\\\\\\\\\"type\\\\\\\\\\\\\\\": \\\\\\\\\\\\\\\"Microsoft.DPrep.ParseDelimitedBlock\\\\\\\\\\\\\\\", \\\\\\\\\\\\\\\"arguments\\\\\\\\\\\\\\\": {\\\\\\\\\\\\\\\"columnHeadersMode\\\\\\\\\\\\\\\": 1, \\\\\\\\\\\\\\\"fileEncoding\\\\\\\\\\\\\\\": 0, \\\\\\\\\\\\\\\"handleQuotedLineBreaks\\\\\\\\\\\\\\\": false, \\\\\\\\\\\\\\\"preview\\\\\\\\\\\\\\\": false, \\\\\\\\\\\\\\\"separator\\\\\\\\\\\\\\\": \\\\\\\\\\\\\\\",\\\\\\\\\\\\\\\", \\\\\\\\\\\\\\\"skipRows\\\\\\\\\\\\\\\": 0, \\\\\\\\\\\\\\\"skipRowsMode\\\\\\\\\\\\\\\": 0}, \\\\\\\\\\\\\\\"localData\\\\\\\\\\\\\\\": {}, \\\\\\\\\\\\\\\"isEnabled\\\\\\\\\\\\\\\": true, \\\\\\\\\\\\\\\"name\\\\\\\\\\\\\\\": null, \\\\\\\\\\\\\\\"annotation\\\\\\\\\\\\\\\": null}, {\\\\\\\\\\\\\\\"id\\\\\\\\\\\\\\\": \\\\\\\\\\\\\\\"5751ae0a-2765-4053-94c2-da6135991157\\\\\\\\\\\\\\\", \\\\\\\\\\\\\\\"type\\\\\\\\\\\\\\\": \\\\\\\\\\\\\\\"Microsoft.DPrep.DropColumnsBlock\\\\\\\\\\\\\\\", \\\\\\\\\\\\\\\"arguments\\\\\\\\\\\\\\\": {\\\\\\\\\\\\\\\"columns\\\\\\\\\\\\\\\": {\\\\\\\\\\\\\\\"type\\\\\\\\\\\\\\\": 0, \\\\\\\\\\\\\\\"details\\\\\\\\\\\\\\\": {\\\\\\\\\\\\\\\"selectedColumns\\\\\\\\\\\\\\\": [\\\\\\\\\\\\\\\"Path\\\\\\\\\\\\\\\"]}}}, \\\\\\\\\\\\\\\"localData\\\\\\\\\\\\\\\": {}, \\\\\\\\\\\\\\\"isEnabled\\\\\\\\\\\\\\\": true, \\\\\\\\\\\\\\\"name\\\\\\\\\\\\\\\": null, \\\\\\\\\\\\\\\"annotation\\\\\\\\\\\\\\\": null}, {\\\\\\\\\\\\\\\"id\\\\\\\\\\\\\\\": \\\\\\\\\\\\\\\"27a028b9-947f-4472-b6be-75608e41b149\\\\\\\\\\\\\\\", \\\\\\\\\\\\\\\"type\\\\\\\\\\\\\\\": \\\\\\\\\\\\\\\"Microsoft.DPrep.SetColumnTypesBlock\\\\\\\\\\\\\\\", \\\\\\\\\\\\\\\"arguments\\\\\\\\\\\\\\\": {\\\\\\\\\\\\\\\"columnConversion\\\\\\\\\\\\\\\": [{\\\\\\\\\\\\\\\"column\\\\\\\\\\\\\\\": {\\\\\\\\\\\\\\\"type\\\\\\\\\\\\\\\": 2, \\\\\\\\\\\\\\\"details\\\\\\\\\\\\\\\": {\\\\\\\\\\\\\\\"selectedColumn\\\\\\\\\\\\\\\": \\\\\\\\\\\\\\\"Path\\\\\\\\\\\\\\\"}}, \\\\\\\\\\\\\\\"typeProperty\\\\\\\\\\\\\\\": 0}, {\\\\\\\\\\\\\\\"column\\\\\\\\\\\\\\\": {\\\\\\\\\\\\\\\"type\\\\\\\\\\\\\\\": 2, \\\\\\\\\\\\\\\"details\\\\\\\\\\\\\\\": {\\\\\\\\\\\\\\\"selectedColumn\\\\\\\\\\\\\\\": \\\\\\\\\\\\\\\"Age\\\\\\\\\\\\\\\"}}, \\\\\\\\\\\\\\\"typeProperty\\\\\\\\\\\\\\\": 2}, {\\\\\\\\\\\\\\\"column\\\\\\\\\\\\\\\": {\\\\\\\\\\\\\\\"type\\\\\\\\\\\\\\\": 2, \\\\\\\\\\\\\\\"details\\\\\\\\\\\\\\\": {\\\\\\\\\\\\\\\"selectedColumn\\\\\\\\\\\\\\\": \\\\\\\\\\\\\\\"Attrition\\\\\\\\\\\\\\\"}}, \\\\\\\\\\\\\\\"typeProperty\\\\\\\\\\\\\\\": 1}, {\\\\\\\\\\\\\\\"column\\\\\\\\\\\\\\\": {\\\\\\\\\\\\\\\"type\\\\\\\\\\\\\\\": 2, \\\\\\\\\\\\\\\"details\\\\\\\\\\\\\\\": {\\\\\\\\\\\\\\\"selectedColumn\\\\\\\\\\\\\\\": \\\\\\\\\\\\\\\"BusinessTravel\\\\\\\\\\\\\\\"}}, \\\\\\\\\\\\\\\"typeProperty\\\\\\\\\\\\\\\": 0}, {\\\\\\\\\\\\\\\"column\\\\\\\\\\\\\\\": {\\\\\\\\\\\\\\\"type\\\\\\\\\\\\\\\": 2, \\\\\\\\\\\\\\\"details\\\\\\\\\\\\\\\": {\\\\\\\\\\\\\\\"selectedColumn\\\\\\\\\\\\\\\": \\\\\\\\\\\\\\\"DailyRate\\\\\\\\\\\\\\\"}}, \\\\\\\\\\\\\\\"typeProperty\\\\\\\\\\\\\\\": 2}, {\\\\\\\\\\\\\\\"column\\\\\\\\\\\\\\\": {\\\\\\\\\\\\\\\"type\\\\\\\\\\\\\\\": 2, \\\\\\\\\\\\\\\"details\\\\\\\\\\\\\\\": {\\\\\\\\\\\\\\\"selectedColumn\\\\\\\\\\\\\\\": \\\\\\\\\\\\\\\"Department\\\\\\\\\\\\\\\"}}, \\\\\\\\\\\\\\\"typeProperty\\\\\\\\\\\\\\\": 0}, {\\\\\\\\\\\\\\\"column\\\\\\\\\\\\\\\": {\\\\\\\\\\\\\\\"type\\\\\\\\\\\\\\\": 2, \\\\\\\\\\\\\\\"details\\\\\\\\\\\\\\\": {\\\\\\\\\\\\\\\"selectedColumn\\\\\\\\\\\\\\\": \\\\\\\\\\\\\\\"DistanceFromHome\\\\\\\\\\\\\\\"}}, \\\\\\\\\\\\\\\"typeProperty\\\\\\\\\\\\\\\": 2}, {\\\\\\\\\\\\\\\"column\\\\\\\\\\\\\\\": {\\\\\\\\\\\\\\\"type\\\\\\\\\\\\\\\": 2, \\\\\\\\\\\\\\\"details\\\\\\\\\\\\\\\": {\\\\\\\\\\\\\\\"selectedColumn\\\\\\\\\\\\\\\": \\\\\\\\\\\\\\\"Education\\\\\\\\\\\\\\\"}}, \\\\\\\\\\\\\\\"typeProperty\\\\\\\\\\\\\\\": 2}, {\\\\\\\\\\\\\\\"column\\\\\\\\\\\\\\\": {\\\\\\\\\\\\\\\"type\\\\\\\\\\\\\\\": 2, \\\\\\\\\\\\\\\"details\\\\\\\\\\\\\\\": {\\\\\\\\\\\\\\\"selectedColumn\\\\\\\\\\\\\\\": \\\\\\\\\\\\\\\"EducationField\\\\\\\\\\\\\\\"}}, \\\\\\\\\\\\\\\"typeProperty\\\\\\\\\\\\\\\": 0}, {\\\\\\\\\\\\\\\"column\\\\\\\\\\\\\\\": {\\\\\\\\\\\\\\\"type\\\\\\\\\\\\\\\": 2, \\\\\\\\\\\\\\\"details\\\\\\\\\\\\\\\": {\\\\\\\\\\\\\\\"selectedColumn\\\\\\\\\\\\\\\": \\\\\\\\\\\\\\\"EmployeeCount\\\\\\\\\\\\\\\"}}, \\\\\\\\\\\\\\\"typeProperty\\\\\\\\\\\\\\\": 2}, {\\\\\\\\\\\\\\\"column\\\\\\\\\\\\\\\": {\\\\\\\\\\\\\\\"type\\\\\\\\\\\\\\\": 2, \\\\\\\\\\\\\\\"details\\\\\\\\\\\\\\\": {\\\\\\\\\\\\\\\"selectedColumn\\\\\\\\\\\\\\\": \\\\\\\\\\\\\\\"EmployeeNumber\\\\\\\\\\\\\\\"}}, \\\\\\\\\\\\\\\"typeProperty\\\\\\\\\\\\\\\": 2}, {\\\\\\\\\\\\\\\"column\\\\\\\\\\\\\\\": {\\\\\\\\\\\\\\\"type\\\\\\\\\\\\\\\": 2, \\\\\\\\\\\\\\\"details\\\\\\\\\\\\\\\": {\\\\\\\\\\\\\\\"selectedColumn\\\\\\\\\\\\\\\": \\\\\\\\\\\\\\\"EnvironmentSatisfaction\\\\\\\\\\\\\\\"}}, \\\\\\\\\\\\\\\"typeProperty\\\\\\\\\\\\\\\": 2}, {\\\\\\\\\\\\\\\"column\\\\\\\\\\\\\\\": {\\\\\\\\\\\\\\\"type\\\\\\\\\\\\\\\": 2, \\\\\\\\\\\\\\\"details\\\\\\\\\\\\\\\": {\\\\\\\\\\\\\\\"selectedColumn\\\\\\\\\\\\\\\": \\\\\\\\\\\\\\\"Gender\\\\\\\\\\\\\\\"}}, \\\\\\\\\\\\\\\"typeProperty\\\\\\\\\\\\\\\": 0}, {\\\\\\\\\\\\\\\"column\\\\\\\\\\\\\\\": {\\\\\\\\\\\\\\\"type\\\\\\\\\\\\\\\": 2, \\\\\\\\\\\\\\\"details\\\\\\\\\\\\\\\": {\\\\\\\\\\\\\\\"selectedColumn\\\\\\\\\\\\\\\": \\\\\\\\\\\\\\\"HourlyRate\\\\\\\\\\\\\\\"}}, \\\\\\\\\\\\\\\"typeProperty\\\\\\\\\\\\\\\": 2}, {\\\\\\\\\\\\\\\"column\\\\\\\\\\\\\\\": {\\\\\\\\\\\\\\\"type\\\\\\\\\\\\\\\": 2, \\\\\\\\\\\\\\\"details\\\\\\\\\\\\\\\": {\\\\\\\\\\\\\\\"selectedColumn\\\\\\\\\\\\\\\": \\\\\\\\\\\\\\\"JobInvolvement\\\\\\\\\\\\\\\"}}, \\\\\\\\\\\\\\\"typeProperty\\\\\\\\\\\\\\\": 2}, {\\\\\\\\\\\\\\\"column\\\\\\\\\\\\\\\": {\\\\\\\\\\\\\\\"type\\\\\\\\\\\\\\\": 2, \\\\\\\\\\\\\\\"details\\\\\\\\\\\\\\\": {\\\\\\\\\\\\\\\"selectedColumn\\\\\\\\\\\\\\\": \\\\\\\\\\\\\\\"JobLevel\\\\\\\\\\\\\\\"}}, \\\\\\\\\\\\\\\"typeProperty\\\\\\\\\\\\\\\": 2}, {\\\\\\\\\\\\\\\"column\\\\\\\\\\\\\\\": {\\\\\\\\\\\\\\\"type\\\\\\\\\\\\\\\": 2, \\\\\\\\\\\\\\\"details\\\\\\\\\\\\\\\": {\\\\\\\\\\\\\\\"selectedColumn\\\\\\\\\\\\\\\": \\\\\\\\\\\\\\\"JobRole\\\\\\\\\\\\\\\"}}, \\\\\\\\\\\\\\\"typeProperty\\\\\\\\\\\\\\\": 0}, {\\\\\\\\\\\\\\\"column\\\\\\\\\\\\\\\": {\\\\\\\\\\\\\\\"type\\\\\\\\\\\\\\\": 2, \\\\\\\\\\\\\\\"details\\\\\\\\\\\\\\\": {\\\\\\\\\\\\\\\"selectedColumn\\\\\\\\\\\\\\\": \\\\\\\\\\\\\\\"JobSatisfaction\\\\\\\\\\\\\\\"}}, \\\\\\\\\\\\\\\"typeProperty\\\\\\\\\\\\\\\": 2}, {\\\\\\\\\\\\\\\"column\\\\\\\\\\\\\\\": {\\\\\\\\\\\\\\\"type\\\\\\\\\\\\\\\": 2, \\\\\\\\\\\\\\\"details\\\\\\\\\\\\\\\": {\\\\\\\\\\\\\\\"selectedColumn\\\\\\\\\\\\\\\": \\\\\\\\\\\\\\\"MaritalStatus\\\\\\\\\\\\\\\"}}, \\\\\\\\\\\\\\\"typeProperty\\\\\\\\\\\\\\\": 0}, {\\\\\\\\\\\\\\\"column\\\\\\\\\\\\\\\": {\\\\\\\\\\\\\\\"type\\\\\\\\\\\\\\\": 2, \\\\\\\\\\\\\\\"details\\\\\\\\\\\\\\\": {\\\\\\\\\\\\\\\"selectedColumn\\\\\\\\\\\\\\\": \\\\\\\\\\\\\\\"MonthlyIncome\\\\\\\\\\\\\\\"}}, \\\\\\\\\\\\\\\"typeProperty\\\\\\\\\\\\\\\": 2}, {\\\\\\\\\\\\\\\"column\\\\\\\\\\\\\\\": {\\\\\\\\\\\\\\\"type\\\\\\\\\\\\\\\": 2, \\\\\\\\\\\\\\\"details\\\\\\\\\\\\\\\": {\\\\\\\\\\\\\\\"selectedColumn\\\\\\\\\\\\\\\": \\\\\\\\\\\\\\\"MonthlyRate\\\\\\\\\\\\\\\"}}, \\\\\\\\\\\\\\\"typeProperty\\\\\\\\\\\\\\\": 2}, {\\\\\\\\\\\\\\\"column\\\\\\\\\\\\\\\": {\\\\\\\\\\\\\\\"type\\\\\\\\\\\\\\\": 2, \\\\\\\\\\\\\\\"details\\\\\\\\\\\\\\\": {\\\\\\\\\\\\\\\"selectedColumn\\\\\\\\\\\\\\\": \\\\\\\\\\\\\\\"NumCompaniesWorked\\\\\\\\\\\\\\\"}}, \\\\\\\\\\\\\\\"typeProperty\\\\\\\\\\\\\\\": 2}, {\\\\\\\\\\\\\\\"column\\\\\\\\\\\\\\\": {\\\\\\\\\\\\\\\"type\\\\\\\\\\\\\\\": 2, \\\\\\\\\\\\\\\"details\\\\\\\\\\\\\\\": {\\\\\\\\\\\\\\\"selectedColumn\\\\\\\\\\\\\\\": \\\\\\\\\\\\\\\"Over18\\\\\\\\\\\\\\\"}}, \\\\\\\\\\\\\\\"typeProperty\\\\\\\\\\\\\\\": 1}, {\\\\\\\\\\\\\\\"column\\\\\\\\\\\\\\\": {\\\\\\\\\\\\\\\"type\\\\\\\\\\\\\\\": 2, \\\\\\\\\\\\\\\"details\\\\\\\\\\\\\\\": {\\\\\\\\\\\\\\\"selectedColumn\\\\\\\\\\\\\\\": \\\\\\\\\\\\\\\"OverTime\\\\\\\\\\\\\\\"}}, \\\\\\\\\\\\\\\"typeProperty\\\\\\\\\\\\\\\": 1}, {\\\\\\\\\\\\\\\"column\\\\\\\\\\\\\\\": {\\\\\\\\\\\\\\\"type\\\\\\\\\\\\\\\": 2, \\\\\\\\\\\\\\\"details\\\\\\\\\\\\\\\": {\\\\\\\\\\\\\\\"selectedColumn\\\\\\\\\\\\\\\": \\\\\\\\\\\\\\\"PercentSalaryHike\\\\\\\\\\\\\\\"}}, \\\\\\\\\\\\\\\"typeProperty\\\\\\\\\\\\\\\": 2}, {\\\\\\\\\\\\\\\"column\\\\\\\\\\\\\\\": {\\\\\\\\\\\\\\\"type\\\\\\\\\\\\\\\": 2, \\\\\\\\\\\\\\\"details\\\\\\\\\\\\\\\": {\\\\\\\\\\\\\\\"selectedColumn\\\\\\\\\\\\\\\": \\\\\\\\\\\\\\\"PerformanceRating\\\\\\\\\\\\\\\"}}, \\\\\\\\\\\\\\\"typeProperty\\\\\\\\\\\\\\\": 2}, {\\\\\\\\\\\\\\\"column\\\\\\\\\\\\\\\": {\\\\\\\\\\\\\\\"type\\\\\\\\\\\\\\\": 2, \\\\\\\\\\\\\\\"details\\\\\\\\\\\\\\\": {\\\\\\\\\\\\\\\"selectedColumn\\\\\\\\\\\\\\\": \\\\\\\\\\\\\\\"RelationshipSatisfaction\\\\\\\\\\\\\\\"}}, \\\\\\\\\\\\\\\"typeProperty\\\\\\\\\\\\\\\": 2}, {\\\\\\\\\\\\\\\"column\\\\\\\\\\\\\\\": {\\\\\\\\\\\\\\\"type\\\\\\\\\\\\\\\": 2, \\\\\\\\\\\\\\\"details\\\\\\\\\\\\\\\": {\\\\\\\\\\\\\\\"selectedColumn\\\\\\\\\\\\\\\": \\\\\\\\\\\\\\\"StandardHours\\\\\\\\\\\\\\\"}}, \\\\\\\\\\\\\\\"typeProperty\\\\\\\\\\\\\\\": 2}, {\\\\\\\\\\\\\\\"column\\\\\\\\\\\\\\\": {\\\\\\\\\\\\\\\"type\\\\\\\\\\\\\\\": 2, \\\\\\\\\\\\\\\"details\\\\\\\\\\\\\\\": {\\\\\\\\\\\\\\\"selectedColumn\\\\\\\\\\\\\\\": \\\\\\\\\\\\\\\"StockOptionLevel\\\\\\\\\\\\\\\"}}, \\\\\\\\\\\\\\\"typeProperty\\\\\\\\\\\\\\\": 2}, {\\\\\\\\\\\\\\\"column\\\\\\\\\\\\\\\": {\\\\\\\\\\\\\\\"type\\\\\\\\\\\\\\\": 2, \\\\\\\\\\\\\\\"details\\\\\\\\\\\\\\\": {\\\\\\\\\\\\\\\"selectedColumn\\\\\\\\\\\\\\\": \\\\\\\\\\\\\\\"TotalWorkingYears\\\\\\\\\\\\\\\"}}, \\\\\\\\\\\\\\\"typeProperty\\\\\\\\\\\\\\\": 2}, {\\\\\\\\\\\\\\\"column\\\\\\\\\\\\\\\": {\\\\\\\\\\\\\\\"type\\\\\\\\\\\\\\\": 2, \\\\\\\\\\\\\\\"details\\\\\\\\\\\\\\\": {\\\\\\\\\\\\\\\"selectedColumn\\\\\\\\\\\\\\\": \\\\\\\\\\\\\\\"TrainingTimesLastYear\\\\\\\\\\\\\\\"}}, \\\\\\\\\\\\\\\"typeProperty\\\\\\\\\\\\\\\": 2}, {\\\\\\\\\\\\\\\"column\\\\\\\\\\\\\\\": {\\\\\\\\\\\\\\\"type\\\\\\\\\\\\\\\": 2, \\\\\\\\\\\\\\\"details\\\\\\\\\\\\\\\": {\\\\\\\\\\\\\\\"selectedColumn\\\\\\\\\\\\\\\": \\\\\\\\\\\\\\\"WorkLifeBalance\\\\\\\\\\\\\\\"}}, \\\\\\\\\\\\\\\"typeProperty\\\\\\\\\\\\\\\": 2}, {\\\\\\\\\\\\\\\"column\\\\\\\\\\\\\\\": {\\\\\\\\\\\\\\\"type\\\\\\\\\\\\\\\": 2, \\\\\\\\\\\\\\\"details\\\\\\\\\\\\\\\": {\\\\\\\\\\\\\\\"selectedColumn\\\\\\\\\\\\\\\": \\\\\\\\\\\\\\\"YearsAtCompany\\\\\\\\\\\\\\\"}}, \\\\\\\\\\\\\\\"typeProperty\\\\\\\\\\\\\\\": 2}, {\\\\\\\\\\\\\\\"column\\\\\\\\\\\\\\\": {\\\\\\\\\\\\\\\"type\\\\\\\\\\\\\\\": 2, \\\\\\\\\\\\\\\"details\\\\\\\\\\\\\\\": {\\\\\\\\\\\\\\\"selectedColumn\\\\\\\\\\\\\\\": \\\\\\\\\\\\\\\"YearsInCurrentRole\\\\\\\\\\\\\\\"}}, \\\\\\\\\\\\\\\"typeProperty\\\\\\\\\\\\\\\": 2}, {\\\\\\\\\\\\\\\"column\\\\\\\\\\\\\\\": {\\\\\\\\\\\\\\\"type\\\\\\\\\\\\\\\": 2, \\\\\\\\\\\\\\\"details\\\\\\\\\\\\\\\": {\\\\\\\\\\\\\\\"selectedColumn\\\\\\\\\\\\\\\": \\\\\\\\\\\\\\\"YearsSinceLastPromotion\\\\\\\\\\\\\\\"}}, \\\\\\\\\\\\\\\"typeProperty\\\\\\\\\\\\\\\": 2}, {\\\\\\\\\\\\\\\"column\\\\\\\\\\\\\\\": {\\\\\\\\\\\\\\\"type\\\\\\\\\\\\\\\": 2, \\\\\\\\\\\\\\\"details\\\\\\\\\\\\\\\": {\\\\\\\\\\\\\\\"selectedColumn\\\\\\\\\\\\\\\": \\\\\\\\\\\\\\\"YearsWithCurrManager\\\\\\\\\\\\\\\"}}, \\\\\\\\\\\\\\\"typeProperty\\\\\\\\\\\\\\\": 2}]}, \\\\\\\\\\\\\\\"localData\\\\\\\\\\\\\\\": {}, \\\\\\\\\\\\\\\"isEnabled\\\\\\\\\\\\\\\": true, \\\\\\\\\\\\\\\"name\\\\\\\\\\\\\\\": null, \\\\\\\\\\\\\\\"annotation\\\\\\\\\\\\\\\": null}], \\\\\\\\\\\\\\\"inspectors\\\\\\\\\\\\\\\": [], \\\\\\\\\\\\\\\"meta\\\\\\\\\\\\\\\": {\\\\\\\\\\\\\\\"savedDatasetId\\\\\\\\\\\\\\\": \\\\\\\\\\\\\\\"79df80b0-cde7-4c2b-ba21-572eddd84f65\\\\\\\\\\\\\\\", \\\\\\\\\\\\\\\"datasetType\\\\\\\\\\\\\\\": \\\\\\\\\\\\\\\"tabular\\\\\\\\\\\\\\\", \\\\\\\\\\\\\\\"subscriptionId\\\\\\\\\\\\\\\": \\\\\\\\\\\\\\\"bf088f59-f015-4332-bd36-54b988be7c90\\\\\\\\\\\\\\\", \\\\\\\\\\\\\\\"workspaceId\\\\\\\\\\\\\\\": \\\\\\\\\\\\\\\"eafc0c3e-f971-4c74-a4fa-655ee90531ba\\\\\\\\\\\\\\\", \\\\\\\\\\\\\\\"workspaceLocation\\\\\\\\\\\\\\\": \\\\\\\\\\\\\\\"westeurope\\\\\\\\\\\\\\\"}}\\\\\\\", \\\\\\\"activities\\\\\\\": 0}\", \"EnableSubsampling\": null, \"runTemplate\": \"AutoML\", \"azureml.runsource\": \"automl\", \"display_task_type\": \"classification\", \"dependencies_versions\": \"{\\\"azureml-widgets\\\": \\\"1.18.0\\\", \\\"azureml-train\\\": \\\"1.18.0\\\", \\\"azureml-train-restclients-hyperdrive\\\": \\\"1.18.0\\\", \\\"azureml-train-core\\\": \\\"1.18.0\\\", \\\"azureml-train-automl\\\": \\\"1.18.0\\\", \\\"azureml-train-automl-runtime\\\": \\\"1.18.0\\\", \\\"azureml-train-automl-client\\\": \\\"1.18.0\\\", \\\"azureml-tensorboard\\\": \\\"1.18.0\\\", \\\"azureml-telemetry\\\": \\\"1.18.0\\\", \\\"azureml-sdk\\\": \\\"1.18.0\\\", \\\"azureml-samples\\\": \\\"0+unknown\\\", \\\"azureml-pipeline\\\": \\\"1.18.0\\\", \\\"azureml-pipeline-steps\\\": \\\"1.18.0\\\", \\\"azureml-pipeline-core\\\": \\\"1.18.0\\\", \\\"azureml-opendatasets\\\": \\\"1.18.0\\\", \\\"azureml-model-management-sdk\\\": \\\"1.0.1b6.post1\\\", \\\"azureml-mlflow\\\": \\\"1.18.0\\\", \\\"azureml-interpret\\\": \\\"1.18.0\\\", \\\"azureml-explain-model\\\": \\\"1.18.0\\\", \\\"azureml-defaults\\\": \\\"1.18.0\\\", \\\"azureml-dataset-runtime\\\": \\\"1.18.0\\\", \\\"azureml-dataprep\\\": \\\"2.4.2\\\", \\\"azureml-dataprep-rslex\\\": \\\"1.2.2\\\", \\\"azureml-dataprep-native\\\": \\\"24.0.0\\\", \\\"azureml-datadrift\\\": \\\"1.18.0\\\", \\\"azureml-core\\\": \\\"1.18.0\\\", \\\"azureml-contrib-services\\\": \\\"1.18.0\\\", \\\"azureml-contrib-server\\\": \\\"1.18.0\\\", \\\"azureml-contrib-reinforcementlearning\\\": \\\"1.18.0\\\", \\\"azureml-contrib-pipeline-steps\\\": \\\"1.18.0\\\", \\\"azureml-contrib-notebook\\\": \\\"1.18.0\\\", \\\"azureml-contrib-interpret\\\": \\\"1.18.0\\\", \\\"azureml-contrib-gbdt\\\": \\\"1.18.0\\\", \\\"azureml-contrib-fairness\\\": \\\"1.18.0\\\", \\\"azureml-contrib-dataset\\\": \\\"1.18.0\\\", \\\"azureml-cli-common\\\": \\\"1.18.0\\\", \\\"azureml-automl-runtime\\\": \\\"1.18.0\\\", \\\"azureml-automl-core\\\": \\\"1.18.0\\\", \\\"azureml-accel-models\\\": \\\"1.18.0\\\"}\", \"_aml_system_scenario_identification\": \"Remote.Parent\", \"ClientType\": \"SDK\", \"environment_cpu_name\": \"AzureML-AutoML\", \"environment_cpu_version\": \"49\", \"environment_gpu_name\": \"AzureML-AutoML-GPU\", \"environment_gpu_version\": \"37\", \"root_attribution\": \"automl\", \"attribution\": \"AutoML\", \"Orchestrator\": \"AutoML\", \"CancelUri\": \"https://westeurope.experiments.azureml.net/jasmine/v1.0/subscriptions/bf088f59-f015-4332-bd36-54b988be7c90/resourceGroups/sbirk-aml-rg/providers/Microsoft.MachineLearningServices/workspaces/sbirk-aml-ws/experimentids/28c17cb2-ba1f-4f18-a556-f16da4775547/cancel/AutoML_169df40b-a192-427a-9e6b-74822c261a15\", \"azureml.git.repository_uri\": \"https://github.com/sebastianbirk/udacity-aml-engineer-nanodegree.git\", \"mlflow.source.git.repoURL\": \"https://github.com/sebastianbirk/udacity-aml-engineer-nanodegree.git\", \"azureml.git.branch\": \"master\", \"mlflow.source.git.branch\": \"master\", \"azureml.git.commit\": \"dd5fea55ff4d66fe1debf55caf7a364b1e8fa8a7\", \"mlflow.source.git.commit\": \"dd5fea55ff4d66fe1debf55caf7a364b1e8fa8a7\", \"azureml.git.dirty\": \"False\", \"ClientSdkVersion\": \"1.18.0.post1\", \"snapshotId\": \"00000000-0000-0000-0000-000000000000\", \"SetupRunId\": \"AutoML_169df40b-a192-427a-9e6b-74822c261a15_setup\", \"SetupRunContainerId\": \"dcid.AutoML_169df40b-a192-427a-9e6b-74822c261a15_setup\", \"FeaturizationRunJsonPath\": \"featurizer_container.json\", \"FeaturizationRunId\": \"AutoML_169df40b-a192-427a-9e6b-74822c261a15_featurize\", \"ProblemInfoJsonString\": \"{\\\"dataset_num_categorical\\\": 0, \\\"is_sparse\\\": true, \\\"subsampling\\\": false, \\\"dataset_classes\\\": 2, \\\"dataset_features\\\": 300, \\\"dataset_samples\\\": 1470, \\\"single_frequency_class_detected\\\": false}\", \"ModelExplainRunId\": \"AutoML_169df40b-a192-427a-9e6b-74822c261a15_ModelExplain\"}, \"tags\": {\"model_explain_run\": \"best_run\", \"_aml_system_azureml.automlComponent\": \"AutoML\", \"pipeline_id\": \"\", \"score\": \"\", \"predicted_cost\": \"\", \"fit_time\": \"\", \"training_percent\": \"\", \"iteration\": \"\", \"run_preprocessor\": \"\", \"run_algorithm\": \"\", \"dynamic_whitelisting_iterations\": \"<24>;<30>;<35>;<40>;<45>;\", \"automl_best_child_run_id\": \"AutoML_169df40b-a192-427a-9e6b-74822c261a15_49\", \"model_explain_best_run_child_id\": \"AutoML_169df40b-a192-427a-9e6b-74822c261a15_49\"}, \"end_time_utc\": \"2020-12-16T20:14:06.991977Z\", \"status\": \"Completed\", \"log_files\": {}, \"log_groups\": [], \"run_duration\": \"0:27:27\"}, \"child_runs\": [{\"run_id\": \"AutoML_169df40b-a192-427a-9e6b-74822c261a15_0\", \"run_number\": 5, \"metric\": null, \"status\": \"Completed\", \"run_type\": \"azureml.scriptrun\", \"training_percent\": \"100\", \"start_time\": \"2020-12-16T19:57:11.210183Z\", \"end_time\": \"2020-12-16T19:58:06.669217Z\", \"created_time\": \"2020-12-16T19:55:10.195915Z\", \"created_time_dt\": \"2020-12-16T19:55:10.195915Z\", \"duration\": \"0:02:56\", \"iteration\": \"0\", \"goal\": \"AUC_weighted_max\", \"run_name\": \"MaxAbsScaler, LightGBM\", \"run_properties\": \"copy=True\", \"primary_metric\": 0.7756652, \"best_metric\": 0.7756652}, {\"run_id\": \"AutoML_169df40b-a192-427a-9e6b-74822c261a15_3\", \"run_number\": 6, \"metric\": null, \"status\": \"Completed\", \"run_type\": \"azureml.scriptrun\", \"training_percent\": \"100\", \"start_time\": \"2020-12-16T19:58:11.864996Z\", \"end_time\": \"2020-12-16T19:58:57.734307Z\", \"created_time\": \"2020-12-16T19:55:10.231716Z\", \"created_time_dt\": \"2020-12-16T19:55:10.231716Z\", \"duration\": \"0:03:47\", \"iteration\": \"3\", \"goal\": \"AUC_weighted_max\", \"run_name\": \"MaxAbsScaler, RandomForest\", \"run_properties\": \"copy=True\", \"primary_metric\": 0.76035874, \"best_metric\": 0.78759691}, {\"run_id\": \"AutoML_169df40b-a192-427a-9e6b-74822c261a15_1\", \"run_number\": 7, \"metric\": null, \"status\": \"Completed\", \"run_type\": \"azureml.scriptrun\", \"training_percent\": \"100\", \"start_time\": \"2020-12-16T19:56:13.239527Z\", \"end_time\": \"2020-12-16T19:57:06.748492Z\", \"created_time\": \"2020-12-16T19:55:10.26163Z\", \"created_time_dt\": \"2020-12-16T19:55:10.26163Z\", \"duration\": \"0:01:56\", \"iteration\": \"1\", \"goal\": \"AUC_weighted_max\", \"run_name\": \"MaxAbsScaler, XGBoostClassifier\", \"run_properties\": \"copy=True\", \"primary_metric\": 0.78759691, \"best_metric\": 0.78759691}, {\"run_id\": \"AutoML_169df40b-a192-427a-9e6b-74822c261a15_2\", \"run_number\": 8, \"metric\": null, \"status\": \"Completed\", \"run_type\": \"azureml.scriptrun\", \"training_percent\": \"100\", \"start_time\": \"2020-12-16T19:55:22.387434Z\", \"end_time\": \"2020-12-16T19:56:09.528826Z\", \"created_time\": \"2020-12-16T19:55:10.328995Z\", \"created_time_dt\": \"2020-12-16T19:55:10.328995Z\", \"duration\": \"0:00:59\", \"iteration\": \"2\", \"goal\": \"AUC_weighted_max\", \"run_name\": \"MaxAbsScaler, RandomForest\", \"run_properties\": \"copy=True\", \"primary_metric\": 0.75138279, \"best_metric\": 0.78759691}, {\"run_id\": \"AutoML_169df40b-a192-427a-9e6b-74822c261a15_4\", \"run_number\": 9, \"metric\": null, \"status\": \"Completed\", \"run_type\": \"azureml.scriptrun\", \"training_percent\": \"100\", \"start_time\": \"2020-12-16T19:58:15.993972Z\", \"end_time\": \"2020-12-16T20:03:34.721157Z\", \"created_time\": \"2020-12-16T19:56:13.421172Z\", \"created_time_dt\": \"2020-12-16T19:56:13.421172Z\", \"duration\": \"0:07:21\", \"iteration\": \"4\", \"goal\": \"AUC_weighted_max\", \"run_name\": \"MaxAbsScaler, RandomForest\", \"run_properties\": \"copy=True\", \"primary_metric\": 0.7483002, \"best_metric\": 0.78759691}, {\"run_id\": \"AutoML_169df40b-a192-427a-9e6b-74822c261a15_5\", \"run_number\": 10, \"metric\": null, \"status\": \"Completed\", \"run_type\": \"azureml.scriptrun\", \"training_percent\": \"100\", \"start_time\": \"2020-12-16T19:58:16.199431Z\", \"end_time\": \"2020-12-16T20:01:30.216612Z\", \"created_time\": \"2020-12-16T19:57:10.200993Z\", \"created_time_dt\": \"2020-12-16T19:57:10.200993Z\", \"duration\": \"0:04:20\", \"iteration\": \"5\", \"goal\": \"AUC_weighted_max\", \"run_name\": \"MaxAbsScaler, ExtremeRandomTrees\", \"run_properties\": \"copy=True\", \"primary_metric\": 0.77050053, \"best_metric\": 0.78759691}, {\"run_id\": \"AutoML_169df40b-a192-427a-9e6b-74822c261a15_6\", \"run_number\": 11, \"metric\": null, \"status\": \"Completed\", \"run_type\": \"azureml.scriptrun\", \"training_percent\": \"100\", \"start_time\": \"2020-12-16T19:58:22.490192Z\", \"end_time\": \"2020-12-16T20:01:43.889102Z\", \"created_time\": \"2020-12-16T19:58:11.133021Z\", \"created_time_dt\": \"2020-12-16T19:58:11.133021Z\", \"duration\": \"0:03:32\", \"iteration\": \"6\", \"goal\": \"AUC_weighted_max\", \"run_name\": \"MaxAbsScaler, ExtremeRandomTrees\", \"run_properties\": \"copy=True\", \"primary_metric\": 0.79552255, \"best_metric\": 0.79552255}, {\"run_id\": \"AutoML_169df40b-a192-427a-9e6b-74822c261a15_7\", \"run_number\": 12, \"metric\": null, \"status\": \"Completed\", \"run_type\": \"azureml.scriptrun\", \"training_percent\": \"100\", \"start_time\": \"2020-12-16T19:59:14.280318Z\", \"end_time\": \"2020-12-16T19:59:59.017014Z\", \"created_time\": \"2020-12-16T19:59:01.594595Z\", \"created_time_dt\": \"2020-12-16T19:59:01.594595Z\", \"duration\": \"0:00:57\", \"iteration\": \"7\", \"goal\": \"AUC_weighted_max\", \"run_name\": \"MaxAbsScaler, ExtremeRandomTrees\", \"run_properties\": \"copy=True\", \"primary_metric\": 0.78600338, \"best_metric\": 0.79552255}, {\"run_id\": \"AutoML_169df40b-a192-427a-9e6b-74822c261a15_8\", \"run_number\": 13, \"metric\": null, \"status\": \"Completed\", \"run_type\": \"azureml.scriptrun\", \"training_percent\": \"100\", \"start_time\": \"2020-12-16T20:00:14.743411Z\", \"end_time\": \"2020-12-16T20:01:02.364312Z\", \"created_time\": \"2020-12-16T20:00:03.133276Z\", \"created_time_dt\": \"2020-12-16T20:00:03.133276Z\", \"duration\": \"0:00:59\", \"iteration\": \"8\", \"goal\": \"AUC_weighted_max\", \"run_name\": \"MaxAbsScaler, RandomForest\", \"run_properties\": \"copy=True\", \"primary_metric\": 0.77808008, \"best_metric\": 0.79552255}, {\"run_id\": \"AutoML_169df40b-a192-427a-9e6b-74822c261a15_9\", \"run_number\": 14, \"metric\": null, \"status\": \"Completed\", \"run_type\": \"azureml.scriptrun\", \"training_percent\": \"100\", \"start_time\": \"2020-12-16T20:01:17.508608Z\", \"end_time\": \"2020-12-16T20:02:05.220847Z\", \"created_time\": \"2020-12-16T20:01:05.911926Z\", \"created_time_dt\": \"2020-12-16T20:01:05.911926Z\", \"duration\": \"0:00:59\", \"iteration\": \"9\", \"goal\": \"AUC_weighted_max\", \"run_name\": \"MaxAbsScaler, ExtremeRandomTrees\", \"run_properties\": \"copy=True\", \"primary_metric\": 0.79570839, \"best_metric\": 0.79570839}, {\"run_id\": \"AutoML_169df40b-a192-427a-9e6b-74822c261a15_10\", \"run_number\": 15, \"metric\": null, \"status\": \"Completed\", \"run_type\": \"azureml.scriptrun\", \"training_percent\": \"100\", \"start_time\": \"2020-12-16T20:01:45.691327Z\", \"end_time\": \"2020-12-16T20:02:31.022837Z\", \"created_time\": \"2020-12-16T20:01:33.394909Z\", \"created_time_dt\": \"2020-12-16T20:01:33.394909Z\", \"duration\": \"0:00:57\", \"iteration\": \"10\", \"goal\": \"AUC_weighted_max\", \"run_name\": \"MaxAbsScaler, RandomForest\", \"run_properties\": \"copy=True\", \"primary_metric\": 0.74212691, \"best_metric\": 0.79570839}, {\"run_id\": \"AutoML_169df40b-a192-427a-9e6b-74822c261a15_11\", \"run_number\": 16, \"metric\": null, \"status\": \"Completed\", \"run_type\": \"azureml.scriptrun\", \"training_percent\": \"100\", \"start_time\": \"2020-12-16T20:01:59.511617Z\", \"end_time\": \"2020-12-16T20:02:44.519223Z\", \"created_time\": \"2020-12-16T20:01:48.829211Z\", \"created_time_dt\": \"2020-12-16T20:01:48.829211Z\", \"duration\": \"0:00:55\", \"iteration\": \"11\", \"goal\": \"AUC_weighted_max\", \"run_name\": \"MaxAbsScaler, RandomForest\", \"run_properties\": \"copy=True\", \"primary_metric\": 0.75636319, \"best_metric\": 0.79570839}, {\"run_id\": \"AutoML_169df40b-a192-427a-9e6b-74822c261a15_12\", \"run_number\": 17, \"metric\": null, \"status\": \"Completed\", \"run_type\": \"azureml.scriptrun\", \"training_percent\": \"100\", \"start_time\": \"2020-12-16T20:02:20.215034Z\", \"end_time\": \"2020-12-16T20:03:05.11627Z\", \"created_time\": \"2020-12-16T20:02:08.179731Z\", \"created_time_dt\": \"2020-12-16T20:02:08.179731Z\", \"duration\": \"0:00:56\", \"iteration\": \"12\", \"goal\": \"AUC_weighted_max\", \"run_name\": \"MaxAbsScaler, RandomForest\", \"run_properties\": \"copy=True\", \"primary_metric\": 0.77662919, \"best_metric\": 0.79570839}, {\"run_id\": \"AutoML_169df40b-a192-427a-9e6b-74822c261a15_13\", \"run_number\": 18, \"metric\": null, \"status\": \"Completed\", \"run_type\": \"azureml.scriptrun\", \"training_percent\": \"100\", \"start_time\": \"2020-12-16T20:02:46.564999Z\", \"end_time\": \"2020-12-16T20:03:37.17658Z\", \"created_time\": \"2020-12-16T20:02:34.660999Z\", \"created_time_dt\": \"2020-12-16T20:02:34.660999Z\", \"duration\": \"0:01:02\", \"iteration\": \"13\", \"goal\": \"AUC_weighted_max\", \"run_name\": \"StandardScalerWrapper, XGBoostClassifier\", \"run_properties\": \"<azureml.automl.runtime.shared.model_wrappers.StandardScalerWrapper object at 0x7f8375170d30\", \"primary_metric\": 0.75589887, \"best_metric\": 0.79570839}, {\"run_id\": \"AutoML_169df40b-a192-427a-9e6b-74822c261a15_14\", \"run_number\": 19, \"metric\": null, \"status\": \"Completed\", \"run_type\": \"azureml.scriptrun\", \"training_percent\": \"100\", \"start_time\": \"2020-12-16T20:02:59.537476Z\", \"end_time\": \"2020-12-16T20:03:41.629445Z\", \"created_time\": \"2020-12-16T20:02:47.608647Z\", \"created_time_dt\": \"2020-12-16T20:02:47.608647Z\", \"duration\": \"0:00:54\", \"iteration\": \"14\", \"goal\": \"AUC_weighted_max\", \"run_name\": \"MaxAbsScaler, RandomForest\", \"run_properties\": \"copy=True\", \"primary_metric\": 0.76299871, \"best_metric\": 0.79570839}, {\"run_id\": \"AutoML_169df40b-a192-427a-9e6b-74822c261a15_15\", \"run_number\": 20, \"metric\": null, \"status\": \"Completed\", \"run_type\": \"azureml.scriptrun\", \"training_percent\": \"100\", \"start_time\": \"2020-12-16T20:03:19.090929Z\", \"end_time\": \"2020-12-16T20:04:00.554251Z\", \"created_time\": \"2020-12-16T20:03:08.48205Z\", \"created_time_dt\": \"2020-12-16T20:03:08.48205Z\", \"duration\": \"0:00:52\", \"iteration\": \"15\", \"goal\": \"AUC_weighted_max\", \"run_name\": \"StandardScalerWrapper, ExtremeRandomTrees\", \"run_properties\": \"<azureml.automl.runtime.shared.model_wrappers.StandardScalerWrapper object at 0x7f8f64094278\", \"primary_metric\": 0.74252237, \"best_metric\": 0.79570839}, {\"run_id\": \"AutoML_169df40b-a192-427a-9e6b-74822c261a15_16\", \"run_number\": 21, \"metric\": null, \"status\": \"Completed\", \"run_type\": \"azureml.scriptrun\", \"training_percent\": \"100\", \"start_time\": \"2020-12-16T20:03:49.913672Z\", \"end_time\": \"2020-12-16T20:04:40.913352Z\", \"created_time\": \"2020-12-16T20:03:37.998769Z\", \"created_time_dt\": \"2020-12-16T20:03:37.998769Z\", \"duration\": \"0:01:02\", \"iteration\": \"16\", \"goal\": \"AUC_weighted_max\", \"run_name\": \"MaxAbsScaler, ExtremeRandomTrees\", \"run_properties\": \"copy=True\", \"primary_metric\": 0.77513328, \"best_metric\": 0.79570839}, {\"run_id\": \"AutoML_169df40b-a192-427a-9e6b-74822c261a15_17\", \"run_number\": 22, \"metric\": null, \"status\": \"Completed\", \"run_type\": \"azureml.scriptrun\", \"training_percent\": \"100\", \"start_time\": \"2020-12-16T20:03:54.82791Z\", \"end_time\": \"2020-12-16T20:04:40.086474Z\", \"created_time\": \"2020-12-16T20:03:43.716077Z\", \"created_time_dt\": \"2020-12-16T20:03:43.716077Z\", \"duration\": \"0:00:56\", \"iteration\": \"17\", \"goal\": \"AUC_weighted_max\", \"run_name\": \"MaxAbsScaler, ExtremeRandomTrees\", \"run_properties\": \"copy=True\", \"primary_metric\": 0.7839495, \"best_metric\": 0.79570839}, {\"run_id\": \"AutoML_169df40b-a192-427a-9e6b-74822c261a15_18\", \"run_number\": 23, \"metric\": null, \"status\": \"Completed\", \"run_type\": \"azureml.scriptrun\", \"training_percent\": \"100\", \"start_time\": \"2020-12-16T20:04:00.206483Z\", \"end_time\": \"2020-12-16T20:04:44.491091Z\", \"created_time\": \"2020-12-16T20:03:49.794324Z\", \"created_time_dt\": \"2020-12-16T20:03:49.794324Z\", \"duration\": \"0:00:54\", \"iteration\": \"18\", \"goal\": \"AUC_weighted_max\", \"run_name\": \"MaxAbsScaler, RandomForest\", \"run_properties\": \"copy=True\", \"primary_metric\": 0.76915959, \"best_metric\": 0.79570839}, {\"run_id\": \"AutoML_169df40b-a192-427a-9e6b-74822c261a15_19\", \"run_number\": 24, \"metric\": null, \"status\": \"Completed\", \"run_type\": \"azureml.scriptrun\", \"training_percent\": \"100\", \"start_time\": \"2020-12-16T20:04:15.637333Z\", \"end_time\": \"2020-12-16T20:04:58.711247Z\", \"created_time\": \"2020-12-16T20:04:04.114166Z\", \"created_time_dt\": \"2020-12-16T20:04:04.114166Z\", \"duration\": \"0:00:54\", \"iteration\": \"19\", \"goal\": \"AUC_weighted_max\", \"run_name\": \"StandardScalerWrapper, XGBoostClassifier\", \"run_properties\": \"<azureml.automl.runtime.shared.model_wrappers.StandardScalerWrapper object at 0x7f611590a320\", \"primary_metric\": 0.75675712, \"best_metric\": 0.79570839}, {\"run_id\": \"AutoML_169df40b-a192-427a-9e6b-74822c261a15_20\", \"run_number\": 25, \"metric\": null, \"status\": \"Completed\", \"run_type\": \"azureml.scriptrun\", \"training_percent\": \"100\", \"start_time\": \"2020-12-16T20:04:55.503232Z\", \"end_time\": \"2020-12-16T20:05:43.807416Z\", \"created_time\": \"2020-12-16T20:04:42.982046Z\", \"created_time_dt\": \"2020-12-16T20:04:42.982046Z\", \"duration\": \"0:01:00\", \"iteration\": \"20\", \"goal\": \"AUC_weighted_max\", \"run_name\": \"MaxAbsScaler, LightGBM\", \"run_properties\": \"copy=True\", \"primary_metric\": 0.81322652, \"best_metric\": 0.81322652}, {\"run_id\": \"AutoML_169df40b-a192-427a-9e6b-74822c261a15_21\", \"run_number\": 26, \"metric\": null, \"status\": \"Completed\", \"run_type\": \"azureml.scriptrun\", \"training_percent\": \"100\", \"start_time\": \"2020-12-16T20:04:58.512437Z\", \"end_time\": \"2020-12-16T20:05:43.428707Z\", \"created_time\": \"2020-12-16T20:04:47.550411Z\", \"created_time_dt\": \"2020-12-16T20:04:47.550411Z\", \"duration\": \"0:00:55\", \"iteration\": \"21\", \"goal\": \"AUC_weighted_max\", \"run_name\": \"MaxAbsScaler, LightGBM\", \"run_properties\": \"copy=True\", \"primary_metric\": 0.79390824, \"best_metric\": 0.81322652}, {\"run_id\": \"AutoML_169df40b-a192-427a-9e6b-74822c261a15_22\", \"run_number\": 27, \"metric\": null, \"status\": \"Completed\", \"run_type\": \"azureml.scriptrun\", \"training_percent\": \"100\", \"start_time\": \"2020-12-16T20:04:58.805942Z\", \"end_time\": \"2020-12-16T20:05:49.139768Z\", \"created_time\": \"2020-12-16T20:04:47.618819Z\", \"created_time_dt\": \"2020-12-16T20:04:47.618819Z\", \"duration\": \"0:01:01\", \"iteration\": \"22\", \"goal\": \"AUC_weighted_max\", \"run_name\": \"MaxAbsScaler, LightGBM\", \"run_properties\": \"copy=True\", \"primary_metric\": 0.80415607, \"best_metric\": 0.81322652}, {\"run_id\": \"AutoML_169df40b-a192-427a-9e6b-74822c261a15_23\", \"run_number\": 28, \"metric\": null, \"status\": \"Completed\", \"run_type\": \"azureml.scriptrun\", \"training_percent\": \"100\", \"start_time\": \"2020-12-16T20:05:13.544808Z\", \"end_time\": \"2020-12-16T20:06:04.390819Z\", \"created_time\": \"2020-12-16T20:05:01.346125Z\", \"created_time_dt\": \"2020-12-16T20:05:01.346125Z\", \"duration\": \"0:01:03\", \"iteration\": \"23\", \"goal\": \"AUC_weighted_max\", \"run_name\": \"MaxAbsScaler, LightGBM\", \"run_properties\": \"copy=True\", \"primary_metric\": 0.79949927, \"best_metric\": 0.81322652}, {\"run_id\": \"AutoML_169df40b-a192-427a-9e6b-74822c261a15_25\", \"run_number\": 29, \"metric\": null, \"status\": \"Completed\", \"run_type\": \"azureml.scriptrun\", \"training_percent\": \"100\", \"start_time\": \"2020-12-16T20:05:58.824578Z\", \"end_time\": \"2020-12-16T20:06:49.021577Z\", \"created_time\": \"2020-12-16T20:05:47.380868Z\", \"created_time_dt\": \"2020-12-16T20:05:47.380868Z\", \"duration\": \"0:01:01\", \"iteration\": \"25\", \"goal\": \"AUC_weighted_max\", \"run_name\": \"StandardScalerWrapper, LogisticRegression\", \"run_properties\": \"<azureml.automl.runtime.shared.model_wrappers.StandardScalerWrapper object at 0x7f21057d5860\", \"primary_metric\": 0.81043629, \"best_metric\": 0.81322652}, {\"run_id\": \"AutoML_169df40b-a192-427a-9e6b-74822c261a15_24\", \"run_number\": 30, \"metric\": null, \"status\": \"Completed\", \"run_type\": \"azureml.scriptrun\", \"training_percent\": \"100\", \"start_time\": \"2020-12-16T20:05:59.452567Z\", \"end_time\": \"2020-12-16T20:06:46.925939Z\", \"created_time\": \"2020-12-16T20:05:47.461568Z\", \"created_time_dt\": \"2020-12-16T20:05:47.461568Z\", \"duration\": \"0:00:59\", \"iteration\": \"24\", \"goal\": \"AUC_weighted_max\", \"run_name\": \"SparseNormalizer, LightGBM\", \"run_properties\": \"<azureml.automl.runtime.shared.model_wrappers.SparseNormalizer object at 0x7f34bef650f0\", \"primary_metric\": 0.79254208, \"best_metric\": 0.81322652}, {\"run_id\": \"AutoML_169df40b-a192-427a-9e6b-74822c261a15_26\", \"run_number\": 31, \"metric\": null, \"status\": \"Completed\", \"run_type\": \"azureml.scriptrun\", \"training_percent\": \"100\", \"start_time\": \"2020-12-16T20:06:05.240937Z\", \"end_time\": \"2020-12-16T20:06:55.564746Z\", \"created_time\": \"2020-12-16T20:05:53.048628Z\", \"created_time_dt\": \"2020-12-16T20:05:53.048628Z\", \"duration\": \"0:01:02\", \"iteration\": \"26\", \"goal\": \"AUC_weighted_max\", \"run_name\": \"StandardScalerWrapper, LogisticRegression\", \"run_properties\": \"<azureml.automl.runtime.shared.model_wrappers.StandardScalerWrapper object at 0x7f9e1da4bb70\", \"primary_metric\": 0.78837577, \"best_metric\": 0.81322652}, {\"run_id\": \"AutoML_169df40b-a192-427a-9e6b-74822c261a15_27\", \"run_number\": 32, \"metric\": null, \"status\": \"Completed\", \"run_type\": \"azureml.scriptrun\", \"training_percent\": \"100\", \"start_time\": \"2020-12-16T20:06:19.085814Z\", \"end_time\": \"2020-12-16T20:07:07.492976Z\", \"created_time\": \"2020-12-16T20:06:06.982434Z\", \"created_time_dt\": \"2020-12-16T20:06:06.982434Z\", \"duration\": \"0:01:00\", \"iteration\": \"27\", \"goal\": \"AUC_weighted_max\", \"run_name\": \"MaxAbsScaler, LogisticRegression\", \"run_properties\": \"copy=True\", \"primary_metric\": 0.7863165, \"best_metric\": 0.81322652}, {\"run_id\": \"AutoML_169df40b-a192-427a-9e6b-74822c261a15_28\", \"run_number\": 33, \"metric\": null, \"status\": \"Completed\", \"run_type\": \"azureml.scriptrun\", \"training_percent\": \"100\", \"start_time\": \"2020-12-16T20:07:00.814131Z\", \"end_time\": \"2020-12-16T20:07:48.670704Z\", \"created_time\": \"2020-12-16T20:06:49.688563Z\", \"created_time_dt\": \"2020-12-16T20:06:49.688563Z\", \"duration\": \"0:00:58\", \"iteration\": \"28\", \"goal\": \"AUC_weighted_max\", \"run_name\": \"MaxAbsScaler, LogisticRegression\", \"run_properties\": \"copy=True\", \"primary_metric\": 0.78563433, \"best_metric\": 0.81322652}, {\"run_id\": \"AutoML_169df40b-a192-427a-9e6b-74822c261a15_29\", \"run_number\": 34, \"metric\": null, \"status\": \"Completed\", \"run_type\": \"azureml.scriptrun\", \"training_percent\": \"100\", \"start_time\": \"2020-12-16T20:07:07.007831Z\", \"end_time\": \"2020-12-16T20:07:51.9127Z\", \"created_time\": \"2020-12-16T20:06:54.869214Z\", \"created_time_dt\": \"2020-12-16T20:06:54.869214Z\", \"duration\": \"0:00:57\", \"iteration\": \"29\", \"goal\": \"AUC_weighted_max\", \"run_name\": \"MaxAbsScaler, LogisticRegression\", \"run_properties\": \"copy=True\", \"primary_metric\": 0.78989721, \"best_metric\": 0.81322652}, {\"run_id\": \"AutoML_169df40b-a192-427a-9e6b-74822c261a15_30\", \"run_number\": 35, \"metric\": null, \"status\": \"Completed\", \"run_type\": \"azureml.scriptrun\", \"training_percent\": \"100\", \"start_time\": \"2020-12-16T20:07:11.981639Z\", \"end_time\": \"2020-12-16T20:07:56.358736Z\", \"created_time\": \"2020-12-16T20:07:00.449261Z\", \"created_time_dt\": \"2020-12-16T20:07:00.449261Z\", \"duration\": \"0:00:55\", \"iteration\": \"30\", \"goal\": \"AUC_weighted_max\", \"run_name\": \"SparseNormalizer, LightGBM\", \"run_properties\": \"<azureml.automl.runtime.shared.model_wrappers.SparseNormalizer object at 0x7f284f71e9e8\", \"primary_metric\": 0.79847452, \"best_metric\": 0.81322652}, {\"run_id\": \"AutoML_169df40b-a192-427a-9e6b-74822c261a15_31\", \"run_number\": 36, \"metric\": null, \"status\": \"Completed\", \"run_type\": \"azureml.scriptrun\", \"training_percent\": \"100\", \"start_time\": \"2020-12-16T20:07:21.592336Z\", \"end_time\": \"2020-12-16T20:08:06.452699Z\", \"created_time\": \"2020-12-16T20:07:10.029609Z\", \"created_time_dt\": \"2020-12-16T20:07:10.029609Z\", \"duration\": \"0:00:56\", \"iteration\": \"31\", \"goal\": \"AUC_weighted_max\", \"run_name\": \"SparseNormalizer, LightGBM\", \"run_properties\": \"<azureml.automl.runtime.shared.model_wrappers.SparseNormalizer object at 0x7f50897b6be0\", \"primary_metric\": 0.80941728, \"best_metric\": 0.81322652}, {\"run_id\": \"AutoML_169df40b-a192-427a-9e6b-74822c261a15_32\", \"run_number\": 37, \"metric\": null, \"status\": \"Completed\", \"run_type\": \"azureml.scriptrun\", \"training_percent\": \"100\", \"start_time\": \"2020-12-16T20:08:03.591764Z\", \"end_time\": \"2020-12-16T20:08:54.455488Z\", \"created_time\": \"2020-12-16T20:07:51.594563Z\", \"created_time_dt\": \"2020-12-16T20:07:51.594563Z\", \"duration\": \"0:01:02\", \"iteration\": \"32\", \"goal\": \"AUC_weighted_max\", \"run_name\": \"StandardScalerWrapper, LightGBM\", \"run_properties\": \"<azureml.automl.runtime.shared.model_wrappers.StandardScalerWrapper object at 0x7f5528491898\", \"primary_metric\": 0.81165403, \"best_metric\": 0.81322652}, {\"run_id\": \"AutoML_169df40b-a192-427a-9e6b-74822c261a15_33\", \"run_number\": 38, \"metric\": null, \"status\": \"Completed\", \"run_type\": \"azureml.scriptrun\", \"training_percent\": \"100\", \"start_time\": \"2020-12-16T20:08:07.433163Z\", \"end_time\": \"2020-12-16T20:08:55.052382Z\", \"created_time\": \"2020-12-16T20:07:56.207397Z\", \"created_time_dt\": \"2020-12-16T20:07:56.207397Z\", \"duration\": \"0:00:58\", \"iteration\": \"33\", \"goal\": \"AUC_weighted_max\", \"run_name\": \"StandardScalerWrapper, LightGBM\", \"run_properties\": \"<azureml.automl.runtime.shared.model_wrappers.StandardScalerWrapper object at 0x7ff28814dfd0\", \"primary_metric\": 0.78836969, \"best_metric\": 0.81322652}, {\"run_id\": \"AutoML_169df40b-a192-427a-9e6b-74822c261a15_34\", \"run_number\": 39, \"metric\": null, \"status\": \"Completed\", \"run_type\": \"azureml.scriptrun\", \"training_percent\": \"100\", \"start_time\": \"2020-12-16T20:08:12.733818Z\", \"end_time\": \"2020-12-16T20:08:54.770952Z\", \"created_time\": \"2020-12-16T20:08:01.039897Z\", \"created_time_dt\": \"2020-12-16T20:08:01.039897Z\", \"duration\": \"0:00:53\", \"iteration\": \"34\", \"goal\": \"AUC_weighted_max\", \"run_name\": \"MaxAbsScaler, LightGBM\", \"run_properties\": \"copy=True\", \"primary_metric\": 0.81997765, \"best_metric\": 0.81997765}, {\"run_id\": \"AutoML_169df40b-a192-427a-9e6b-74822c261a15_35\", \"run_number\": 40, \"metric\": null, \"status\": \"Completed\", \"run_type\": \"azureml.scriptrun\", \"training_percent\": \"100\", \"start_time\": \"2020-12-16T20:08:20.710025Z\", \"end_time\": \"2020-12-16T20:09:05.529954Z\", \"created_time\": \"2020-12-16T20:08:09.427978Z\", \"created_time_dt\": \"2020-12-16T20:08:09.427978Z\", \"duration\": \"0:00:56\", \"iteration\": \"35\", \"goal\": \"AUC_weighted_max\", \"run_name\": \"TruncatedSVDWrapper, LightGBM\", \"run_properties\": \"n_components=0.05947368421052632, random_state=None\", \"primary_metric\": 0.69290998, \"best_metric\": 0.81997765}, {\"run_id\": \"AutoML_169df40b-a192-427a-9e6b-74822c261a15_37\", \"run_number\": 41, \"metric\": null, \"status\": \"Completed\", \"run_type\": \"azureml.scriptrun\", \"training_percent\": \"100\", \"start_time\": \"2020-12-16T20:09:08.757552Z\", \"end_time\": \"2020-12-16T20:09:59.678789Z\", \"created_time\": \"2020-12-16T20:08:56.934916Z\", \"created_time_dt\": \"2020-12-16T20:08:56.934916Z\", \"duration\": \"0:01:02\", \"iteration\": \"37\", \"goal\": \"AUC_weighted_max\", \"run_name\": \"SparseNormalizer, XGBoostClassifier\", \"run_properties\": \"<azureml.automl.runtime.shared.model_wrappers.SparseNormalizer object at 0x7f81e4afae48\", \"primary_metric\": 0.79347715, \"best_metric\": 0.81997765}, {\"run_id\": \"AutoML_169df40b-a192-427a-9e6b-74822c261a15_36\", \"run_number\": 42, \"metric\": null, \"status\": \"Completed\", \"run_type\": \"azureml.scriptrun\", \"training_percent\": \"100\", \"start_time\": \"2020-12-16T20:09:08.95015Z\", \"end_time\": \"2020-12-16T20:09:56.761786Z\", \"created_time\": \"2020-12-16T20:08:56.925392Z\", \"created_time_dt\": \"2020-12-16T20:08:56.925392Z\", \"duration\": \"0:00:59\", \"iteration\": \"36\", \"goal\": \"AUC_weighted_max\", \"run_name\": \"SparseNormalizer, XGBoostClassifier\", \"run_properties\": \"<azureml.automl.runtime.shared.model_wrappers.SparseNormalizer object at 0x7f406757b710\", \"primary_metric\": 0.80529614, \"best_metric\": 0.81997765}, {\"run_id\": \"AutoML_169df40b-a192-427a-9e6b-74822c261a15_38\", \"run_number\": 43, \"metric\": null, \"status\": \"Completed\", \"run_type\": \"azureml.scriptrun\", \"training_percent\": \"100\", \"start_time\": \"2020-12-16T20:09:08.544825Z\", \"end_time\": \"2020-12-16T20:09:56.736443Z\", \"created_time\": \"2020-12-16T20:08:56.983361Z\", \"created_time_dt\": \"2020-12-16T20:08:56.983361Z\", \"duration\": \"0:00:59\", \"iteration\": \"38\", \"goal\": \"AUC_weighted_max\", \"run_name\": \"SparseNormalizer, XGBoostClassifier\", \"run_properties\": \"<azureml.automl.runtime.shared.model_wrappers.SparseNormalizer object at 0x7f3e729f5128\", \"primary_metric\": 0.78619803, \"best_metric\": 0.81997765}, {\"run_id\": \"AutoML_169df40b-a192-427a-9e6b-74822c261a15_39\", \"run_number\": 44, \"metric\": null, \"status\": \"Completed\", \"run_type\": \"azureml.scriptrun\", \"training_percent\": \"100\", \"start_time\": \"2020-12-16T20:09:18.588914Z\", \"end_time\": \"2020-12-16T20:10:03.762206Z\", \"created_time\": \"2020-12-16T20:09:07.501356Z\", \"created_time_dt\": \"2020-12-16T20:09:07.501356Z\", \"duration\": \"0:00:56\", \"iteration\": \"39\", \"goal\": \"AUC_weighted_max\", \"run_name\": \"SparseNormalizer, XGBoostClassifier\", \"run_properties\": \"<azureml.automl.runtime.shared.model_wrappers.SparseNormalizer object at 0x7f156efd4fd0\", \"primary_metric\": 0.78089438, \"best_metric\": 0.81997765}, {\"run_id\": \"AutoML_169df40b-a192-427a-9e6b-74822c261a15_41\", \"run_number\": 45, \"metric\": null, \"status\": \"Completed\", \"run_type\": \"azureml.scriptrun\", \"training_percent\": \"100\", \"start_time\": \"2020-12-16T20:10:11.209437Z\", \"end_time\": \"2020-12-16T20:10:59.308741Z\", \"created_time\": \"2020-12-16T20:09:59.876271Z\", \"created_time_dt\": \"2020-12-16T20:09:59.876271Z\", \"duration\": \"0:00:59\", \"iteration\": \"41\", \"goal\": \"AUC_weighted_max\", \"run_name\": \"SparseNormalizer, LightGBM\", \"run_properties\": \"<azureml.automl.runtime.shared.model_wrappers.SparseNormalizer object at 0x7fe858193c18\", \"primary_metric\": 0.77695346, \"best_metric\": 0.81997765}, {\"run_id\": \"AutoML_169df40b-a192-427a-9e6b-74822c261a15_40\", \"run_number\": 46, \"metric\": null, \"status\": \"Completed\", \"run_type\": \"azureml.scriptrun\", \"training_percent\": \"100\", \"start_time\": \"2020-12-16T20:10:10.663677Z\", \"end_time\": \"2020-12-16T20:10:58.343599Z\", \"created_time\": \"2020-12-16T20:09:59.895827Z\", \"created_time_dt\": \"2020-12-16T20:09:59.895827Z\", \"duration\": \"0:00:58\", \"iteration\": \"40\", \"goal\": \"AUC_weighted_max\", \"run_name\": \"SparseNormalizer, LightGBM\", \"run_properties\": \"<azureml.automl.runtime.shared.model_wrappers.SparseNormalizer object at 0x7fe82642c438\", \"primary_metric\": 0.77397824, \"best_metric\": 0.81997765}, {\"run_id\": \"AutoML_169df40b-a192-427a-9e6b-74822c261a15_42\", \"run_number\": 47, \"metric\": null, \"status\": \"Completed\", \"run_type\": \"azureml.scriptrun\", \"training_percent\": \"100\", \"start_time\": \"2020-12-16T20:10:15.221692Z\", \"end_time\": \"2020-12-16T20:11:00.061935Z\", \"created_time\": \"2020-12-16T20:10:04.172383Z\", \"created_time_dt\": \"2020-12-16T20:10:04.172383Z\", \"duration\": \"0:00:55\", \"iteration\": \"42\", \"goal\": \"AUC_weighted_max\", \"run_name\": \"SparseNormalizer, XGBoostClassifier\", \"run_properties\": \"<azureml.automl.runtime.shared.model_wrappers.SparseNormalizer object at 0x7f188cea85c0\", \"primary_metric\": 0.73097004, \"best_metric\": 0.81997765}, {\"run_id\": \"AutoML_169df40b-a192-427a-9e6b-74822c261a15_43\", \"run_number\": 48, \"metric\": null, \"status\": \"Completed\", \"run_type\": \"azureml.scriptrun\", \"training_percent\": \"100\", \"start_time\": \"2020-12-16T20:10:20.134226Z\", \"end_time\": \"2020-12-16T20:11:02.144475Z\", \"created_time\": \"2020-12-16T20:10:08.369946Z\", \"created_time_dt\": \"2020-12-16T20:10:08.369946Z\", \"duration\": \"0:00:53\", \"iteration\": \"43\", \"goal\": \"AUC_weighted_max\", \"run_name\": \"MaxAbsScaler, LightGBM\", \"run_properties\": \"copy=True\", \"primary_metric\": 0.7934948, \"best_metric\": 0.81997765}, {\"run_id\": \"AutoML_169df40b-a192-427a-9e6b-74822c261a15_44\", \"run_number\": 49, \"metric\": null, \"status\": \"Completed\", \"run_type\": \"azureml.scriptrun\", \"training_percent\": \"100\", \"start_time\": \"2020-12-16T20:11:11.621512Z\", \"end_time\": \"2020-12-16T20:11:56.36644Z\", \"created_time\": \"2020-12-16T20:11:00.26645Z\", \"created_time_dt\": \"2020-12-16T20:11:00.26645Z\", \"duration\": \"0:00:56\", \"iteration\": \"44\", \"goal\": \"AUC_weighted_max\", \"run_name\": \"MaxAbsScaler, LightGBM\", \"run_properties\": \"copy=True\", \"primary_metric\": 0.8126174, \"best_metric\": 0.81997765}, {\"run_id\": \"AutoML_169df40b-a192-427a-9e6b-74822c261a15_45\", \"run_number\": 50, \"metric\": null, \"status\": \"Completed\", \"run_type\": \"azureml.scriptrun\", \"training_percent\": \"100\", \"start_time\": \"2020-12-16T20:11:16.427605Z\", \"end_time\": \"2020-12-16T20:12:01.189922Z\", \"created_time\": \"2020-12-16T20:11:05.379535Z\", \"created_time_dt\": \"2020-12-16T20:11:05.379535Z\", \"duration\": \"0:00:55\", \"iteration\": \"45\", \"goal\": \"AUC_weighted_max\", \"run_name\": \"SparseNormalizer, LightGBM\", \"run_properties\": \"<azureml.automl.runtime.shared.model_wrappers.SparseNormalizer object at 0x7fa87ce9b4a8\", \"primary_metric\": 0.78784952, \"best_metric\": 0.81997765}, {\"run_id\": \"AutoML_169df40b-a192-427a-9e6b-74822c261a15_46\", \"run_number\": 51, \"metric\": null, \"status\": \"Completed\", \"run_type\": \"azureml.scriptrun\", \"training_percent\": \"100\", \"start_time\": \"2020-12-16T20:11:16.031159Z\", \"end_time\": \"2020-12-16T20:12:00.677232Z\", \"created_time\": \"2020-12-16T20:11:05.385182Z\", \"created_time_dt\": \"2020-12-16T20:11:05.385182Z\", \"duration\": \"0:00:55\", \"iteration\": \"46\", \"goal\": \"AUC_weighted_max\", \"run_name\": \"SparseNormalizer, LightGBM\", \"run_properties\": \"<azureml.automl.runtime.shared.model_wrappers.SparseNormalizer object at 0x7f68c8185a58\", \"primary_metric\": 0.79464895, \"best_metric\": 0.81997765}, {\"run_id\": \"AutoML_169df40b-a192-427a-9e6b-74822c261a15_47\", \"run_number\": 52, \"metric\": null, \"status\": \"Canceled\", \"run_type\": \"azureml.scriptrun\", \"training_percent\": \"100\", \"start_time\": \"2020-12-16T20:11:16.408736Z\", \"end_time\": \"2020-12-16T20:12:04.079595Z\", \"created_time\": \"2020-12-16T20:11:05.448672Z\", \"created_time_dt\": \"2020-12-16T20:11:05.448672Z\", \"duration\": \"0:00:58\", \"iteration\": \"47\", \"goal\": \"AUC_weighted_max\", \"run_name\": \"SparseNormalizer, LightGBM\", \"run_properties\": \"<azureml.automl.runtime.shared.model_wrappers.SparseNormalizer object at 0x7ff94003d6d8\", \"primary_metric\": 0.80638584, \"best_metric\": 0.81997765}, {\"run_id\": \"AutoML_169df40b-a192-427a-9e6b-74822c261a15_48\", \"run_number\": 53, \"metric\": null, \"status\": \"Canceled\", \"run_type\": \"azureml.scriptrun\", \"training_percent\": \"100\", \"start_time\": \"2020-12-16T20:11:59.467674Z\", \"end_time\": \"2020-12-16T20:12:15.707452Z\", \"created_time\": \"2020-12-16T20:11:59.467674Z\", \"created_time_dt\": \"2020-12-16T20:11:59.467674Z\", \"duration\": \"0:00:16\", \"iteration\": \"48\", \"goal\": null, \"run_name\": \"Canceled\", \"run_properties\": null}, {\"run_id\": \"AutoML_169df40b-a192-427a-9e6b-74822c261a15_49\", \"run_number\": 54, \"metric\": null, \"status\": \"Completed\", \"run_type\": \"azureml.scriptrun\", \"training_percent\": \"100\", \"start_time\": \"2020-12-16T20:12:28.431281Z\", \"end_time\": \"2020-12-16T20:13:54.579171Z\", \"created_time\": \"2020-12-16T20:12:16.836049Z\", \"created_time_dt\": \"2020-12-16T20:12:16.836049Z\", \"duration\": \"0:01:37\", \"iteration\": \"49\", \"goal\": \"AUC_weighted_max\", \"run_name\": \"VotingEnsemble\", \"run_properties\": \"classification_labels=None,\\n                              estimators=[('34',\\n                                           Pipeline(memory=None,\\n                                                    steps=[('maxabsscaler',\\n                                                            MaxAbsScaler(copy=True\", \"primary_metric\": 0.83857161, \"best_metric\": 0.83857161}], \"children_metrics\": {\"categories\": [0], \"series\": {\"f1_score_macro\": [{\"categories\": [\"0\", \"1\", \"2\", \"3\", \"4\", \"5\", \"6\", \"7\", \"8\", \"9\", \"10\", \"11\", \"12\", \"13\", \"14\", \"15\", \"16\", \"17\", \"18\", \"19\", \"20\", \"21\", \"22\", \"23\", \"24\", \"25\", \"26\", \"27\", \"28\", \"29\", \"30\", \"31\", \"32\", \"33\", \"34\", \"35\", \"36\", \"37\", \"38\", \"39\", \"40\", \"41\", \"42\", \"43\", \"44\", \"45\", \"46\", \"47\", \"49\"], \"mode\": \"markers\", \"name\": \"f1_score_macro\", \"stepped\": false, \"type\": \"scatter\", \"data\": [0.6440979164908278, 0.6517505269752385, 0.4560712149214172, 0.6528132816296066, 0.4560712149214172, 0.4821449227882095, 0.5225265539955323, 0.4560712149214172, 0.4560712149214172, 0.6694511812890765, 0.6194290948208657, 0.6261684595302287, 0.6329381450711065, 0.5741848495581736, 0.4560712149214172, 0.663122412972147, 0.6481102258315179, 0.68090763635663, 0.6279231606557766, 0.6431610474142117, 0.6963316533467611, 0.6720325487043454, 0.6578855788702952, 0.6670296808595024, 0.6164687921415276, 0.6490448611867715, 0.6812653436332158, 0.6957486394457453, 0.6857534052379884, 0.6913452605406397, 0.6264328795449791, 0.6873082931599322, 0.6385406785165088, 0.6152982352397165, 0.6895467238905185, 0.5456139852280025, 0.6485489623374664, 0.6304490181214004, 0.589358359999567, 0.6297299593400626, 0.4671039693529228, 0.5552982409654184, 0.5445782891723702, 0.4635006581968813, 0.6339400248590591, 0.6245148923177647, 0.6217371999495893, 0.6307461332532912, 0.7006033742357757]}, {\"categories\": [\"0\", \"1\", \"2\", \"3\", \"4\", \"5\", \"6\", \"7\", \"8\", \"9\", \"10\", \"11\", \"12\", \"13\", \"14\", \"15\", \"16\", \"17\", \"18\", \"19\", \"20\", \"21\", \"22\", \"23\", \"24\", \"25\", \"26\", \"27\", \"28\", \"29\", \"30\", \"31\", \"32\", \"33\", \"34\", \"35\", \"36\", \"37\", \"38\", \"39\", \"40\", \"41\", \"42\", \"43\", \"44\", \"45\", \"46\", \"47\", \"49\"], \"mode\": \"lines\", \"name\": \"f1_score_macro_max\", \"stepped\": true, \"type\": \"scatter\", \"data\": [0.6440979164908278, 0.6517505269752385, 0.6517505269752385, 0.6528132816296066, 0.6528132816296066, 0.6528132816296066, 0.6528132816296066, 0.6528132816296066, 0.6528132816296066, 0.6694511812890765, 0.6694511812890765, 0.6694511812890765, 0.6694511812890765, 0.6694511812890765, 0.6694511812890765, 0.6694511812890765, 0.6694511812890765, 0.68090763635663, 0.68090763635663, 0.68090763635663, 0.6963316533467611, 0.6963316533467611, 0.6963316533467611, 0.6963316533467611, 0.6963316533467611, 0.6963316533467611, 0.6963316533467611, 0.6963316533467611, 0.6963316533467611, 0.6963316533467611, 0.6963316533467611, 0.6963316533467611, 0.6963316533467611, 0.6963316533467611, 0.6963316533467611, 0.6963316533467611, 0.6963316533467611, 0.6963316533467611, 0.6963316533467611, 0.6963316533467611, 0.6963316533467611, 0.6963316533467611, 0.6963316533467611, 0.6963316533467611, 0.6963316533467611, 0.6963316533467611, 0.6963316533467611, 0.6963316533467611, 0.7006033742357757]}], \"weighted_accuracy\": [{\"categories\": [\"0\", \"1\", \"2\", \"3\", \"4\", \"5\", \"6\", \"7\", \"8\", \"9\", \"10\", \"11\", \"12\", \"13\", \"14\", \"15\", \"16\", \"17\", \"18\", \"19\", \"20\", \"21\", \"22\", \"23\", \"24\", \"25\", \"26\", \"27\", \"28\", \"29\", \"30\", \"31\", \"32\", \"33\", \"34\", \"35\", \"36\", \"37\", \"38\", \"39\", \"40\", \"41\", \"42\", \"43\", \"44\", \"45\", \"46\", \"47\", \"49\"], \"mode\": \"markers\", \"name\": \"weighted_accuracy\", \"stepped\": false, \"type\": \"scatter\", \"data\": [0.9455208283381674, 0.9585294214895018, 0.963154603465977, 0.8533745296634373, 0.963154603465977, 0.962456338317494, 0.9604169691177592, 0.963154603465977, 0.963154603465977, 0.7941343526297538, 0.7467865615047659, 0.744160909114482, 0.7396385509676721, 0.9628515604848396, 0.963154603465977, 0.9178568519646769, 0.7565538009144567, 0.8526536839791946, 0.7317804609543517, 0.954637039773416, 0.9343017858188548, 0.9467403925980373, 0.956867246290686, 0.9476471646124627, 0.9496041238990581, 0.7526721293654827, 0.8308811971216677, 0.8704465859759659, 0.8443029173381217, 0.8491986303913276, 0.9485389252394878, 0.942295762773926, 0.9636369558944701, 0.9500680331400525, 0.9525368758554218, 0.9500193995278444, 0.953279559976908, 0.9546105819552141, 0.9586554845987657, 0.9555023303497258, 0.9637059374545188, 0.9624880180851857, 0.9586236369426074, 0.9635221594583383, 0.9602139175115139, 0.9521901239959174, 0.9520456131150553, 0.9554347085792987, 0.9498935070433526]}, {\"categories\": [\"0\", \"1\", \"2\", \"3\", \"4\", \"5\", \"6\", \"7\", \"8\", \"9\", \"10\", \"11\", \"12\", \"13\", \"14\", \"15\", \"16\", \"17\", \"18\", \"19\", \"20\", \"21\", \"22\", \"23\", \"24\", \"25\", \"26\", \"27\", \"28\", \"29\", \"30\", \"31\", \"32\", \"33\", \"34\", \"35\", \"36\", \"37\", \"38\", \"39\", \"40\", \"41\", \"42\", \"43\", \"44\", \"45\", \"46\", \"47\", \"49\"], \"mode\": \"lines\", \"name\": \"weighted_accuracy_max\", \"stepped\": true, \"type\": \"scatter\", \"data\": [0.9455208283381674, 0.9585294214895018, 0.963154603465977, 0.963154603465977, 0.963154603465977, 0.963154603465977, 0.963154603465977, 0.963154603465977, 0.963154603465977, 0.963154603465977, 0.963154603465977, 0.963154603465977, 0.963154603465977, 0.963154603465977, 0.963154603465977, 0.963154603465977, 0.963154603465977, 0.963154603465977, 0.963154603465977, 0.963154603465977, 0.963154603465977, 0.963154603465977, 0.963154603465977, 0.963154603465977, 0.963154603465977, 0.963154603465977, 0.963154603465977, 0.963154603465977, 0.963154603465977, 0.963154603465977, 0.963154603465977, 0.963154603465977, 0.9636369558944701, 0.9636369558944701, 0.9636369558944701, 0.9636369558944701, 0.9636369558944701, 0.9636369558944701, 0.9636369558944701, 0.9636369558944701, 0.9637059374545188, 0.9637059374545188, 0.9637059374545188, 0.9637059374545188, 0.9637059374545188, 0.9637059374545188, 0.9637059374545188, 0.9637059374545188, 0.9637059374545188]}], \"f1_score_micro\": [{\"categories\": [\"0\", \"1\", \"2\", \"3\", \"4\", \"5\", \"6\", \"7\", \"8\", \"9\", \"10\", \"11\", \"12\", \"13\", \"14\", \"15\", \"16\", \"17\", \"18\", \"19\", \"20\", \"21\", \"22\", \"23\", \"24\", \"25\", \"26\", \"27\", \"28\", \"29\", \"30\", \"31\", \"32\", \"33\", \"34\", \"35\", \"36\", \"37\", \"38\", \"39\", \"40\", \"41\", \"42\", \"43\", \"44\", \"45\", \"46\", \"47\", \"49\"], \"mode\": \"markers\", \"name\": \"f1_score_micro\", \"stepped\": false, \"type\": \"scatter\", \"data\": [0.8564625850340136, 0.8666666666666667, 0.8387755102040817, 0.8020408163265307, 0.8387755102040817, 0.8414965986394557, 0.845578231292517, 0.8387755102040817, 0.8387755102040817, 0.7755102040816326, 0.7278911564625851, 0.7299319727891156, 0.7306122448979592, 0.8564625850340136, 0.8387755102040817, 0.84421768707483, 0.7462585034013606, 0.8115646258503402, 0.7244897959183673, 0.8625850340136054, 0.8625850340136054, 0.8639455782312925, 0.8673469387755102, 0.863265306122449, 0.8537414965986395, 0.7448979591836734, 0.7999999999999999, 0.826530612244898, 0.808843537414966, 0.8136054421768707, 0.8551020408163265, 0.8646258503401362, 0.8673469387755102, 0.8537414965986395, 0.8714285714285714, 0.8408163265306122, 0.8625850340136054, 0.8598639455782312, 0.8551020408163265, 0.8605442176870749, 0.8408163265306122, 0.8523809523809524, 0.8482993197278912, 0.8401360544217686, 0.8639455782312925, 0.8571428571428572, 0.8564625850340136, 0.8605442176870749, 0.8727891156462585]}, {\"categories\": [\"0\", \"1\", \"2\", \"3\", \"4\", \"5\", \"6\", \"7\", \"8\", \"9\", \"10\", \"11\", \"12\", \"13\", \"14\", \"15\", \"16\", \"17\", \"18\", \"19\", \"20\", \"21\", \"22\", \"23\", \"24\", \"25\", \"26\", \"27\", \"28\", \"29\", \"30\", \"31\", \"32\", \"33\", \"34\", \"35\", \"36\", \"37\", \"38\", \"39\", \"40\", \"41\", \"42\", \"43\", \"44\", \"45\", \"46\", \"47\", \"49\"], \"mode\": \"lines\", \"name\": \"f1_score_micro_max\", \"stepped\": true, \"type\": \"scatter\", \"data\": [0.8564625850340136, 0.8666666666666667, 0.8666666666666667, 0.8666666666666667, 0.8666666666666667, 0.8666666666666667, 0.8666666666666667, 0.8666666666666667, 0.8666666666666667, 0.8666666666666667, 0.8666666666666667, 0.8666666666666667, 0.8666666666666667, 0.8666666666666667, 0.8666666666666667, 0.8666666666666667, 0.8666666666666667, 0.8666666666666667, 0.8666666666666667, 0.8666666666666667, 0.8666666666666667, 0.8666666666666667, 0.8673469387755102, 0.8673469387755102, 0.8673469387755102, 0.8673469387755102, 0.8673469387755102, 0.8673469387755102, 0.8673469387755102, 0.8673469387755102, 0.8673469387755102, 0.8673469387755102, 0.8673469387755102, 0.8673469387755102, 0.8714285714285714, 0.8714285714285714, 0.8714285714285714, 0.8714285714285714, 0.8714285714285714, 0.8714285714285714, 0.8714285714285714, 0.8714285714285714, 0.8714285714285714, 0.8714285714285714, 0.8714285714285714, 0.8714285714285714, 0.8714285714285714, 0.8714285714285714, 0.8727891156462585]}], \"log_loss\": [{\"categories\": [\"0\", \"1\", \"2\", \"3\", \"4\", \"5\", \"6\", \"7\", \"8\", \"9\", \"10\", \"11\", \"12\", \"13\", \"14\", \"15\", \"16\", \"17\", \"18\", \"19\", \"20\", \"21\", \"22\", \"23\", \"24\", \"25\", \"26\", \"27\", \"28\", \"29\", \"30\", \"31\", \"32\", \"33\", \"34\", \"35\", \"36\", \"37\", \"38\", \"39\", \"40\", \"41\", \"42\", \"43\", \"44\", \"45\", \"46\", \"47\", \"49\"], \"mode\": \"markers\", \"name\": \"log_loss\", \"stepped\": false, \"type\": \"scatter\", \"data\": [0.493909520055367, 0.36089368637869884, 0.39787514066928303, 0.543593794586874, 0.40612799303855923, 0.3801428447857709, 0.3680473554628398, 0.38861893648799123, 0.3997027286730656, 0.5545321837186031, 0.5921909955346453, 0.565547006146762, 0.6119701215792569, 0.44156242367754156, 0.39540823693943655, 0.4152518488672827, 0.527081042539482, 0.5530614606583049, 0.6266156205377592, 0.3695466006784441, 0.35444632487259337, 0.370181878141476, 0.3504921763841513, 0.355254748401369, 0.36110740940865566, 0.5021326005960923, 0.5633040725830591, 1.466506964886701, 0.8130246310904338, 0.7669826536695882, 0.3605977579234545, 0.35875727046243505, 0.3489160757364414, 0.36227664283517513, 0.34561101670460886, 0.4166070211406761, 0.35275778966083343, 0.376363199569757, 0.36715479585769456, 0.4261500764029771, 0.38760655201797256, 0.37668279250080045, 0.44497145112029085, 0.38750937166148375, 0.34679674834789753, 0.36301280701513877, 0.36264223187397443, 0.3541872035705354, 0.336400729485222]}, {\"categories\": [\"0\", \"1\", \"2\", \"3\", \"4\", \"5\", \"6\", \"7\", \"8\", \"9\", \"10\", \"11\", \"12\", \"13\", \"14\", \"15\", \"16\", \"17\", \"18\", \"19\", \"20\", \"21\", \"22\", \"23\", \"24\", \"25\", \"26\", \"27\", \"28\", \"29\", \"30\", \"31\", \"32\", \"33\", \"34\", \"35\", \"36\", \"37\", \"38\", \"39\", \"40\", \"41\", \"42\", \"43\", \"44\", \"45\", \"46\", \"47\", \"49\"], \"mode\": \"lines\", \"name\": \"log_loss_min\", \"stepped\": true, \"type\": \"scatter\", \"data\": [0.493909520055367, 0.36089368637869884, 0.36089368637869884, 0.36089368637869884, 0.36089368637869884, 0.36089368637869884, 0.36089368637869884, 0.36089368637869884, 0.36089368637869884, 0.36089368637869884, 0.36089368637869884, 0.36089368637869884, 0.36089368637869884, 0.36089368637869884, 0.36089368637869884, 0.36089368637869884, 0.36089368637869884, 0.36089368637869884, 0.36089368637869884, 0.36089368637869884, 0.35444632487259337, 0.35444632487259337, 0.3504921763841513, 0.3504921763841513, 0.3504921763841513, 0.3504921763841513, 0.3504921763841513, 0.3504921763841513, 0.3504921763841513, 0.3504921763841513, 0.3504921763841513, 0.3504921763841513, 0.3489160757364414, 0.3489160757364414, 0.34561101670460886, 0.34561101670460886, 0.34561101670460886, 0.34561101670460886, 0.34561101670460886, 0.34561101670460886, 0.34561101670460886, 0.34561101670460886, 0.34561101670460886, 0.34561101670460886, 0.34561101670460886, 0.34561101670460886, 0.34561101670460886, 0.34561101670460886, 0.336400729485222]}], \"AUC_micro\": [{\"categories\": [\"0\", \"1\", \"2\", \"3\", \"4\", \"5\", \"6\", \"7\", \"8\", \"9\", \"10\", \"11\", \"12\", \"13\", \"14\", \"15\", \"16\", \"17\", \"18\", \"19\", \"20\", \"21\", \"22\", \"23\", \"24\", \"25\", \"26\", \"27\", \"28\", \"29\", \"30\", \"31\", \"32\", \"33\", \"34\", \"35\", \"36\", \"37\", \"38\", \"39\", \"40\", \"41\", \"42\", \"43\", \"44\", \"45\", \"46\", \"47\", \"49\"], \"mode\": \"markers\", \"name\": \"AUC_micro\", \"stepped\": false, \"type\": \"scatter\", \"data\": [0.9139039289185061, 0.9185589337775927, 0.9051381368874081, 0.8782743301402194, 0.9051020408163266, 0.9110676107177565, 0.9177023462446203, 0.9148563098708871, 0.912260169373872, 0.8544300985700404, 0.8089268360405386, 0.8055157573233375, 0.8135693461057892, 0.9080994030265167, 0.9084909065667084, 0.9041232819658475, 0.8337151187005415, 0.8862848812994585, 0.8026252950159655, 0.9092933499930584, 0.9253366652783562, 0.9199805636540331, 0.9231306400111065, 0.9218228515896154, 0.9183104262113009, 0.8356448701929752, 0.8783895599055948, 0.8966548660280439, 0.8829807024850757, 0.8863529085103429, 0.9207427460780231, 0.9239080938497848, 0.9249382201860336, 0.9175385256143275, 0.9279980563654032, 0.889407191448008, 0.9230376232125503, 0.9198361793697071, 0.916563931695127, 0.9155948910176317, 0.9116326530612245, 0.9133874774399554, 0.9006795779536304, 0.9167416354296819, 0.9252394835485216, 0.9172261557684299, 0.9186450090240177, 0.9225142301818686, 0.9342621130084687]}, {\"categories\": [\"0\", \"1\", \"2\", \"3\", \"4\", \"5\", \"6\", \"7\", \"8\", \"9\", \"10\", \"11\", \"12\", \"13\", \"14\", \"15\", \"16\", \"17\", \"18\", \"19\", \"20\", \"21\", \"22\", \"23\", \"24\", \"25\", \"26\", \"27\", \"28\", \"29\", \"30\", \"31\", \"32\", \"33\", \"34\", \"35\", \"36\", \"37\", \"38\", \"39\", \"40\", \"41\", \"42\", \"43\", \"44\", \"45\", \"46\", \"47\", \"49\"], \"mode\": \"lines\", \"name\": \"AUC_micro_max\", \"stepped\": true, \"type\": \"scatter\", \"data\": [0.9139039289185061, 0.9185589337775927, 0.9185589337775927, 0.9185589337775927, 0.9185589337775927, 0.9185589337775927, 0.9185589337775927, 0.9185589337775927, 0.9185589337775927, 0.9185589337775927, 0.9185589337775927, 0.9185589337775927, 0.9185589337775927, 0.9185589337775927, 0.9185589337775927, 0.9185589337775927, 0.9185589337775927, 0.9185589337775927, 0.9185589337775927, 0.9185589337775927, 0.9253366652783562, 0.9253366652783562, 0.9253366652783562, 0.9253366652783562, 0.9253366652783562, 0.9253366652783562, 0.9253366652783562, 0.9253366652783562, 0.9253366652783562, 0.9253366652783562, 0.9253366652783562, 0.9253366652783562, 0.9253366652783562, 0.9253366652783562, 0.9279980563654032, 0.9279980563654032, 0.9279980563654032, 0.9279980563654032, 0.9279980563654032, 0.9279980563654032, 0.9279980563654032, 0.9279980563654032, 0.9279980563654032, 0.9279980563654032, 0.9279980563654032, 0.9279980563654032, 0.9279980563654032, 0.9279980563654032, 0.9342621130084687]}], \"average_precision_score_macro\": [{\"categories\": [\"0\", \"1\", \"2\", \"3\", \"4\", \"5\", \"6\", \"7\", \"8\", \"9\", \"10\", \"11\", \"12\", \"13\", \"14\", \"15\", \"16\", \"17\", \"18\", \"19\", \"20\", \"21\", \"22\", \"23\", \"24\", \"25\", \"26\", \"27\", \"28\", \"29\", \"30\", \"31\", \"32\", \"33\", \"34\", \"35\", \"36\", \"37\", \"38\", \"39\", \"40\", \"41\", \"42\", \"43\", \"44\", \"45\", \"46\", \"47\", \"49\"], \"mode\": \"markers\", \"name\": \"average_precision_score_macro\", \"stepped\": false, \"type\": \"scatter\", \"data\": [0.7071555698891109, 0.7311636522426781, 0.6668992463491515, 0.6898061023470673, 0.6847900994569344, 0.6942238628080944, 0.7220389667155812, 0.7084293165686472, 0.6958029054794803, 0.7196425816957975, 0.6671245021514944, 0.6789342766492524, 0.7125997737976831, 0.7027141328314789, 0.6840035110261214, 0.6482069641210947, 0.6974213343327055, 0.7150051557966686, 0.707383755053049, 0.7069239004285363, 0.7514712309613221, 0.7356950850882181, 0.7444126451495121, 0.7387704521820987, 0.719187759724742, 0.7408633700605728, 0.724278544972782, 0.7177236981498147, 0.7211741527229493, 0.7229013046094895, 0.7259510522654401, 0.7400612564109039, 0.7490937654953563, 0.7209710413795256, 0.7593750558007164, 0.626901321631817, 0.7391045885261601, 0.727860165964154, 0.7211057895431434, 0.7166043291726547, 0.7064412812841051, 0.7103792167662303, 0.6691086373478621, 0.7224944813513302, 0.7537103485781188, 0.7141622422450378, 0.7209226246349512, 0.7347922446198929, 0.7795321486805463]}, {\"categories\": [\"0\", \"1\", \"2\", \"3\", \"4\", \"5\", \"6\", \"7\", \"8\", \"9\", \"10\", \"11\", \"12\", \"13\", \"14\", \"15\", \"16\", \"17\", \"18\", \"19\", \"20\", \"21\", \"22\", \"23\", \"24\", \"25\", \"26\", \"27\", \"28\", \"29\", \"30\", \"31\", \"32\", \"33\", \"34\", \"35\", \"36\", \"37\", \"38\", \"39\", \"40\", \"41\", \"42\", \"43\", \"44\", \"45\", \"46\", \"47\", \"49\"], \"mode\": \"lines\", \"name\": \"average_precision_score_macro_max\", \"stepped\": true, \"type\": \"scatter\", \"data\": [0.7071555698891109, 0.7311636522426781, 0.7311636522426781, 0.7311636522426781, 0.7311636522426781, 0.7311636522426781, 0.7311636522426781, 0.7311636522426781, 0.7311636522426781, 0.7311636522426781, 0.7311636522426781, 0.7311636522426781, 0.7311636522426781, 0.7311636522426781, 0.7311636522426781, 0.7311636522426781, 0.7311636522426781, 0.7311636522426781, 0.7311636522426781, 0.7311636522426781, 0.7514712309613221, 0.7514712309613221, 0.7514712309613221, 0.7514712309613221, 0.7514712309613221, 0.7514712309613221, 0.7514712309613221, 0.7514712309613221, 0.7514712309613221, 0.7514712309613221, 0.7514712309613221, 0.7514712309613221, 0.7514712309613221, 0.7514712309613221, 0.7593750558007164, 0.7593750558007164, 0.7593750558007164, 0.7593750558007164, 0.7593750558007164, 0.7593750558007164, 0.7593750558007164, 0.7593750558007164, 0.7593750558007164, 0.7593750558007164, 0.7593750558007164, 0.7593750558007164, 0.7593750558007164, 0.7593750558007164, 0.7795321486805463]}], \"balanced_accuracy\": [{\"categories\": [\"0\", \"1\", \"2\", \"3\", \"4\", \"5\", \"6\", \"7\", \"8\", \"9\", \"10\", \"11\", \"12\", \"13\", \"14\", \"15\", \"16\", \"17\", \"18\", \"19\", \"20\", \"21\", \"22\", \"23\", \"24\", \"25\", \"26\", \"27\", \"28\", \"29\", \"30\", \"31\", \"32\", \"33\", \"34\", \"35\", \"36\", \"37\", \"38\", \"39\", \"40\", \"41\", \"42\", \"43\", \"44\", \"45\", \"46\", \"47\", \"49\"], \"mode\": \"markers\", \"name\": \"balanced_accuracy\", \"stepped\": false, \"type\": \"scatter\", \"data\": [0.6160895328417652, 0.6185862398870351, 0.5, 0.6643141296444837, 0.5, 0.512640051738991, 0.5332351427943588, 0.5, 0.5, 0.7272243549104486, 0.6777625911195432, 0.6907247110683131, 0.7091969836079824, 0.5652988016487815, 0.5, 0.6420209820861013, 0.7175506861274076, 0.7008815635885034, 0.7038254907226714, 0.613484337338059, 0.6709022457240669, 0.639722374884322, 0.6259277892763541, 0.6367089939332432, 0.5936693412270064, 0.7269013054739881, 0.7189286669150355, 0.71102359648134, 0.7162959545169286, 0.7208386063374407, 0.6012482444558614, 0.6557887546502058, 0.6078817179793498, 0.593538592875536, 0.6542548768789193, 0.5469425858227887, 0.6179059303583232, 0.6038510526307164, 0.5733449927037955, 0.6020605413366814, 0.5054347826086957, 0.5521005790432693, 0.5456264944627468, 0.5036231884057971, 0.6055107139092922, 0.5992092945997479, 0.5971629439375251, 0.6025858340295634, 0.6642636899029202]}, {\"categories\": [\"0\", \"1\", \"2\", \"3\", \"4\", \"5\", \"6\", \"7\", \"8\", \"9\", \"10\", \"11\", \"12\", \"13\", \"14\", \"15\", \"16\", \"17\", \"18\", \"19\", \"20\", \"21\", \"22\", \"23\", \"24\", \"25\", \"26\", \"27\", \"28\", \"29\", \"30\", \"31\", \"32\", \"33\", \"34\", \"35\", \"36\", \"37\", \"38\", \"39\", \"40\", \"41\", \"42\", \"43\", \"44\", \"45\", \"46\", \"47\", \"49\"], \"mode\": \"lines\", \"name\": \"balanced_accuracy_max\", \"stepped\": true, \"type\": \"scatter\", \"data\": [0.6160895328417652, 0.6185862398870351, 0.6185862398870351, 0.6643141296444837, 0.6643141296444837, 0.6643141296444837, 0.6643141296444837, 0.6643141296444837, 0.6643141296444837, 0.7272243549104486, 0.7272243549104486, 0.7272243549104486, 0.7272243549104486, 0.7272243549104486, 0.7272243549104486, 0.7272243549104486, 0.7272243549104486, 0.7272243549104486, 0.7272243549104486, 0.7272243549104486, 0.7272243549104486, 0.7272243549104486, 0.7272243549104486, 0.7272243549104486, 0.7272243549104486, 0.7272243549104486, 0.7272243549104486, 0.7272243549104486, 0.7272243549104486, 0.7272243549104486, 0.7272243549104486, 0.7272243549104486, 0.7272243549104486, 0.7272243549104486, 0.7272243549104486, 0.7272243549104486, 0.7272243549104486, 0.7272243549104486, 0.7272243549104486, 0.7272243549104486, 0.7272243549104486, 0.7272243549104486, 0.7272243549104486, 0.7272243549104486, 0.7272243549104486, 0.7272243549104486, 0.7272243549104486, 0.7272243549104486, 0.7272243549104486]}], \"precision_score_macro\": [{\"categories\": [\"0\", \"1\", \"2\", \"3\", \"4\", \"5\", \"6\", \"7\", \"8\", \"9\", \"10\", \"11\", \"12\", \"13\", \"14\", \"15\", \"16\", \"17\", \"18\", \"19\", \"20\", \"21\", \"22\", \"23\", \"24\", \"25\", \"26\", \"27\", \"28\", \"29\", \"30\", \"31\", \"32\", \"33\", \"34\", \"35\", \"36\", \"37\", \"38\", \"39\", \"40\", \"41\", \"42\", \"43\", \"44\", \"45\", \"46\", \"47\", \"49\"], \"mode\": \"markers\", \"name\": \"precision_score_macro\", \"stepped\": false, \"type\": \"scatter\", \"data\": [0.7626626757661241, 0.8242516146736025, 0.41938775510204085, 0.6470110843136384, 0.41938775510204085, 0.6654731027377115, 0.8052828799959267, 0.41938775510204085, 0.41938775510204085, 0.6522670293166098, 0.6150248294783996, 0.6198218881282714, 0.6265175870009946, 0.8646401311729424, 0.41938775510204085, 0.7082582572956434, 0.6375597600519025, 0.6680404740923928, 0.6230837248989952, 0.7945250289507798, 0.7556879814223117, 0.7799947593080224, 0.8143985964141652, 0.774940905147338, 0.7569645721469757, 0.6403073779607674, 0.6655486073331799, 0.6874059664571393, 0.6733332231497272, 0.6801456267628594, 0.7616913655481592, 0.7728459613814594, 0.8583037963627831, 0.7572705110114836, 0.8077639977318576, 0.680410246030522, 0.7948710271310467, 0.7919508520326853, 0.7985863837060249, 0.7954168678535276, 0.5868883487686656, 0.835470532681447, 0.7593233086452459, 0.5866092338574774, 0.8284243882411028, 0.7741981049372445, 0.7732797348881997, 0.8018436940410755, 0.804686311913493]}, {\"categories\": [\"0\", \"1\", \"2\", \"3\", \"4\", \"5\", \"6\", \"7\", \"8\", \"9\", \"10\", \"11\", \"12\", \"13\", \"14\", \"15\", \"16\", \"17\", \"18\", \"19\", \"20\", \"21\", \"22\", \"23\", \"24\", \"25\", \"26\", \"27\", \"28\", \"29\", \"30\", \"31\", \"32\", \"33\", \"34\", \"35\", \"36\", \"37\", \"38\", \"39\", \"40\", \"41\", \"42\", \"43\", \"44\", \"45\", \"46\", \"47\", \"49\"], \"mode\": \"lines\", \"name\": \"precision_score_macro_max\", \"stepped\": true, \"type\": \"scatter\", \"data\": [0.7626626757661241, 0.8242516146736025, 0.8242516146736025, 0.8242516146736025, 0.8242516146736025, 0.8242516146736025, 0.8242516146736025, 0.8242516146736025, 0.8242516146736025, 0.8242516146736025, 0.8242516146736025, 0.8242516146736025, 0.8242516146736025, 0.8646401311729424, 0.8646401311729424, 0.8646401311729424, 0.8646401311729424, 0.8646401311729424, 0.8646401311729424, 0.8646401311729424, 0.8646401311729424, 0.8646401311729424, 0.8646401311729424, 0.8646401311729424, 0.8646401311729424, 0.8646401311729424, 0.8646401311729424, 0.8646401311729424, 0.8646401311729424, 0.8646401311729424, 0.8646401311729424, 0.8646401311729424, 0.8646401311729424, 0.8646401311729424, 0.8646401311729424, 0.8646401311729424, 0.8646401311729424, 0.8646401311729424, 0.8646401311729424, 0.8646401311729424, 0.8646401311729424, 0.8646401311729424, 0.8646401311729424, 0.8646401311729424, 0.8646401311729424, 0.8646401311729424, 0.8646401311729424, 0.8646401311729424, 0.8646401311729424]}], \"f1_score_weighted\": [{\"categories\": [\"0\", \"1\", \"2\", \"3\", \"4\", \"5\", \"6\", \"7\", \"8\", \"9\", \"10\", \"11\", \"12\", \"13\", \"14\", \"15\", \"16\", \"17\", \"18\", \"19\", \"20\", \"21\", \"22\", \"23\", \"24\", \"25\", \"26\", \"27\", \"28\", \"29\", \"30\", \"31\", \"32\", \"33\", \"34\", \"35\", \"36\", \"37\", \"38\", \"39\", \"40\", \"41\", \"42\", \"43\", \"44\", \"45\", \"46\", \"47\", \"49\"], \"mode\": \"markers\", \"name\": \"f1_score_weighted\", \"stepped\": false, \"type\": \"scatter\", \"data\": [0.8292718291750386, 0.8360349451920408, 0.765408590565329, 0.8074359403717334, 0.765408590565329, 0.7741779465780633, 0.7888374358914536, 0.765408590565329, 0.765408590565329, 0.7961129840464681, 0.7580125478129288, 0.7589529747572579, 0.7613797855853738, 0.8098662771503057, 0.765408590565329, 0.8305017668589292, 0.7733883535350835, 0.8191832937643581, 0.756219942467486, 0.8322656292918982, 0.8474507933584835, 0.8414738553150386, 0.8383397281892058, 0.8389615523424464, 0.8207081827059812, 0.7738193245038336, 0.8133832862171659, 0.8305600917297126, 0.8193927069393916, 0.8233940955574939, 0.8241028638075871, 0.8456910976136837, 0.8319256357232904, 0.8197339230934131, 0.8489528526199974, 0.7918368345738935, 0.8334654808889882, 0.8270111797589546, 0.8131024021468386, 0.8277431785321135, 0.7701840339619013, 0.8018620275148155, 0.7979688259942614, 0.7686196340660523, 0.8285358560036519, 0.8244672986734285, 0.8233280534946084, 0.8277768581774091, 0.8536133012662264]}, {\"categories\": [\"0\", \"1\", \"2\", \"3\", \"4\", \"5\", \"6\", \"7\", \"8\", \"9\", \"10\", \"11\", \"12\", \"13\", \"14\", \"15\", \"16\", \"17\", \"18\", \"19\", \"20\", \"21\", \"22\", \"23\", \"24\", \"25\", \"26\", \"27\", \"28\", \"29\", \"30\", \"31\", \"32\", \"33\", \"34\", \"35\", \"36\", \"37\", \"38\", \"39\", \"40\", \"41\", \"42\", \"43\", \"44\", \"45\", \"46\", \"47\", \"49\"], \"mode\": \"lines\", \"name\": \"f1_score_weighted_max\", \"stepped\": true, \"type\": \"scatter\", \"data\": [0.8292718291750386, 0.8360349451920408, 0.8360349451920408, 0.8360349451920408, 0.8360349451920408, 0.8360349451920408, 0.8360349451920408, 0.8360349451920408, 0.8360349451920408, 0.8360349451920408, 0.8360349451920408, 0.8360349451920408, 0.8360349451920408, 0.8360349451920408, 0.8360349451920408, 0.8360349451920408, 0.8360349451920408, 0.8360349451920408, 0.8360349451920408, 0.8360349451920408, 0.8474507933584835, 0.8474507933584835, 0.8474507933584835, 0.8474507933584835, 0.8474507933584835, 0.8474507933584835, 0.8474507933584835, 0.8474507933584835, 0.8474507933584835, 0.8474507933584835, 0.8474507933584835, 0.8474507933584835, 0.8474507933584835, 0.8474507933584835, 0.8489528526199974, 0.8489528526199974, 0.8489528526199974, 0.8489528526199974, 0.8489528526199974, 0.8489528526199974, 0.8489528526199974, 0.8489528526199974, 0.8489528526199974, 0.8489528526199974, 0.8489528526199974, 0.8489528526199974, 0.8489528526199974, 0.8489528526199974, 0.8536133012662264]}], \"precision_score_micro\": [{\"categories\": [\"0\", \"1\", \"2\", \"3\", \"4\", \"5\", \"6\", \"7\", \"8\", \"9\", \"10\", \"11\", \"12\", \"13\", \"14\", \"15\", \"16\", \"17\", \"18\", \"19\", \"20\", \"21\", \"22\", \"23\", \"24\", \"25\", \"26\", \"27\", \"28\", \"29\", \"30\", \"31\", \"32\", \"33\", \"34\", \"35\", \"36\", \"37\", \"38\", \"39\", \"40\", \"41\", \"42\", \"43\", \"44\", \"45\", \"46\", \"47\", \"49\"], \"mode\": \"markers\", \"name\": \"precision_score_micro\", \"stepped\": false, \"type\": \"scatter\", \"data\": [0.8564625850340136, 0.8666666666666667, 0.8387755102040817, 0.8020408163265307, 0.8387755102040817, 0.8414965986394557, 0.845578231292517, 0.8387755102040817, 0.8387755102040817, 0.7755102040816326, 0.7278911564625851, 0.7299319727891156, 0.7306122448979592, 0.8564625850340136, 0.8387755102040817, 0.84421768707483, 0.7462585034013606, 0.8115646258503402, 0.7244897959183674, 0.8625850340136054, 0.8625850340136054, 0.8639455782312925, 0.8673469387755102, 0.863265306122449, 0.8537414965986395, 0.7448979591836734, 0.7999999999999999, 0.826530612244898, 0.808843537414966, 0.8136054421768707, 0.8551020408163265, 0.864625850340136, 0.8673469387755102, 0.8537414965986395, 0.8714285714285714, 0.8408163265306122, 0.8625850340136054, 0.8598639455782312, 0.8551020408163265, 0.8605442176870749, 0.8408163265306122, 0.8523809523809524, 0.8482993197278912, 0.8401360544217686, 0.8639455782312925, 0.8571428571428571, 0.8564625850340136, 0.8605442176870749, 0.8727891156462585]}, {\"categories\": [\"0\", \"1\", \"2\", \"3\", \"4\", \"5\", \"6\", \"7\", \"8\", \"9\", \"10\", \"11\", \"12\", \"13\", \"14\", \"15\", \"16\", \"17\", \"18\", \"19\", \"20\", \"21\", \"22\", \"23\", \"24\", \"25\", \"26\", \"27\", \"28\", \"29\", \"30\", \"31\", \"32\", \"33\", \"34\", \"35\", \"36\", \"37\", \"38\", \"39\", \"40\", \"41\", \"42\", \"43\", \"44\", \"45\", \"46\", \"47\", \"49\"], \"mode\": \"lines\", \"name\": \"precision_score_micro_max\", \"stepped\": true, \"type\": \"scatter\", \"data\": [0.8564625850340136, 0.8666666666666667, 0.8666666666666667, 0.8666666666666667, 0.8666666666666667, 0.8666666666666667, 0.8666666666666667, 0.8666666666666667, 0.8666666666666667, 0.8666666666666667, 0.8666666666666667, 0.8666666666666667, 0.8666666666666667, 0.8666666666666667, 0.8666666666666667, 0.8666666666666667, 0.8666666666666667, 0.8666666666666667, 0.8666666666666667, 0.8666666666666667, 0.8666666666666667, 0.8666666666666667, 0.8673469387755102, 0.8673469387755102, 0.8673469387755102, 0.8673469387755102, 0.8673469387755102, 0.8673469387755102, 0.8673469387755102, 0.8673469387755102, 0.8673469387755102, 0.8673469387755102, 0.8673469387755102, 0.8673469387755102, 0.8714285714285714, 0.8714285714285714, 0.8714285714285714, 0.8714285714285714, 0.8714285714285714, 0.8714285714285714, 0.8714285714285714, 0.8714285714285714, 0.8714285714285714, 0.8714285714285714, 0.8714285714285714, 0.8714285714285714, 0.8714285714285714, 0.8714285714285714, 0.8727891156462585]}], \"average_precision_score_micro\": [{\"categories\": [\"0\", \"1\", \"2\", \"3\", \"4\", \"5\", \"6\", \"7\", \"8\", \"9\", \"10\", \"11\", \"12\", \"13\", \"14\", \"15\", \"16\", \"17\", \"18\", \"19\", \"20\", \"21\", \"22\", \"23\", \"24\", \"25\", \"26\", \"27\", \"28\", \"29\", \"30\", \"31\", \"32\", \"33\", \"34\", \"35\", \"36\", \"37\", \"38\", \"39\", \"40\", \"41\", \"42\", \"43\", \"44\", \"45\", \"46\", \"47\", \"49\"], \"mode\": \"markers\", \"name\": \"average_precision_score_micro\", \"stepped\": false, \"type\": \"scatter\", \"data\": [0.9047978687795598, 0.9056047629763134, 0.8911350808255133, 0.8695112196212472, 0.8981870396223367, 0.9024059764298795, 0.905769982140192, 0.9076893340204224, 0.9025234957440788, 0.8506380370284017, 0.8011521445054094, 0.8079292517501456, 0.809031724889401, 0.893364772516668, 0.8977247796702411, 0.8875782669986503, 0.8272559782734069, 0.879395464777249, 0.7990806025348451, 0.8940605031766883, 0.9163589447856378, 0.9123774776089167, 0.9159240222558357, 0.9147908215952518, 0.9090376856986927, 0.8315796164760313, 0.8706370969155227, 0.8876462708740774, 0.8752475769324976, 0.8788514400580315, 0.9127783110471303, 0.9180145053905235, 0.917909453105358, 0.9053430948893157, 0.920279275038851, 0.8803043924407884, 0.9136110873045901, 0.9089032028891572, 0.9077845381432946, 0.9056450000969841, 0.9018353241154089, 0.9031439306958801, 0.8834472170331836, 0.906889999374242, 0.9154171848774459, 0.9059522150702563, 0.9090399332833163, 0.9152222537696186, 0.9260138818105673]}, {\"categories\": [\"0\", \"1\", \"2\", \"3\", \"4\", \"5\", \"6\", \"7\", \"8\", \"9\", \"10\", \"11\", \"12\", \"13\", \"14\", \"15\", \"16\", \"17\", \"18\", \"19\", \"20\", \"21\", \"22\", \"23\", \"24\", \"25\", \"26\", \"27\", \"28\", \"29\", \"30\", \"31\", \"32\", \"33\", \"34\", \"35\", \"36\", \"37\", \"38\", \"39\", \"40\", \"41\", \"42\", \"43\", \"44\", \"45\", \"46\", \"47\", \"49\"], \"mode\": \"lines\", \"name\": \"average_precision_score_micro_max\", \"stepped\": true, \"type\": \"scatter\", \"data\": [0.9047978687795598, 0.9056047629763134, 0.9056047629763134, 0.9056047629763134, 0.9056047629763134, 0.9056047629763134, 0.905769982140192, 0.9076893340204224, 0.9076893340204224, 0.9076893340204224, 0.9076893340204224, 0.9076893340204224, 0.9076893340204224, 0.9076893340204224, 0.9076893340204224, 0.9076893340204224, 0.9076893340204224, 0.9076893340204224, 0.9076893340204224, 0.9076893340204224, 0.9163589447856378, 0.9163589447856378, 0.9163589447856378, 0.9163589447856378, 0.9163589447856378, 0.9163589447856378, 0.9163589447856378, 0.9163589447856378, 0.9163589447856378, 0.9163589447856378, 0.9163589447856378, 0.9180145053905235, 0.9180145053905235, 0.9180145053905235, 0.920279275038851, 0.920279275038851, 0.920279275038851, 0.920279275038851, 0.920279275038851, 0.920279275038851, 0.920279275038851, 0.920279275038851, 0.920279275038851, 0.920279275038851, 0.920279275038851, 0.920279275038851, 0.920279275038851, 0.920279275038851, 0.9260138818105673]}], \"accuracy\": [{\"categories\": [\"0\", \"1\", \"2\", \"3\", \"4\", \"5\", \"6\", \"7\", \"8\", \"9\", \"10\", \"11\", \"12\", \"13\", \"14\", \"15\", \"16\", \"17\", \"18\", \"19\", \"20\", \"21\", \"22\", \"23\", \"24\", \"25\", \"26\", \"27\", \"28\", \"29\", \"30\", \"31\", \"32\", \"33\", \"34\", \"35\", \"36\", \"37\", \"38\", \"39\", \"40\", \"41\", \"42\", \"43\", \"44\", \"45\", \"46\", \"47\", \"49\"], \"mode\": \"markers\", \"name\": \"accuracy\", \"stepped\": false, \"type\": \"scatter\", \"data\": [0.8564625850340136, 0.8666666666666667, 0.8387755102040817, 0.8020408163265307, 0.8387755102040817, 0.8414965986394557, 0.845578231292517, 0.8387755102040817, 0.8387755102040817, 0.7755102040816326, 0.7278911564625851, 0.7299319727891156, 0.7306122448979592, 0.8564625850340136, 0.8387755102040817, 0.84421768707483, 0.7462585034013606, 0.8115646258503402, 0.7244897959183674, 0.8625850340136054, 0.8625850340136054, 0.8639455782312925, 0.8673469387755102, 0.863265306122449, 0.8537414965986395, 0.7448979591836734, 0.7999999999999999, 0.826530612244898, 0.808843537414966, 0.8136054421768707, 0.8551020408163265, 0.864625850340136, 0.8673469387755102, 0.8537414965986395, 0.8714285714285714, 0.8408163265306122, 0.8625850340136054, 0.8598639455782312, 0.8551020408163265, 0.8605442176870749, 0.8408163265306122, 0.8523809523809524, 0.8482993197278912, 0.8401360544217686, 0.8639455782312925, 0.8571428571428571, 0.8564625850340136, 0.8605442176870749, 0.8727891156462585]}, {\"categories\": [\"0\", \"1\", \"2\", \"3\", \"4\", \"5\", \"6\", \"7\", \"8\", \"9\", \"10\", \"11\", \"12\", \"13\", \"14\", \"15\", \"16\", \"17\", \"18\", \"19\", \"20\", \"21\", \"22\", \"23\", \"24\", \"25\", \"26\", \"27\", \"28\", \"29\", \"30\", \"31\", \"32\", \"33\", \"34\", \"35\", \"36\", \"37\", \"38\", \"39\", \"40\", \"41\", \"42\", \"43\", \"44\", \"45\", \"46\", \"47\", \"49\"], \"mode\": \"lines\", \"name\": \"accuracy_max\", \"stepped\": true, \"type\": \"scatter\", \"data\": [0.8564625850340136, 0.8666666666666667, 0.8666666666666667, 0.8666666666666667, 0.8666666666666667, 0.8666666666666667, 0.8666666666666667, 0.8666666666666667, 0.8666666666666667, 0.8666666666666667, 0.8666666666666667, 0.8666666666666667, 0.8666666666666667, 0.8666666666666667, 0.8666666666666667, 0.8666666666666667, 0.8666666666666667, 0.8666666666666667, 0.8666666666666667, 0.8666666666666667, 0.8666666666666667, 0.8666666666666667, 0.8673469387755102, 0.8673469387755102, 0.8673469387755102, 0.8673469387755102, 0.8673469387755102, 0.8673469387755102, 0.8673469387755102, 0.8673469387755102, 0.8673469387755102, 0.8673469387755102, 0.8673469387755102, 0.8673469387755102, 0.8714285714285714, 0.8714285714285714, 0.8714285714285714, 0.8714285714285714, 0.8714285714285714, 0.8714285714285714, 0.8714285714285714, 0.8714285714285714, 0.8714285714285714, 0.8714285714285714, 0.8714285714285714, 0.8714285714285714, 0.8714285714285714, 0.8714285714285714, 0.8727891156462585]}], \"AUC_weighted\": [{\"categories\": [\"0\", \"1\", \"2\", \"3\", \"4\", \"5\", \"6\", \"7\", \"8\", \"9\", \"10\", \"11\", \"12\", \"13\", \"14\", \"15\", \"16\", \"17\", \"18\", \"19\", \"20\", \"21\", \"22\", \"23\", \"24\", \"25\", \"26\", \"27\", \"28\", \"29\", \"30\", \"31\", \"32\", \"33\", \"34\", \"35\", \"36\", \"37\", \"38\", \"39\", \"40\", \"41\", \"42\", \"43\", \"44\", \"45\", \"46\", \"47\", \"49\"], \"mode\": \"markers\", \"name\": \"AUC_weighted\", \"stepped\": false, \"type\": \"scatter\", \"data\": [0.7756652027501719, 0.78759691009801, 0.7513827873564255, 0.76035874334845, 0.7483001971509866, 0.7705005307836151, 0.7955225483817618, 0.7860033775187781, 0.7780800750247128, 0.7957083936848264, 0.7421269121083771, 0.7563631913368692, 0.776629186266382, 0.7558988731681221, 0.7629987098319714, 0.7425223736168635, 0.7751332812125292, 0.7839494975966964, 0.7691595920222958, 0.7567571213671466, 0.8132265171761736, 0.7939082437810195, 0.8041560695234398, 0.7994992744953202, 0.7925420777635983, 0.8104362911936193, 0.7883757669654724, 0.7863165007762204, 0.7856343328857833, 0.7898972140325659, 0.798474518379375, 0.8094172811833396, 0.811654025684886, 0.7883696887846652, 0.819977650167029, 0.6929099800288842, 0.8052961394943225, 0.7934771537065021, 0.7861980296461853, 0.7808943800441277, 0.7739782410916636, 0.7769534619168365, 0.7309700385552388, 0.7934948034984215, 0.8126173962815652, 0.7878495175026236, 0.7946489476368566, 0.8063858385331574, 0.8385716129067703]}, {\"categories\": [\"0\", \"1\", \"2\", \"3\", \"4\", \"5\", \"6\", \"7\", \"8\", \"9\", \"10\", \"11\", \"12\", \"13\", \"14\", \"15\", \"16\", \"17\", \"18\", \"19\", \"20\", \"21\", \"22\", \"23\", \"24\", \"25\", \"26\", \"27\", \"28\", \"29\", \"30\", \"31\", \"32\", \"33\", \"34\", \"35\", \"36\", \"37\", \"38\", \"39\", \"40\", \"41\", \"42\", \"43\", \"44\", \"45\", \"46\", \"47\", \"49\"], \"mode\": \"lines\", \"name\": \"AUC_weighted_max\", \"stepped\": true, \"type\": \"scatter\", \"data\": [0.7756652027501719, 0.78759691009801, 0.78759691009801, 0.78759691009801, 0.78759691009801, 0.78759691009801, 0.7955225483817618, 0.7955225483817618, 0.7955225483817618, 0.7957083936848264, 0.7957083936848264, 0.7957083936848264, 0.7957083936848264, 0.7957083936848264, 0.7957083936848264, 0.7957083936848264, 0.7957083936848264, 0.7957083936848264, 0.7957083936848264, 0.7957083936848264, 0.8132265171761736, 0.8132265171761736, 0.8132265171761736, 0.8132265171761736, 0.8132265171761736, 0.8132265171761736, 0.8132265171761736, 0.8132265171761736, 0.8132265171761736, 0.8132265171761736, 0.8132265171761736, 0.8132265171761736, 0.8132265171761736, 0.8132265171761736, 0.819977650167029, 0.819977650167029, 0.819977650167029, 0.819977650167029, 0.819977650167029, 0.819977650167029, 0.819977650167029, 0.819977650167029, 0.819977650167029, 0.819977650167029, 0.819977650167029, 0.819977650167029, 0.819977650167029, 0.819977650167029, 0.8385716129067703]}], \"AUC_macro\": [{\"categories\": [\"0\", \"1\", \"2\", \"3\", \"4\", \"5\", \"6\", \"7\", \"8\", \"9\", \"10\", \"11\", \"12\", \"13\", \"14\", \"15\", \"16\", \"17\", \"18\", \"19\", \"20\", \"21\", \"22\", \"23\", \"24\", \"25\", \"26\", \"27\", \"28\", \"29\", \"30\", \"31\", \"32\", \"33\", \"34\", \"35\", \"36\", \"37\", \"38\", \"39\", \"40\", \"41\", \"42\", \"43\", \"44\", \"45\", \"46\", \"47\", \"49\"], \"mode\": \"markers\", \"name\": \"AUC_macro\", \"stepped\": false, \"type\": \"scatter\", \"data\": [0.7756652027501719, 0.7875969100980101, 0.7513827873564255, 0.76035874334845, 0.7483001971509866, 0.7705005307836151, 0.795522548381762, 0.7860033775187781, 0.7780800750247128, 0.7957083936848264, 0.7421269121083771, 0.7563631913368692, 0.776629186266382, 0.7558988731681223, 0.7629987098319714, 0.7425223736168635, 0.7751332812125294, 0.7839494975966964, 0.7691595920222958, 0.7567571213671466, 0.8132265171761736, 0.7939082437810195, 0.8041560695234398, 0.7994992744953201, 0.7925420777635983, 0.8104362911936193, 0.7883757669654724, 0.7863126713928402, 0.7856343328857834, 0.7898972140325657, 0.798474518379375, 0.8094172811833396, 0.8116540256848861, 0.7883696887846652, 0.819977650167029, 0.6929099800288842, 0.8052961394943225, 0.7934771537065021, 0.7861980296461853, 0.7808943800441277, 0.7739782410916636, 0.7769534619168366, 0.7309722966474427, 0.7934948034984215, 0.8126173962815652, 0.7878495175026236, 0.7946489476368566, 0.8063858385331573, 0.8385716129067703]}, {\"categories\": [\"0\", \"1\", \"2\", \"3\", \"4\", \"5\", \"6\", \"7\", \"8\", \"9\", \"10\", \"11\", \"12\", \"13\", \"14\", \"15\", \"16\", \"17\", \"18\", \"19\", \"20\", \"21\", \"22\", \"23\", \"24\", \"25\", \"26\", \"27\", \"28\", \"29\", \"30\", \"31\", \"32\", \"33\", \"34\", \"35\", \"36\", \"37\", \"38\", \"39\", \"40\", \"41\", \"42\", \"43\", \"44\", \"45\", \"46\", \"47\", \"49\"], \"mode\": \"lines\", \"name\": \"AUC_macro_max\", \"stepped\": true, \"type\": \"scatter\", \"data\": [0.7756652027501719, 0.7875969100980101, 0.7875969100980101, 0.7875969100980101, 0.7875969100980101, 0.7875969100980101, 0.795522548381762, 0.795522548381762, 0.795522548381762, 0.7957083936848264, 0.7957083936848264, 0.7957083936848264, 0.7957083936848264, 0.7957083936848264, 0.7957083936848264, 0.7957083936848264, 0.7957083936848264, 0.7957083936848264, 0.7957083936848264, 0.7957083936848264, 0.8132265171761736, 0.8132265171761736, 0.8132265171761736, 0.8132265171761736, 0.8132265171761736, 0.8132265171761736, 0.8132265171761736, 0.8132265171761736, 0.8132265171761736, 0.8132265171761736, 0.8132265171761736, 0.8132265171761736, 0.8132265171761736, 0.8132265171761736, 0.819977650167029, 0.819977650167029, 0.819977650167029, 0.819977650167029, 0.819977650167029, 0.819977650167029, 0.819977650167029, 0.819977650167029, 0.819977650167029, 0.819977650167029, 0.819977650167029, 0.819977650167029, 0.819977650167029, 0.819977650167029, 0.8385716129067703]}], \"recall_score_micro\": [{\"categories\": [\"0\", \"1\", \"2\", \"3\", \"4\", \"5\", \"6\", \"7\", \"8\", \"9\", \"10\", \"11\", \"12\", \"13\", \"14\", \"15\", \"16\", \"17\", \"18\", \"19\", \"20\", \"21\", \"22\", \"23\", \"24\", \"25\", \"26\", \"27\", \"28\", \"29\", \"30\", \"31\", \"32\", \"33\", \"34\", \"35\", \"36\", \"37\", \"38\", \"39\", \"40\", \"41\", \"42\", \"43\", \"44\", \"45\", \"46\", \"47\", \"49\"], \"mode\": \"markers\", \"name\": \"recall_score_micro\", \"stepped\": false, \"type\": \"scatter\", \"data\": [0.8564625850340136, 0.8666666666666667, 0.8387755102040817, 0.8020408163265307, 0.8387755102040817, 0.8414965986394557, 0.845578231292517, 0.8387755102040817, 0.8387755102040817, 0.7755102040816326, 0.7278911564625851, 0.7299319727891156, 0.7306122448979592, 0.8564625850340136, 0.8387755102040817, 0.84421768707483, 0.7462585034013606, 0.8115646258503402, 0.7244897959183674, 0.8625850340136054, 0.8625850340136054, 0.8639455782312925, 0.8673469387755102, 0.863265306122449, 0.8537414965986395, 0.7448979591836734, 0.7999999999999999, 0.826530612244898, 0.808843537414966, 0.8136054421768707, 0.8551020408163265, 0.864625850340136, 0.8673469387755102, 0.8537414965986395, 0.8714285714285714, 0.8408163265306122, 0.8625850340136054, 0.8598639455782312, 0.8551020408163265, 0.8605442176870749, 0.8408163265306122, 0.8523809523809524, 0.8482993197278912, 0.8401360544217686, 0.8639455782312925, 0.8571428571428571, 0.8564625850340136, 0.8605442176870749, 0.8727891156462585]}, {\"categories\": [\"0\", \"1\", \"2\", \"3\", \"4\", \"5\", \"6\", \"7\", \"8\", \"9\", \"10\", \"11\", \"12\", \"13\", \"14\", \"15\", \"16\", \"17\", \"18\", \"19\", \"20\", \"21\", \"22\", \"23\", \"24\", \"25\", \"26\", \"27\", \"28\", \"29\", \"30\", \"31\", \"32\", \"33\", \"34\", \"35\", \"36\", \"37\", \"38\", \"39\", \"40\", \"41\", \"42\", \"43\", \"44\", \"45\", \"46\", \"47\", \"49\"], \"mode\": \"lines\", \"name\": \"recall_score_micro_max\", \"stepped\": true, \"type\": \"scatter\", \"data\": [0.8564625850340136, 0.8666666666666667, 0.8666666666666667, 0.8666666666666667, 0.8666666666666667, 0.8666666666666667, 0.8666666666666667, 0.8666666666666667, 0.8666666666666667, 0.8666666666666667, 0.8666666666666667, 0.8666666666666667, 0.8666666666666667, 0.8666666666666667, 0.8666666666666667, 0.8666666666666667, 0.8666666666666667, 0.8666666666666667, 0.8666666666666667, 0.8666666666666667, 0.8666666666666667, 0.8666666666666667, 0.8673469387755102, 0.8673469387755102, 0.8673469387755102, 0.8673469387755102, 0.8673469387755102, 0.8673469387755102, 0.8673469387755102, 0.8673469387755102, 0.8673469387755102, 0.8673469387755102, 0.8673469387755102, 0.8673469387755102, 0.8714285714285714, 0.8714285714285714, 0.8714285714285714, 0.8714285714285714, 0.8714285714285714, 0.8714285714285714, 0.8714285714285714, 0.8714285714285714, 0.8714285714285714, 0.8714285714285714, 0.8714285714285714, 0.8714285714285714, 0.8714285714285714, 0.8714285714285714, 0.8727891156462585]}], \"matthews_correlation\": [{\"categories\": [\"0\", \"1\", \"2\", \"3\", \"4\", \"5\", \"6\", \"7\", \"8\", \"9\", \"10\", \"11\", \"12\", \"13\", \"14\", \"15\", \"16\", \"17\", \"18\", \"19\", \"20\", \"21\", \"22\", \"23\", \"24\", \"25\", \"26\", \"27\", \"28\", \"29\", \"30\", \"31\", \"32\", \"33\", \"34\", \"35\", \"36\", \"37\", \"38\", \"39\", \"40\", \"41\", \"42\", \"43\", \"44\", \"45\", \"46\", \"47\", \"49\"], \"mode\": \"markers\", \"name\": \"matthews_correlation\", \"stepped\": false, \"type\": \"scatter\", \"data\": [0.3480921912734897, 0.3915913769979709, 0.0, 0.31004034227098415, 0.0, 0.09944782570536603, 0.19876772458619632, 0.0, 0.0, 0.37167317021563556, 0.285300500549506, 0.3020566844560639, 0.3248177489978062, 0.2975636019949153, 0.0, 0.3429949700371326, 0.34590142376245286, 0.36723727733934136, 0.3166103642248506, 0.36489108857061087, 0.4165797232292498, 0.39444005111934194, 0.3950881618525886, 0.38628512748967275, 0.3096157277123282, 0.35601865557737783, 0.3797794966172017, 0.39668573823118414, 0.38565896791667137, 0.39695371803705903, 0.3245367589301488, 0.41150329726911794, 0.39167602062263834, 0.3088341514986338, 0.43391408924032, 0.18216830155772878, 0.37183308160852707, 0.3467823770959931, 0.2959118484623998, 0.3470879542952679, 0.054415486258773245, 0.2634217839627537, 0.21549413888873925, 0.044384512533976885, 0.3709111447101845, 0.3293134723292432, 0.3251572909134494, 0.35134126192258885, 0.4462317009829602]}, {\"categories\": [\"0\", \"1\", \"2\", \"3\", \"4\", \"5\", \"6\", \"7\", \"8\", \"9\", \"10\", \"11\", \"12\", \"13\", \"14\", \"15\", \"16\", \"17\", \"18\", \"19\", \"20\", \"21\", \"22\", \"23\", \"24\", \"25\", \"26\", \"27\", \"28\", \"29\", \"30\", \"31\", \"32\", \"33\", \"34\", \"35\", \"36\", \"37\", \"38\", \"39\", \"40\", \"41\", \"42\", \"43\", \"44\", \"45\", \"46\", \"47\", \"49\"], \"mode\": \"lines\", \"name\": \"matthews_correlation_max\", \"stepped\": true, \"type\": \"scatter\", \"data\": [0.3480921912734897, 0.3915913769979709, 0.3915913769979709, 0.3915913769979709, 0.3915913769979709, 0.3915913769979709, 0.3915913769979709, 0.3915913769979709, 0.3915913769979709, 0.3915913769979709, 0.3915913769979709, 0.3915913769979709, 0.3915913769979709, 0.3915913769979709, 0.3915913769979709, 0.3915913769979709, 0.3915913769979709, 0.3915913769979709, 0.3915913769979709, 0.3915913769979709, 0.4165797232292498, 0.4165797232292498, 0.4165797232292498, 0.4165797232292498, 0.4165797232292498, 0.4165797232292498, 0.4165797232292498, 0.4165797232292498, 0.4165797232292498, 0.4165797232292498, 0.4165797232292498, 0.4165797232292498, 0.4165797232292498, 0.4165797232292498, 0.43391408924032, 0.43391408924032, 0.43391408924032, 0.43391408924032, 0.43391408924032, 0.43391408924032, 0.43391408924032, 0.43391408924032, 0.43391408924032, 0.43391408924032, 0.43391408924032, 0.43391408924032, 0.43391408924032, 0.43391408924032, 0.4462317009829602]}], \"recall_score_weighted\": [{\"categories\": [\"0\", \"1\", \"2\", \"3\", \"4\", \"5\", \"6\", \"7\", \"8\", \"9\", \"10\", \"11\", \"12\", \"13\", \"14\", \"15\", \"16\", \"17\", \"18\", \"19\", \"20\", \"21\", \"22\", \"23\", \"24\", \"25\", \"26\", \"27\", \"28\", \"29\", \"30\", \"31\", \"32\", \"33\", \"34\", \"35\", \"36\", \"37\", \"38\", \"39\", \"40\", \"41\", \"42\", \"43\", \"44\", \"45\", \"46\", \"47\", \"49\"], \"mode\": \"markers\", \"name\": \"recall_score_weighted\", \"stepped\": false, \"type\": \"scatter\", \"data\": [0.8564625850340136, 0.8666666666666667, 0.8387755102040817, 0.8020408163265307, 0.8387755102040817, 0.8414965986394557, 0.845578231292517, 0.8387755102040817, 0.8387755102040817, 0.7755102040816326, 0.7278911564625851, 0.7299319727891156, 0.7306122448979592, 0.8564625850340136, 0.8387755102040817, 0.84421768707483, 0.7462585034013606, 0.8115646258503402, 0.7244897959183674, 0.8625850340136054, 0.8625850340136054, 0.8639455782312925, 0.8673469387755102, 0.863265306122449, 0.8537414965986395, 0.7448979591836734, 0.7999999999999999, 0.826530612244898, 0.808843537414966, 0.8136054421768707, 0.8551020408163265, 0.864625850340136, 0.8673469387755102, 0.8537414965986395, 0.8714285714285714, 0.8408163265306122, 0.8625850340136054, 0.8598639455782312, 0.8551020408163265, 0.8605442176870749, 0.8408163265306122, 0.8523809523809524, 0.8482993197278912, 0.8401360544217686, 0.8639455782312925, 0.8571428571428571, 0.8564625850340136, 0.8605442176870749, 0.8727891156462585]}, {\"categories\": [\"0\", \"1\", \"2\", \"3\", \"4\", \"5\", \"6\", \"7\", \"8\", \"9\", \"10\", \"11\", \"12\", \"13\", \"14\", \"15\", \"16\", \"17\", \"18\", \"19\", \"20\", \"21\", \"22\", \"23\", \"24\", \"25\", \"26\", \"27\", \"28\", \"29\", \"30\", \"31\", \"32\", \"33\", \"34\", \"35\", \"36\", \"37\", \"38\", \"39\", \"40\", \"41\", \"42\", \"43\", \"44\", \"45\", \"46\", \"47\", \"49\"], \"mode\": \"lines\", \"name\": \"recall_score_weighted_max\", \"stepped\": true, \"type\": \"scatter\", \"data\": [0.8564625850340136, 0.8666666666666667, 0.8666666666666667, 0.8666666666666667, 0.8666666666666667, 0.8666666666666667, 0.8666666666666667, 0.8666666666666667, 0.8666666666666667, 0.8666666666666667, 0.8666666666666667, 0.8666666666666667, 0.8666666666666667, 0.8666666666666667, 0.8666666666666667, 0.8666666666666667, 0.8666666666666667, 0.8666666666666667, 0.8666666666666667, 0.8666666666666667, 0.8666666666666667, 0.8666666666666667, 0.8673469387755102, 0.8673469387755102, 0.8673469387755102, 0.8673469387755102, 0.8673469387755102, 0.8673469387755102, 0.8673469387755102, 0.8673469387755102, 0.8673469387755102, 0.8673469387755102, 0.8673469387755102, 0.8673469387755102, 0.8714285714285714, 0.8714285714285714, 0.8714285714285714, 0.8714285714285714, 0.8714285714285714, 0.8714285714285714, 0.8714285714285714, 0.8714285714285714, 0.8714285714285714, 0.8714285714285714, 0.8714285714285714, 0.8714285714285714, 0.8714285714285714, 0.8714285714285714, 0.8727891156462585]}], \"precision_score_weighted\": [{\"categories\": [\"0\", \"1\", \"2\", \"3\", \"4\", \"5\", \"6\", \"7\", \"8\", \"9\", \"10\", \"11\", \"12\", \"13\", \"14\", \"15\", \"16\", \"17\", \"18\", \"19\", \"20\", \"21\", \"22\", \"23\", \"24\", \"25\", \"26\", \"27\", \"28\", \"29\", \"30\", \"31\", \"32\", \"33\", \"34\", \"35\", \"36\", \"37\", \"38\", \"39\", \"40\", \"41\", \"42\", \"43\", \"44\", \"45\", \"46\", \"47\", \"49\"], \"mode\": \"markers\", \"name\": \"precision_score_weighted\", \"stepped\": false, \"type\": \"scatter\", \"data\": [0.8354787159565484, 0.8554594795662523, 0.7040969040677495, 0.8149826678686395, 0.7040969040677495, 0.7799809722405205, 0.8400371050636881, 0.7040969040677495, 0.7040969040677495, 0.8349623364410368, 0.815262404244906, 0.8180187420556733, 0.8266367387106409, 0.8583561572172859, 0.7040969040677495, 0.8253584948053838, 0.8303372634012138, 0.8295715481977414, 0.8247067968368486, 0.8471096172309426, 0.8460769579022654, 0.8471608289247444, 0.8557824483860647, 0.844307739901163, 0.831800487134638, 0.8363181596894019, 0.835774387530161, 0.8371910397088805, 0.8371429906031498, 0.8404684520590099, 0.8331256508134522, 0.8472697341053349, 0.8638552551253785, 0.8309020023326962, 0.8576802554187282, 0.7929992189113734, 0.8472270054080857, 0.8442483513671869, 0.8398446141975757, 0.8443997315674436, 0.7680366439833278, 0.8470139958646484, 0.8244452908469092, 0.7675832246582139, 0.8525974223737102, 0.8375558708395241, 0.8370730086563912, 0.8456282861078878, 0.8592298327956412]}, {\"categories\": [\"0\", \"1\", \"2\", \"3\", \"4\", \"5\", \"6\", \"7\", \"8\", \"9\", \"10\", \"11\", \"12\", \"13\", \"14\", \"15\", \"16\", \"17\", \"18\", \"19\", \"20\", \"21\", \"22\", \"23\", \"24\", \"25\", \"26\", \"27\", \"28\", \"29\", \"30\", \"31\", \"32\", \"33\", \"34\", \"35\", \"36\", \"37\", \"38\", \"39\", \"40\", \"41\", \"42\", \"43\", \"44\", \"45\", \"46\", \"47\", \"49\"], \"mode\": \"lines\", \"name\": \"precision_score_weighted_max\", \"stepped\": true, \"type\": \"scatter\", \"data\": [0.8354787159565484, 0.8554594795662523, 0.8554594795662523, 0.8554594795662523, 0.8554594795662523, 0.8554594795662523, 0.8554594795662523, 0.8554594795662523, 0.8554594795662523, 0.8554594795662523, 0.8554594795662523, 0.8554594795662523, 0.8554594795662523, 0.8583561572172859, 0.8583561572172859, 0.8583561572172859, 0.8583561572172859, 0.8583561572172859, 0.8583561572172859, 0.8583561572172859, 0.8583561572172859, 0.8583561572172859, 0.8583561572172859, 0.8583561572172859, 0.8583561572172859, 0.8583561572172859, 0.8583561572172859, 0.8583561572172859, 0.8583561572172859, 0.8583561572172859, 0.8583561572172859, 0.8583561572172859, 0.8638552551253785, 0.8638552551253785, 0.8638552551253785, 0.8638552551253785, 0.8638552551253785, 0.8638552551253785, 0.8638552551253785, 0.8638552551253785, 0.8638552551253785, 0.8638552551253785, 0.8638552551253785, 0.8638552551253785, 0.8638552551253785, 0.8638552551253785, 0.8638552551253785, 0.8638552551253785, 0.8638552551253785]}], \"norm_macro_recall\": [{\"categories\": [\"0\", \"1\", \"2\", \"3\", \"4\", \"5\", \"6\", \"7\", \"8\", \"9\", \"10\", \"11\", \"12\", \"13\", \"14\", \"15\", \"16\", \"17\", \"18\", \"19\", \"20\", \"21\", \"22\", \"23\", \"24\", \"25\", \"26\", \"27\", \"28\", \"29\", \"30\", \"31\", \"32\", \"33\", \"34\", \"35\", \"36\", \"37\", \"38\", \"39\", \"40\", \"41\", \"42\", \"43\", \"44\", \"45\", \"46\", \"47\", \"49\"], \"mode\": \"markers\", \"name\": \"norm_macro_recall\", \"stepped\": false, \"type\": \"scatter\", \"data\": [0.2321790656835304, 0.23717247977407005, 0.0, 0.3286282592889674, 0.0, 0.025280103477982003, 0.06647028558871766, 0.0, 0.0, 0.45444870982089697, 0.35552518223908636, 0.3814494221366264, 0.41839396721596467, 0.13059760329756295, 0.0, 0.2840419641722025, 0.4351013722548152, 0.40176312717700685, 0.4076509814453428, 0.22696867467611806, 0.3418044914481338, 0.27944474976864386, 0.2518555785527082, 0.27341798786648636, 0.18733868245401286, 0.4538026109479761, 0.4378573338300709, 0.42204719296268006, 0.432591909033857, 0.4416772126748814, 0.20249648891172298, 0.31157750930041167, 0.21576343595869965, 0.18707718575107216, 0.30850975375783846, 0.09388517164557715, 0.2358118607166464, 0.20770210526143265, 0.14668998540759093, 0.20412108267336282, 0.010869565217391278, 0.10420115808653851, 0.09125298892549376, 0.007246376811594235, 0.21102142781858454, 0.19841858919949576, 0.1943258878750503, 0.20517166805912698, 0.32852737980584035]}, {\"categories\": [\"0\", \"1\", \"2\", \"3\", \"4\", \"5\", \"6\", \"7\", \"8\", \"9\", \"10\", \"11\", \"12\", \"13\", \"14\", \"15\", \"16\", \"17\", \"18\", \"19\", \"20\", \"21\", \"22\", \"23\", \"24\", \"25\", \"26\", \"27\", \"28\", \"29\", \"30\", \"31\", \"32\", \"33\", \"34\", \"35\", \"36\", \"37\", \"38\", \"39\", \"40\", \"41\", \"42\", \"43\", \"44\", \"45\", \"46\", \"47\", \"49\"], \"mode\": \"lines\", \"name\": \"norm_macro_recall_max\", \"stepped\": true, \"type\": \"scatter\", \"data\": [0.2321790656835304, 0.23717247977407005, 0.23717247977407005, 0.3286282592889674, 0.3286282592889674, 0.3286282592889674, 0.3286282592889674, 0.3286282592889674, 0.3286282592889674, 0.45444870982089697, 0.45444870982089697, 0.45444870982089697, 0.45444870982089697, 0.45444870982089697, 0.45444870982089697, 0.45444870982089697, 0.45444870982089697, 0.45444870982089697, 0.45444870982089697, 0.45444870982089697, 0.45444870982089697, 0.45444870982089697, 0.45444870982089697, 0.45444870982089697, 0.45444870982089697, 0.45444870982089697, 0.45444870982089697, 0.45444870982089697, 0.45444870982089697, 0.45444870982089697, 0.45444870982089697, 0.45444870982089697, 0.45444870982089697, 0.45444870982089697, 0.45444870982089697, 0.45444870982089697, 0.45444870982089697, 0.45444870982089697, 0.45444870982089697, 0.45444870982089697, 0.45444870982089697, 0.45444870982089697, 0.45444870982089697, 0.45444870982089697, 0.45444870982089697, 0.45444870982089697, 0.45444870982089697, 0.45444870982089697, 0.45444870982089697]}], \"recall_score_macro\": [{\"categories\": [\"0\", \"1\", \"2\", \"3\", \"4\", \"5\", \"6\", \"7\", \"8\", \"9\", \"10\", \"11\", \"12\", \"13\", \"14\", \"15\", \"16\", \"17\", \"18\", \"19\", \"20\", \"21\", \"22\", \"23\", \"24\", \"25\", \"26\", \"27\", \"28\", \"29\", \"30\", \"31\", \"32\", \"33\", \"34\", \"35\", \"36\", \"37\", \"38\", \"39\", \"40\", \"41\", \"42\", \"43\", \"44\", \"45\", \"46\", \"47\", \"49\"], \"mode\": \"markers\", \"name\": \"recall_score_macro\", \"stepped\": false, \"type\": \"scatter\", \"data\": [0.6160895328417652, 0.6185862398870351, 0.5, 0.6643141296444837, 0.5, 0.512640051738991, 0.5332351427943588, 0.5, 0.5, 0.7272243549104486, 0.6777625911195432, 0.6907247110683131, 0.7091969836079824, 0.5652988016487815, 0.5, 0.6420209820861013, 0.7175506861274076, 0.7008815635885034, 0.7038254907226714, 0.613484337338059, 0.6709022457240669, 0.639722374884322, 0.6259277892763541, 0.6367089939332432, 0.5936693412270064, 0.7269013054739881, 0.7189286669150355, 0.71102359648134, 0.7162959545169286, 0.7208386063374407, 0.6012482444558614, 0.6557887546502058, 0.6078817179793498, 0.593538592875536, 0.6542548768789193, 0.5469425858227887, 0.6179059303583232, 0.6038510526307164, 0.5733449927037955, 0.6020605413366814, 0.5054347826086957, 0.5521005790432693, 0.5456264944627468, 0.5036231884057971, 0.6055107139092922, 0.5992092945997479, 0.5971629439375251, 0.6025858340295634, 0.6642636899029202]}, {\"categories\": [\"0\", \"1\", \"2\", \"3\", \"4\", \"5\", \"6\", \"7\", \"8\", \"9\", \"10\", \"11\", \"12\", \"13\", \"14\", \"15\", \"16\", \"17\", \"18\", \"19\", \"20\", \"21\", \"22\", \"23\", \"24\", \"25\", \"26\", \"27\", \"28\", \"29\", \"30\", \"31\", \"32\", \"33\", \"34\", \"35\", \"36\", \"37\", \"38\", \"39\", \"40\", \"41\", \"42\", \"43\", \"44\", \"45\", \"46\", \"47\", \"49\"], \"mode\": \"lines\", \"name\": \"recall_score_macro_max\", \"stepped\": true, \"type\": \"scatter\", \"data\": [0.6160895328417652, 0.6185862398870351, 0.6185862398870351, 0.6643141296444837, 0.6643141296444837, 0.6643141296444837, 0.6643141296444837, 0.6643141296444837, 0.6643141296444837, 0.7272243549104486, 0.7272243549104486, 0.7272243549104486, 0.7272243549104486, 0.7272243549104486, 0.7272243549104486, 0.7272243549104486, 0.7272243549104486, 0.7272243549104486, 0.7272243549104486, 0.7272243549104486, 0.7272243549104486, 0.7272243549104486, 0.7272243549104486, 0.7272243549104486, 0.7272243549104486, 0.7272243549104486, 0.7272243549104486, 0.7272243549104486, 0.7272243549104486, 0.7272243549104486, 0.7272243549104486, 0.7272243549104486, 0.7272243549104486, 0.7272243549104486, 0.7272243549104486, 0.7272243549104486, 0.7272243549104486, 0.7272243549104486, 0.7272243549104486, 0.7272243549104486, 0.7272243549104486, 0.7272243549104486, 0.7272243549104486, 0.7272243549104486, 0.7272243549104486, 0.7272243549104486, 0.7272243549104486, 0.7272243549104486, 0.7272243549104486]}], \"average_precision_score_weighted\": [{\"categories\": [\"0\", \"1\", \"2\", \"3\", \"4\", \"5\", \"6\", \"7\", \"8\", \"9\", \"10\", \"11\", \"12\", \"13\", \"14\", \"15\", \"16\", \"17\", \"18\", \"19\", \"20\", \"21\", \"22\", \"23\", \"24\", \"25\", \"26\", \"27\", \"28\", \"29\", \"30\", \"31\", \"32\", \"33\", \"34\", \"35\", \"36\", \"37\", \"38\", \"39\", \"40\", \"41\", \"42\", \"43\", \"44\", \"45\", \"46\", \"47\", \"49\"], \"mode\": \"markers\", \"name\": \"average_precision_score_weighted\", \"stepped\": false, \"type\": \"scatter\", \"data\": [0.8611732904165456, 0.8668984555914164, 0.8400282535070072, 0.8514305212485566, 0.8517116238613172, 0.8566891821335282, 0.866971926592837, 0.8646364597001034, 0.8563697409551856, 0.8690636364716684, 0.8414299368241672, 0.8507965741508254, 0.8605872532293132, 0.8516074310193268, 0.850188385920577, 0.8328848312947986, 0.8562572539904488, 0.865280070112398, 0.8574062673495358, 0.8523561804436445, 0.880730446148923, 0.8741041991329029, 0.8787992595779617, 0.8763033907109447, 0.867194731650395, 0.8781589747586854, 0.8675041690445277, 0.8646058564339958, 0.8660920157074625, 0.8679468283158416, 0.871639145318047, 0.8790790958851599, 0.881583482230298, 0.8644708799513205, 0.8852698069551509, 0.8211889036952535, 0.8753167744365324, 0.8688305539777602, 0.8667262551119057, 0.8638266752635698, 0.8596585233826278, 0.8612653542791257, 0.835391050776693, 0.8676748075598812, 0.8805823741947387, 0.8632762534213848, 0.867604588900233, 0.8758117426812126, 0.8941625444649351]}, {\"categories\": [\"0\", \"1\", \"2\", \"3\", \"4\", \"5\", \"6\", \"7\", \"8\", \"9\", \"10\", \"11\", \"12\", \"13\", \"14\", \"15\", \"16\", \"17\", \"18\", \"19\", \"20\", \"21\", \"22\", \"23\", \"24\", \"25\", \"26\", \"27\", \"28\", \"29\", \"30\", \"31\", \"32\", \"33\", \"34\", \"35\", \"36\", \"37\", \"38\", \"39\", \"40\", \"41\", \"42\", \"43\", \"44\", \"45\", \"46\", \"47\", \"49\"], \"mode\": \"lines\", \"name\": \"average_precision_score_weighted_max\", \"stepped\": true, \"type\": \"scatter\", \"data\": [0.8611732904165456, 0.8668984555914164, 0.8668984555914164, 0.8668984555914164, 0.8668984555914164, 0.8668984555914164, 0.866971926592837, 0.866971926592837, 0.866971926592837, 0.8690636364716684, 0.8690636364716684, 0.8690636364716684, 0.8690636364716684, 0.8690636364716684, 0.8690636364716684, 0.8690636364716684, 0.8690636364716684, 0.8690636364716684, 0.8690636364716684, 0.8690636364716684, 0.880730446148923, 0.880730446148923, 0.880730446148923, 0.880730446148923, 0.880730446148923, 0.880730446148923, 0.880730446148923, 0.880730446148923, 0.880730446148923, 0.880730446148923, 0.880730446148923, 0.880730446148923, 0.881583482230298, 0.881583482230298, 0.8852698069551509, 0.8852698069551509, 0.8852698069551509, 0.8852698069551509, 0.8852698069551509, 0.8852698069551509, 0.8852698069551509, 0.8852698069551509, 0.8852698069551509, 0.8852698069551509, 0.8852698069551509, 0.8852698069551509, 0.8852698069551509, 0.8852698069551509, 0.8941625444649351]}]}, \"metricName\": null, \"primaryMetricName\": \"AUC_weighted\", \"showLegend\": false}, \"run_metrics\": [{\"name\": \"experiment_status\", \"run_id\": \"AutoML_169df40b-a192-427a-9e6b-74822c261a15\", \"categories\": [0, 1, 2, 3, 4, 5, 6, 7, 8, 9, 10, 11, 12, 13, 14], \"series\": [{\"data\": [\"DatasetEvaluation\", \"FeaturesGeneration\", \"DatasetFeaturization\", \"DatasetFeaturizationCompleted\", \"DatasetBalancing\", \"DatasetCrossValidationSplit\", \"ModelSelection\", \"BestRunExplainModel\", \"ModelExplanationDataSetSetup\", \"PickSurrogateModel\", \"EngineeredFeatureExplanations\", \"EngineeredFeatureExplanations\", \"RawFeaturesExplanations\", \"RawFeaturesExplanations\", \"BestRunExplainModel\"]}]}, {\"name\": \"experiment_status_description\", \"run_id\": \"AutoML_169df40b-a192-427a-9e6b-74822c261a15\", \"categories\": [0, 1, 2, 3, 4, 5, 6, 7, 8, 9, 10, 11, 12, 13, 14], \"series\": [{\"data\": [\"Gathering dataset statistics.\", \"Generating features for the dataset.\", \"Beginning to fit featurizers and featurize the dataset.\", \"Completed fit featurizers and featurizing the dataset.\", \"Performing class balancing sweeping\", \"Generating individually featurized CV splits.\", \"Beginning model selection.\", \"Best run model explanations started\", \"Model explanations data setup completed\", \"Choosing LightGBM as the surrogate model for explanations\", \"Computation of engineered features started\", \"Computation of engineered features completed\", \"Computation of raw features started\", \"Computation of raw features completed\", \"Best run model explanations completed\"]}]}, {\"name\": \"recall_score_micro\", \"run_id\": \"AutoML_169df40b-a192-427a-9e6b-74822c261a15\", \"categories\": [0], \"series\": [{\"data\": [0.8727891156462585]}]}, {\"name\": \"f1_score_macro\", \"run_id\": \"AutoML_169df40b-a192-427a-9e6b-74822c261a15\", \"categories\": [0], \"series\": [{\"data\": [0.7006033742357757]}]}, {\"name\": \"log_loss\", \"run_id\": \"AutoML_169df40b-a192-427a-9e6b-74822c261a15\", \"categories\": [0], \"series\": [{\"data\": [0.336400729485222]}]}, {\"name\": \"AUC_micro\", \"run_id\": \"AutoML_169df40b-a192-427a-9e6b-74822c261a15\", \"categories\": [0], \"series\": [{\"data\": [0.9342621130084687]}]}, {\"name\": \"weighted_accuracy\", \"run_id\": \"AutoML_169df40b-a192-427a-9e6b-74822c261a15\", \"categories\": [0], \"series\": [{\"data\": [0.9498935070433526]}]}, {\"name\": \"average_precision_score_micro\", \"run_id\": \"AutoML_169df40b-a192-427a-9e6b-74822c261a15\", \"categories\": [0], \"series\": [{\"data\": [0.9260138818105673]}]}, {\"name\": \"precision_score_macro\", \"run_id\": \"AutoML_169df40b-a192-427a-9e6b-74822c261a15\", \"categories\": [0], \"series\": [{\"data\": [0.804686311913493]}]}, {\"name\": \"recall_score_weighted\", \"run_id\": \"AutoML_169df40b-a192-427a-9e6b-74822c261a15\", \"categories\": [0], \"series\": [{\"data\": [0.8727891156462585]}]}, {\"name\": \"f1_score_micro\", \"run_id\": \"AutoML_169df40b-a192-427a-9e6b-74822c261a15\", \"categories\": [0], \"series\": [{\"data\": [0.8727891156462585]}]}, {\"name\": \"average_precision_score_weighted\", \"run_id\": \"AutoML_169df40b-a192-427a-9e6b-74822c261a15\", \"categories\": [0], \"series\": [{\"data\": [0.8941625444649351]}]}, {\"name\": \"AUC_weighted\", \"run_id\": \"AutoML_169df40b-a192-427a-9e6b-74822c261a15\", \"categories\": [0], \"series\": [{\"data\": [0.8385716129067703]}]}, {\"name\": \"balanced_accuracy\", \"run_id\": \"AutoML_169df40b-a192-427a-9e6b-74822c261a15\", \"categories\": [0], \"series\": [{\"data\": [0.6642636899029202]}]}, {\"name\": \"norm_macro_recall\", \"run_id\": \"AutoML_169df40b-a192-427a-9e6b-74822c261a15\", \"categories\": [0], \"series\": [{\"data\": [0.32852737980584035]}]}, {\"name\": \"f1_score_weighted\", \"run_id\": \"AutoML_169df40b-a192-427a-9e6b-74822c261a15\", \"categories\": [0], \"series\": [{\"data\": [0.8536133012662264]}]}, {\"name\": \"AUC_macro\", \"run_id\": \"AutoML_169df40b-a192-427a-9e6b-74822c261a15\", \"categories\": [0], \"series\": [{\"data\": [0.8385716129067703]}]}, {\"name\": \"matthews_correlation\", \"run_id\": \"AutoML_169df40b-a192-427a-9e6b-74822c261a15\", \"categories\": [0], \"series\": [{\"data\": [0.4462317009829602]}]}, {\"name\": \"recall_score_macro\", \"run_id\": \"AutoML_169df40b-a192-427a-9e6b-74822c261a15\", \"categories\": [0], \"series\": [{\"data\": [0.6642636899029202]}]}, {\"name\": \"precision_score_weighted\", \"run_id\": \"AutoML_169df40b-a192-427a-9e6b-74822c261a15\", \"categories\": [0], \"series\": [{\"data\": [0.8592298327956412]}]}, {\"name\": \"average_precision_score_macro\", \"run_id\": \"AutoML_169df40b-a192-427a-9e6b-74822c261a15\", \"categories\": [0], \"series\": [{\"data\": [0.7795321486805463]}]}, {\"name\": \"accuracy\", \"run_id\": \"AutoML_169df40b-a192-427a-9e6b-74822c261a15\", \"categories\": [0], \"series\": [{\"data\": [0.8727891156462585]}]}, {\"name\": \"precision_score_micro\", \"run_id\": \"AutoML_169df40b-a192-427a-9e6b-74822c261a15\", \"categories\": [0], \"series\": [{\"data\": [0.8727891156462585]}]}], \"run_logs\": \"\\nRun is completed.\", \"graph\": {}, \"widget_settings\": {\"childWidgetDisplay\": \"popup\", \"send_telemetry\": false, \"log_level\": \"INFO\", \"sdk_version\": \"1.18.0\"}, \"loading\": false}"
     },
     "metadata": {},
     "output_type": "display_data"
    }
   ],
   "source": [
    "RunDetails(automl_run).show()"
   ]
  },
  {
   "cell_type": "code",
   "execution_count": 16,
   "metadata": {},
   "outputs": [
    {
     "data": {
      "text/plain": [
       "{'runId': 'AutoML_169df40b-a192-427a-9e6b-74822c261a15',\n",
       " 'target': 'cpu-cluster',\n",
       " 'status': 'Completed',\n",
       " 'startTimeUtc': '2020-12-16T19:46:56.308959Z',\n",
       " 'endTimeUtc': '2020-12-16T20:14:06.991977Z',\n",
       " 'properties': {'num_iterations': '1000',\n",
       "  'training_type': 'TrainFull',\n",
       "  'acquisition_function': 'EI',\n",
       "  'primary_metric': 'AUC_weighted',\n",
       "  'train_split': '0',\n",
       "  'acquisition_parameter': '0',\n",
       "  'num_cross_validation': None,\n",
       "  'target': 'cpu-cluster',\n",
       "  'AMLSettingsJsonString': '{\"path\":null,\"name\":\"attrition-automl\",\"subscription_id\":\"bf088f59-f015-4332-bd36-54b988be7c90\",\"resource_group\":\"sbirk-aml-rg\",\"workspace_name\":\"sbirk-aml-ws\",\"region\":\"westeurope\",\"compute_target\":\"cpu-cluster\",\"spark_service\":null,\"azure_service\":\"remote\",\"_local_managed_run_id\":null,\"many_models\":false,\"pipeline_fetch_max_batch_size\":1,\"iterations\":1000,\"primary_metric\":\"AUC_weighted\",\"task_type\":\"classification\",\"data_script\":null,\"validation_size\":0.0,\"n_cross_validations\":null,\"y_min\":null,\"y_max\":null,\"num_classes\":null,\"featurization\":\"auto\",\"_ignore_package_version_incompatibilities\":false,\"is_timeseries\":false,\"max_cores_per_iteration\":1,\"max_concurrent_iterations\":4,\"iteration_timeout_minutes\":null,\"mem_in_mb\":null,\"enforce_time_on_windows\":false,\"experiment_timeout_minutes\":60,\"experiment_exit_score\":null,\"whitelist_models\":null,\"blacklist_algos\":[\"TensorFlowLinearClassifier\",\"TensorFlowDNN\"],\"supported_models\":[\"TensorFlowDNN\",\"KNN\",\"DecisionTree\",\"AveragedPerceptronClassifier\",\"RandomForest\",\"LightGBM\",\"GradientBoosting\",\"SGD\",\"TensorFlowLinearClassifier\",\"BernoulliNaiveBayes\",\"LinearSVM\",\"LogisticRegression\",\"ExtremeRandomTrees\",\"XGBoostClassifier\",\"SVM\",\"MultinomialNaiveBayes\"],\"auto_blacklist\":true,\"blacklist_samples_reached\":false,\"exclude_nan_labels\":true,\"verbosity\":20,\"_debug_log\":\"azureml_automl.log\",\"show_warnings\":false,\"model_explainability\":true,\"service_url\":null,\"sdk_url\":null,\"sdk_packages\":null,\"enable_onnx_compatible_models\":true,\"enable_split_onnx_featurizer_estimator_models\":false,\"vm_type\":\"STANDARD_D2_V2\",\"telemetry_verbosity\":20,\"send_telemetry\":true,\"enable_dnn\":false,\"scenario\":\"SDK-1.13.0\",\"environment_label\":null,\"force_text_dnn\":false,\"enable_feature_sweeping\":false,\"enable_early_stopping\":true,\"early_stopping_n_iters\":10,\"metrics\":null,\"enable_ensembling\":true,\"enable_stack_ensembling\":false,\"ensemble_iterations\":15,\"enable_tf\":false,\"enable_subsampling\":null,\"subsample_seed\":null,\"enable_nimbusml\":false,\"enable_streaming\":false,\"force_streaming\":false,\"track_child_runs\":true,\"allowed_private_models\":[],\"label_column_name\":\"Attrition\",\"weight_column_name\":null,\"cv_split_column_names\":null,\"enable_local_managed\":false,\"cost_mode\":1,\"lag_length\":0,\"metric_operation\":\"maximize\",\"preprocess\":true}',\n",
       "  'DataPrepJsonString': '{\\\\\"training_data\\\\\": \\\\\"{\\\\\\\\\\\\\"blocks\\\\\\\\\\\\\": [{\\\\\\\\\\\\\"id\\\\\\\\\\\\\": \\\\\\\\\\\\\"d117ea17-85fa-433e-ad4e-efc1c8b4992c\\\\\\\\\\\\\", \\\\\\\\\\\\\"type\\\\\\\\\\\\\": \\\\\\\\\\\\\"Microsoft.DPrep.GetDatastoreFilesBlock\\\\\\\\\\\\\", \\\\\\\\\\\\\"arguments\\\\\\\\\\\\\": {\\\\\\\\\\\\\"datastores\\\\\\\\\\\\\": [{\\\\\\\\\\\\\"datastoreName\\\\\\\\\\\\\": \\\\\\\\\\\\\"workspaceblobstore\\\\\\\\\\\\\", \\\\\\\\\\\\\"path\\\\\\\\\\\\\": \\\\\\\\\\\\\"UI/12-16-2020_064721_UTC/attrition.csv\\\\\\\\\\\\\", \\\\\\\\\\\\\"resourceGroup\\\\\\\\\\\\\": \\\\\\\\\\\\\"sbirk-aml-rg\\\\\\\\\\\\\", \\\\\\\\\\\\\"subscription\\\\\\\\\\\\\": \\\\\\\\\\\\\"bf088f59-f015-4332-bd36-54b988be7c90\\\\\\\\\\\\\", \\\\\\\\\\\\\"workspaceName\\\\\\\\\\\\\": \\\\\\\\\\\\\"sbirk-aml-ws\\\\\\\\\\\\\"}]}, \\\\\\\\\\\\\"localData\\\\\\\\\\\\\": {}, \\\\\\\\\\\\\"isEnabled\\\\\\\\\\\\\": true, \\\\\\\\\\\\\"name\\\\\\\\\\\\\": null, \\\\\\\\\\\\\"annotation\\\\\\\\\\\\\": null}, {\\\\\\\\\\\\\"id\\\\\\\\\\\\\": \\\\\\\\\\\\\"3836527e-2860-4eec-a876-1d3362f73588\\\\\\\\\\\\\", \\\\\\\\\\\\\"type\\\\\\\\\\\\\": \\\\\\\\\\\\\"Microsoft.DPrep.ParseDelimitedBlock\\\\\\\\\\\\\", \\\\\\\\\\\\\"arguments\\\\\\\\\\\\\": {\\\\\\\\\\\\\"columnHeadersMode\\\\\\\\\\\\\": 1, \\\\\\\\\\\\\"fileEncoding\\\\\\\\\\\\\": 0, \\\\\\\\\\\\\"handleQuotedLineBreaks\\\\\\\\\\\\\": false, \\\\\\\\\\\\\"preview\\\\\\\\\\\\\": false, \\\\\\\\\\\\\"separator\\\\\\\\\\\\\": \\\\\\\\\\\\\",\\\\\\\\\\\\\", \\\\\\\\\\\\\"skipRows\\\\\\\\\\\\\": 0, \\\\\\\\\\\\\"skipRowsMode\\\\\\\\\\\\\": 0}, \\\\\\\\\\\\\"localData\\\\\\\\\\\\\": {}, \\\\\\\\\\\\\"isEnabled\\\\\\\\\\\\\": true, \\\\\\\\\\\\\"name\\\\\\\\\\\\\": null, \\\\\\\\\\\\\"annotation\\\\\\\\\\\\\": null}, {\\\\\\\\\\\\\"id\\\\\\\\\\\\\": \\\\\\\\\\\\\"5751ae0a-2765-4053-94c2-da6135991157\\\\\\\\\\\\\", \\\\\\\\\\\\\"type\\\\\\\\\\\\\": \\\\\\\\\\\\\"Microsoft.DPrep.DropColumnsBlock\\\\\\\\\\\\\", \\\\\\\\\\\\\"arguments\\\\\\\\\\\\\": {\\\\\\\\\\\\\"columns\\\\\\\\\\\\\": {\\\\\\\\\\\\\"type\\\\\\\\\\\\\": 0, \\\\\\\\\\\\\"details\\\\\\\\\\\\\": {\\\\\\\\\\\\\"selectedColumns\\\\\\\\\\\\\": [\\\\\\\\\\\\\"Path\\\\\\\\\\\\\"]}}}, \\\\\\\\\\\\\"localData\\\\\\\\\\\\\": {}, \\\\\\\\\\\\\"isEnabled\\\\\\\\\\\\\": true, \\\\\\\\\\\\\"name\\\\\\\\\\\\\": null, \\\\\\\\\\\\\"annotation\\\\\\\\\\\\\": null}, {\\\\\\\\\\\\\"id\\\\\\\\\\\\\": \\\\\\\\\\\\\"27a028b9-947f-4472-b6be-75608e41b149\\\\\\\\\\\\\", \\\\\\\\\\\\\"type\\\\\\\\\\\\\": \\\\\\\\\\\\\"Microsoft.DPrep.SetColumnTypesBlock\\\\\\\\\\\\\", \\\\\\\\\\\\\"arguments\\\\\\\\\\\\\": {\\\\\\\\\\\\\"columnConversion\\\\\\\\\\\\\": [{\\\\\\\\\\\\\"column\\\\\\\\\\\\\": {\\\\\\\\\\\\\"type\\\\\\\\\\\\\": 2, \\\\\\\\\\\\\"details\\\\\\\\\\\\\": {\\\\\\\\\\\\\"selectedColumn\\\\\\\\\\\\\": \\\\\\\\\\\\\"Path\\\\\\\\\\\\\"}}, \\\\\\\\\\\\\"typeProperty\\\\\\\\\\\\\": 0}, {\\\\\\\\\\\\\"column\\\\\\\\\\\\\": {\\\\\\\\\\\\\"type\\\\\\\\\\\\\": 2, \\\\\\\\\\\\\"details\\\\\\\\\\\\\": {\\\\\\\\\\\\\"selectedColumn\\\\\\\\\\\\\": \\\\\\\\\\\\\"Age\\\\\\\\\\\\\"}}, \\\\\\\\\\\\\"typeProperty\\\\\\\\\\\\\": 2}, {\\\\\\\\\\\\\"column\\\\\\\\\\\\\": {\\\\\\\\\\\\\"type\\\\\\\\\\\\\": 2, \\\\\\\\\\\\\"details\\\\\\\\\\\\\": {\\\\\\\\\\\\\"selectedColumn\\\\\\\\\\\\\": \\\\\\\\\\\\\"Attrition\\\\\\\\\\\\\"}}, \\\\\\\\\\\\\"typeProperty\\\\\\\\\\\\\": 1}, {\\\\\\\\\\\\\"column\\\\\\\\\\\\\": {\\\\\\\\\\\\\"type\\\\\\\\\\\\\": 2, \\\\\\\\\\\\\"details\\\\\\\\\\\\\": {\\\\\\\\\\\\\"selectedColumn\\\\\\\\\\\\\": \\\\\\\\\\\\\"BusinessTravel\\\\\\\\\\\\\"}}, \\\\\\\\\\\\\"typeProperty\\\\\\\\\\\\\": 0}, {\\\\\\\\\\\\\"column\\\\\\\\\\\\\": {\\\\\\\\\\\\\"type\\\\\\\\\\\\\": 2, \\\\\\\\\\\\\"details\\\\\\\\\\\\\": {\\\\\\\\\\\\\"selectedColumn\\\\\\\\\\\\\": \\\\\\\\\\\\\"DailyRate\\\\\\\\\\\\\"}}, \\\\\\\\\\\\\"typeProperty\\\\\\\\\\\\\": 2}, {\\\\\\\\\\\\\"column\\\\\\\\\\\\\": {\\\\\\\\\\\\\"type\\\\\\\\\\\\\": 2, \\\\\\\\\\\\\"details\\\\\\\\\\\\\": {\\\\\\\\\\\\\"selectedColumn\\\\\\\\\\\\\": \\\\\\\\\\\\\"Department\\\\\\\\\\\\\"}}, \\\\\\\\\\\\\"typeProperty\\\\\\\\\\\\\": 0}, {\\\\\\\\\\\\\"column\\\\\\\\\\\\\": {\\\\\\\\\\\\\"type\\\\\\\\\\\\\": 2, \\\\\\\\\\\\\"details\\\\\\\\\\\\\": {\\\\\\\\\\\\\"selectedColumn\\\\\\\\\\\\\": \\\\\\\\\\\\\"DistanceFromHome\\\\\\\\\\\\\"}}, \\\\\\\\\\\\\"typeProperty\\\\\\\\\\\\\": 2}, {\\\\\\\\\\\\\"column\\\\\\\\\\\\\": {\\\\\\\\\\\\\"type\\\\\\\\\\\\\": 2, \\\\\\\\\\\\\"details\\\\\\\\\\\\\": {\\\\\\\\\\\\\"selectedColumn\\\\\\\\\\\\\": \\\\\\\\\\\\\"Education\\\\\\\\\\\\\"}}, \\\\\\\\\\\\\"typeProperty\\\\\\\\\\\\\": 2}, {\\\\\\\\\\\\\"column\\\\\\\\\\\\\": {\\\\\\\\\\\\\"type\\\\\\\\\\\\\": 2, \\\\\\\\\\\\\"details\\\\\\\\\\\\\": {\\\\\\\\\\\\\"selectedColumn\\\\\\\\\\\\\": \\\\\\\\\\\\\"EducationField\\\\\\\\\\\\\"}}, \\\\\\\\\\\\\"typeProperty\\\\\\\\\\\\\": 0}, {\\\\\\\\\\\\\"column\\\\\\\\\\\\\": {\\\\\\\\\\\\\"type\\\\\\\\\\\\\": 2, \\\\\\\\\\\\\"details\\\\\\\\\\\\\": {\\\\\\\\\\\\\"selectedColumn\\\\\\\\\\\\\": \\\\\\\\\\\\\"EmployeeCount\\\\\\\\\\\\\"}}, \\\\\\\\\\\\\"typeProperty\\\\\\\\\\\\\": 2}, {\\\\\\\\\\\\\"column\\\\\\\\\\\\\": {\\\\\\\\\\\\\"type\\\\\\\\\\\\\": 2, \\\\\\\\\\\\\"details\\\\\\\\\\\\\": {\\\\\\\\\\\\\"selectedColumn\\\\\\\\\\\\\": \\\\\\\\\\\\\"EmployeeNumber\\\\\\\\\\\\\"}}, \\\\\\\\\\\\\"typeProperty\\\\\\\\\\\\\": 2}, {\\\\\\\\\\\\\"column\\\\\\\\\\\\\": {\\\\\\\\\\\\\"type\\\\\\\\\\\\\": 2, \\\\\\\\\\\\\"details\\\\\\\\\\\\\": {\\\\\\\\\\\\\"selectedColumn\\\\\\\\\\\\\": \\\\\\\\\\\\\"EnvironmentSatisfaction\\\\\\\\\\\\\"}}, \\\\\\\\\\\\\"typeProperty\\\\\\\\\\\\\": 2}, {\\\\\\\\\\\\\"column\\\\\\\\\\\\\": {\\\\\\\\\\\\\"type\\\\\\\\\\\\\": 2, \\\\\\\\\\\\\"details\\\\\\\\\\\\\": {\\\\\\\\\\\\\"selectedColumn\\\\\\\\\\\\\": \\\\\\\\\\\\\"Gender\\\\\\\\\\\\\"}}, \\\\\\\\\\\\\"typeProperty\\\\\\\\\\\\\": 0}, {\\\\\\\\\\\\\"column\\\\\\\\\\\\\": {\\\\\\\\\\\\\"type\\\\\\\\\\\\\": 2, \\\\\\\\\\\\\"details\\\\\\\\\\\\\": {\\\\\\\\\\\\\"selectedColumn\\\\\\\\\\\\\": \\\\\\\\\\\\\"HourlyRate\\\\\\\\\\\\\"}}, \\\\\\\\\\\\\"typeProperty\\\\\\\\\\\\\": 2}, {\\\\\\\\\\\\\"column\\\\\\\\\\\\\": {\\\\\\\\\\\\\"type\\\\\\\\\\\\\": 2, \\\\\\\\\\\\\"details\\\\\\\\\\\\\": {\\\\\\\\\\\\\"selectedColumn\\\\\\\\\\\\\": \\\\\\\\\\\\\"JobInvolvement\\\\\\\\\\\\\"}}, \\\\\\\\\\\\\"typeProperty\\\\\\\\\\\\\": 2}, {\\\\\\\\\\\\\"column\\\\\\\\\\\\\": {\\\\\\\\\\\\\"type\\\\\\\\\\\\\": 2, \\\\\\\\\\\\\"details\\\\\\\\\\\\\": {\\\\\\\\\\\\\"selectedColumn\\\\\\\\\\\\\": \\\\\\\\\\\\\"JobLevel\\\\\\\\\\\\\"}}, \\\\\\\\\\\\\"typeProperty\\\\\\\\\\\\\": 2}, {\\\\\\\\\\\\\"column\\\\\\\\\\\\\": {\\\\\\\\\\\\\"type\\\\\\\\\\\\\": 2, \\\\\\\\\\\\\"details\\\\\\\\\\\\\": {\\\\\\\\\\\\\"selectedColumn\\\\\\\\\\\\\": \\\\\\\\\\\\\"JobRole\\\\\\\\\\\\\"}}, \\\\\\\\\\\\\"typeProperty\\\\\\\\\\\\\": 0}, {\\\\\\\\\\\\\"column\\\\\\\\\\\\\": {\\\\\\\\\\\\\"type\\\\\\\\\\\\\": 2, \\\\\\\\\\\\\"details\\\\\\\\\\\\\": {\\\\\\\\\\\\\"selectedColumn\\\\\\\\\\\\\": \\\\\\\\\\\\\"JobSatisfaction\\\\\\\\\\\\\"}}, \\\\\\\\\\\\\"typeProperty\\\\\\\\\\\\\": 2}, {\\\\\\\\\\\\\"column\\\\\\\\\\\\\": {\\\\\\\\\\\\\"type\\\\\\\\\\\\\": 2, \\\\\\\\\\\\\"details\\\\\\\\\\\\\": {\\\\\\\\\\\\\"selectedColumn\\\\\\\\\\\\\": \\\\\\\\\\\\\"MaritalStatus\\\\\\\\\\\\\"}}, \\\\\\\\\\\\\"typeProperty\\\\\\\\\\\\\": 0}, {\\\\\\\\\\\\\"column\\\\\\\\\\\\\": {\\\\\\\\\\\\\"type\\\\\\\\\\\\\": 2, \\\\\\\\\\\\\"details\\\\\\\\\\\\\": {\\\\\\\\\\\\\"selectedColumn\\\\\\\\\\\\\": \\\\\\\\\\\\\"MonthlyIncome\\\\\\\\\\\\\"}}, \\\\\\\\\\\\\"typeProperty\\\\\\\\\\\\\": 2}, {\\\\\\\\\\\\\"column\\\\\\\\\\\\\": {\\\\\\\\\\\\\"type\\\\\\\\\\\\\": 2, \\\\\\\\\\\\\"details\\\\\\\\\\\\\": {\\\\\\\\\\\\\"selectedColumn\\\\\\\\\\\\\": \\\\\\\\\\\\\"MonthlyRate\\\\\\\\\\\\\"}}, \\\\\\\\\\\\\"typeProperty\\\\\\\\\\\\\": 2}, {\\\\\\\\\\\\\"column\\\\\\\\\\\\\": {\\\\\\\\\\\\\"type\\\\\\\\\\\\\": 2, \\\\\\\\\\\\\"details\\\\\\\\\\\\\": {\\\\\\\\\\\\\"selectedColumn\\\\\\\\\\\\\": \\\\\\\\\\\\\"NumCompaniesWorked\\\\\\\\\\\\\"}}, \\\\\\\\\\\\\"typeProperty\\\\\\\\\\\\\": 2}, {\\\\\\\\\\\\\"column\\\\\\\\\\\\\": {\\\\\\\\\\\\\"type\\\\\\\\\\\\\": 2, \\\\\\\\\\\\\"details\\\\\\\\\\\\\": {\\\\\\\\\\\\\"selectedColumn\\\\\\\\\\\\\": \\\\\\\\\\\\\"Over18\\\\\\\\\\\\\"}}, \\\\\\\\\\\\\"typeProperty\\\\\\\\\\\\\": 1}, {\\\\\\\\\\\\\"column\\\\\\\\\\\\\": {\\\\\\\\\\\\\"type\\\\\\\\\\\\\": 2, \\\\\\\\\\\\\"details\\\\\\\\\\\\\": {\\\\\\\\\\\\\"selectedColumn\\\\\\\\\\\\\": \\\\\\\\\\\\\"OverTime\\\\\\\\\\\\\"}}, \\\\\\\\\\\\\"typeProperty\\\\\\\\\\\\\": 1}, {\\\\\\\\\\\\\"column\\\\\\\\\\\\\": {\\\\\\\\\\\\\"type\\\\\\\\\\\\\": 2, \\\\\\\\\\\\\"details\\\\\\\\\\\\\": {\\\\\\\\\\\\\"selectedColumn\\\\\\\\\\\\\": \\\\\\\\\\\\\"PercentSalaryHike\\\\\\\\\\\\\"}}, \\\\\\\\\\\\\"typeProperty\\\\\\\\\\\\\": 2}, {\\\\\\\\\\\\\"column\\\\\\\\\\\\\": {\\\\\\\\\\\\\"type\\\\\\\\\\\\\": 2, \\\\\\\\\\\\\"details\\\\\\\\\\\\\": {\\\\\\\\\\\\\"selectedColumn\\\\\\\\\\\\\": \\\\\\\\\\\\\"PerformanceRating\\\\\\\\\\\\\"}}, \\\\\\\\\\\\\"typeProperty\\\\\\\\\\\\\": 2}, {\\\\\\\\\\\\\"column\\\\\\\\\\\\\": {\\\\\\\\\\\\\"type\\\\\\\\\\\\\": 2, \\\\\\\\\\\\\"details\\\\\\\\\\\\\": {\\\\\\\\\\\\\"selectedColumn\\\\\\\\\\\\\": \\\\\\\\\\\\\"RelationshipSatisfaction\\\\\\\\\\\\\"}}, \\\\\\\\\\\\\"typeProperty\\\\\\\\\\\\\": 2}, {\\\\\\\\\\\\\"column\\\\\\\\\\\\\": {\\\\\\\\\\\\\"type\\\\\\\\\\\\\": 2, \\\\\\\\\\\\\"details\\\\\\\\\\\\\": {\\\\\\\\\\\\\"selectedColumn\\\\\\\\\\\\\": \\\\\\\\\\\\\"StandardHours\\\\\\\\\\\\\"}}, \\\\\\\\\\\\\"typeProperty\\\\\\\\\\\\\": 2}, {\\\\\\\\\\\\\"column\\\\\\\\\\\\\": {\\\\\\\\\\\\\"type\\\\\\\\\\\\\": 2, \\\\\\\\\\\\\"details\\\\\\\\\\\\\": {\\\\\\\\\\\\\"selectedColumn\\\\\\\\\\\\\": \\\\\\\\\\\\\"StockOptionLevel\\\\\\\\\\\\\"}}, \\\\\\\\\\\\\"typeProperty\\\\\\\\\\\\\": 2}, {\\\\\\\\\\\\\"column\\\\\\\\\\\\\": {\\\\\\\\\\\\\"type\\\\\\\\\\\\\": 2, \\\\\\\\\\\\\"details\\\\\\\\\\\\\": {\\\\\\\\\\\\\"selectedColumn\\\\\\\\\\\\\": \\\\\\\\\\\\\"TotalWorkingYears\\\\\\\\\\\\\"}}, \\\\\\\\\\\\\"typeProperty\\\\\\\\\\\\\": 2}, {\\\\\\\\\\\\\"column\\\\\\\\\\\\\": {\\\\\\\\\\\\\"type\\\\\\\\\\\\\": 2, \\\\\\\\\\\\\"details\\\\\\\\\\\\\": {\\\\\\\\\\\\\"selectedColumn\\\\\\\\\\\\\": \\\\\\\\\\\\\"TrainingTimesLastYear\\\\\\\\\\\\\"}}, \\\\\\\\\\\\\"typeProperty\\\\\\\\\\\\\": 2}, {\\\\\\\\\\\\\"column\\\\\\\\\\\\\": {\\\\\\\\\\\\\"type\\\\\\\\\\\\\": 2, \\\\\\\\\\\\\"details\\\\\\\\\\\\\": {\\\\\\\\\\\\\"selectedColumn\\\\\\\\\\\\\": \\\\\\\\\\\\\"WorkLifeBalance\\\\\\\\\\\\\"}}, \\\\\\\\\\\\\"typeProperty\\\\\\\\\\\\\": 2}, {\\\\\\\\\\\\\"column\\\\\\\\\\\\\": {\\\\\\\\\\\\\"type\\\\\\\\\\\\\": 2, \\\\\\\\\\\\\"details\\\\\\\\\\\\\": {\\\\\\\\\\\\\"selectedColumn\\\\\\\\\\\\\": \\\\\\\\\\\\\"YearsAtCompany\\\\\\\\\\\\\"}}, \\\\\\\\\\\\\"typeProperty\\\\\\\\\\\\\": 2}, {\\\\\\\\\\\\\"column\\\\\\\\\\\\\": {\\\\\\\\\\\\\"type\\\\\\\\\\\\\": 2, \\\\\\\\\\\\\"details\\\\\\\\\\\\\": {\\\\\\\\\\\\\"selectedColumn\\\\\\\\\\\\\": \\\\\\\\\\\\\"YearsInCurrentRole\\\\\\\\\\\\\"}}, \\\\\\\\\\\\\"typeProperty\\\\\\\\\\\\\": 2}, {\\\\\\\\\\\\\"column\\\\\\\\\\\\\": {\\\\\\\\\\\\\"type\\\\\\\\\\\\\": 2, \\\\\\\\\\\\\"details\\\\\\\\\\\\\": {\\\\\\\\\\\\\"selectedColumn\\\\\\\\\\\\\": \\\\\\\\\\\\\"YearsSinceLastPromotion\\\\\\\\\\\\\"}}, \\\\\\\\\\\\\"typeProperty\\\\\\\\\\\\\": 2}, {\\\\\\\\\\\\\"column\\\\\\\\\\\\\": {\\\\\\\\\\\\\"type\\\\\\\\\\\\\": 2, \\\\\\\\\\\\\"details\\\\\\\\\\\\\": {\\\\\\\\\\\\\"selectedColumn\\\\\\\\\\\\\": \\\\\\\\\\\\\"YearsWithCurrManager\\\\\\\\\\\\\"}}, \\\\\\\\\\\\\"typeProperty\\\\\\\\\\\\\": 2}]}, \\\\\\\\\\\\\"localData\\\\\\\\\\\\\": {}, \\\\\\\\\\\\\"isEnabled\\\\\\\\\\\\\": true, \\\\\\\\\\\\\"name\\\\\\\\\\\\\": null, \\\\\\\\\\\\\"annotation\\\\\\\\\\\\\": null}], \\\\\\\\\\\\\"inspectors\\\\\\\\\\\\\": [], \\\\\\\\\\\\\"meta\\\\\\\\\\\\\": {\\\\\\\\\\\\\"savedDatasetId\\\\\\\\\\\\\": \\\\\\\\\\\\\"79df80b0-cde7-4c2b-ba21-572eddd84f65\\\\\\\\\\\\\", \\\\\\\\\\\\\"datasetType\\\\\\\\\\\\\": \\\\\\\\\\\\\"tabular\\\\\\\\\\\\\", \\\\\\\\\\\\\"subscriptionId\\\\\\\\\\\\\": \\\\\\\\\\\\\"bf088f59-f015-4332-bd36-54b988be7c90\\\\\\\\\\\\\", \\\\\\\\\\\\\"workspaceId\\\\\\\\\\\\\": \\\\\\\\\\\\\"eafc0c3e-f971-4c74-a4fa-655ee90531ba\\\\\\\\\\\\\", \\\\\\\\\\\\\"workspaceLocation\\\\\\\\\\\\\": \\\\\\\\\\\\\"westeurope\\\\\\\\\\\\\"}}\\\\\", \\\\\"activities\\\\\": 0}',\n",
       "  'EnableSubsampling': None,\n",
       "  'runTemplate': 'AutoML',\n",
       "  'azureml.runsource': 'automl',\n",
       "  'display_task_type': 'classification',\n",
       "  'dependencies_versions': '{\"azureml-widgets\": \"1.18.0\", \"azureml-train\": \"1.18.0\", \"azureml-train-restclients-hyperdrive\": \"1.18.0\", \"azureml-train-core\": \"1.18.0\", \"azureml-train-automl\": \"1.18.0\", \"azureml-train-automl-runtime\": \"1.18.0\", \"azureml-train-automl-client\": \"1.18.0\", \"azureml-tensorboard\": \"1.18.0\", \"azureml-telemetry\": \"1.18.0\", \"azureml-sdk\": \"1.18.0\", \"azureml-samples\": \"0+unknown\", \"azureml-pipeline\": \"1.18.0\", \"azureml-pipeline-steps\": \"1.18.0\", \"azureml-pipeline-core\": \"1.18.0\", \"azureml-opendatasets\": \"1.18.0\", \"azureml-model-management-sdk\": \"1.0.1b6.post1\", \"azureml-mlflow\": \"1.18.0\", \"azureml-interpret\": \"1.18.0\", \"azureml-explain-model\": \"1.18.0\", \"azureml-defaults\": \"1.18.0\", \"azureml-dataset-runtime\": \"1.18.0\", \"azureml-dataprep\": \"2.4.2\", \"azureml-dataprep-rslex\": \"1.2.2\", \"azureml-dataprep-native\": \"24.0.0\", \"azureml-datadrift\": \"1.18.0\", \"azureml-core\": \"1.18.0\", \"azureml-contrib-services\": \"1.18.0\", \"azureml-contrib-server\": \"1.18.0\", \"azureml-contrib-reinforcementlearning\": \"1.18.0\", \"azureml-contrib-pipeline-steps\": \"1.18.0\", \"azureml-contrib-notebook\": \"1.18.0\", \"azureml-contrib-interpret\": \"1.18.0\", \"azureml-contrib-gbdt\": \"1.18.0\", \"azureml-contrib-fairness\": \"1.18.0\", \"azureml-contrib-dataset\": \"1.18.0\", \"azureml-cli-common\": \"1.18.0\", \"azureml-automl-runtime\": \"1.18.0\", \"azureml-automl-core\": \"1.18.0\", \"azureml-accel-models\": \"1.18.0\"}',\n",
       "  '_aml_system_scenario_identification': 'Remote.Parent',\n",
       "  'ClientType': 'SDK',\n",
       "  'environment_cpu_name': 'AzureML-AutoML',\n",
       "  'environment_cpu_version': '49',\n",
       "  'environment_gpu_name': 'AzureML-AutoML-GPU',\n",
       "  'environment_gpu_version': '37',\n",
       "  'root_attribution': 'automl',\n",
       "  'attribution': 'AutoML',\n",
       "  'Orchestrator': 'AutoML',\n",
       "  'CancelUri': 'https://westeurope.experiments.azureml.net/jasmine/v1.0/subscriptions/bf088f59-f015-4332-bd36-54b988be7c90/resourceGroups/sbirk-aml-rg/providers/Microsoft.MachineLearningServices/workspaces/sbirk-aml-ws/experimentids/28c17cb2-ba1f-4f18-a556-f16da4775547/cancel/AutoML_169df40b-a192-427a-9e6b-74822c261a15',\n",
       "  'azureml.git.repository_uri': 'https://github.com/sebastianbirk/udacity-aml-engineer-nanodegree.git',\n",
       "  'mlflow.source.git.repoURL': 'https://github.com/sebastianbirk/udacity-aml-engineer-nanodegree.git',\n",
       "  'azureml.git.branch': 'master',\n",
       "  'mlflow.source.git.branch': 'master',\n",
       "  'azureml.git.commit': 'dd5fea55ff4d66fe1debf55caf7a364b1e8fa8a7',\n",
       "  'mlflow.source.git.commit': 'dd5fea55ff4d66fe1debf55caf7a364b1e8fa8a7',\n",
       "  'azureml.git.dirty': 'False',\n",
       "  'ClientSdkVersion': '1.18.0.post1',\n",
       "  'snapshotId': '00000000-0000-0000-0000-000000000000',\n",
       "  'SetupRunId': 'AutoML_169df40b-a192-427a-9e6b-74822c261a15_setup',\n",
       "  'SetupRunContainerId': 'dcid.AutoML_169df40b-a192-427a-9e6b-74822c261a15_setup',\n",
       "  'FeaturizationRunJsonPath': 'featurizer_container.json',\n",
       "  'FeaturizationRunId': 'AutoML_169df40b-a192-427a-9e6b-74822c261a15_featurize',\n",
       "  'ProblemInfoJsonString': '{\"dataset_num_categorical\": 0, \"is_sparse\": true, \"subsampling\": false, \"dataset_classes\": 2, \"dataset_features\": 300, \"dataset_samples\": 1470, \"single_frequency_class_detected\": false}',\n",
       "  'ModelExplainRunId': 'AutoML_169df40b-a192-427a-9e6b-74822c261a15_ModelExplain'},\n",
       " 'inputDatasets': [{'dataset': {'id': '79df80b0-cde7-4c2b-ba21-572eddd84f65'}, 'consumptionDetails': {'type': 'RunInput', 'inputName': 'training_data', 'mechanism': 'Direct'}}],\n",
       " 'outputDatasets': [],\n",
       " 'logFiles': {}}"
      ]
     },
     "execution_count": 16,
     "metadata": {},
     "output_type": "execute_result"
    }
   ],
   "source": [
    "automl_run.wait_for_completion()"
   ]
  },
  {
   "cell_type": "markdown",
   "metadata": {},
   "source": [
    "## Best Model\n",
    "\n",
    "TODO: In the cell below, get the best model from the automl experiments and display all the properties of the model.\n",
    "\n"
   ]
  },
  {
   "cell_type": "code",
   "execution_count": 19,
   "metadata": {
    "collapsed": false,
    "gather": {
     "logged": 1598431425670
    },
    "jupyter": {
     "outputs_hidden": false,
     "source_hidden": false
    },
    "nteract": {
     "transient": {
      "deleting": false
     }
    }
   },
   "outputs": [
    {
     "name": "stdout",
     "output_type": "stream",
     "text": [
      "Run(Experiment: attrition-automl,\n",
      "Id: AutoML_169df40b-a192-427a-9e6b-74822c261a15_49,\n",
      "Type: azureml.scriptrun,\n",
      "Status: Completed)\n",
      "Pipeline(memory=None,\n",
      "         steps=[('datatransformer',\n",
      "                 DataTransformer(enable_dnn=None, enable_feature_sweeping=None,\n",
      "                                 feature_sweeping_config=None,\n",
      "                                 feature_sweeping_timeout=None,\n",
      "                                 featurization_config=None, force_text_dnn=None,\n",
      "                                 is_cross_validation=None,\n",
      "                                 is_onnx_compatible=None, logger=None,\n",
      "                                 observer=None, task=None, working_dir=None)),\n",
      "                ('prefittedsoftvotingclassifier',...\n",
      "                                                                                                penalty='l2',\n",
      "                                                                                                random_state=None,\n",
      "                                                                                                solver='saga',\n",
      "                                                                                                tol=0.0001,\n",
      "                                                                                                verbose=0,\n",
      "                                                                                                warm_start=False))],\n",
      "                                                                     verbose=False))],\n",
      "                                               flatten_transform=None,\n",
      "                                               weights=[0.26666666666666666,\n",
      "                                                        0.06666666666666667,\n",
      "                                                        0.06666666666666667,\n",
      "                                                        0.06666666666666667,\n",
      "                                                        0.13333333333333333,\n",
      "                                                        0.06666666666666667,\n",
      "                                                        0.06666666666666667,\n",
      "                                                        0.13333333333333333,\n",
      "                                                        0.06666666666666667,\n",
      "                                                        0.06666666666666667]))],\n",
      "         verbose=False)\n",
      "Y_transformer(['LabelEncoder', LabelEncoder()])\n"
     ]
    }
   ],
   "source": [
    "best_automl_run, automl_model = automl_run.get_output()\n",
    "print(best_automl_run)\n",
    "print(automl_model)"
   ]
  },
  {
   "cell_type": "code",
   "execution_count": 24,
   "metadata": {
    "collapsed": false,
    "gather": {
     "logged": 1598431426111
    },
    "jupyter": {
     "outputs_hidden": false,
     "source_hidden": false
    },
    "nteract": {
     "transient": {
      "deleting": false
     }
    }
   },
   "outputs": [
    {
     "data": {
      "text/plain": [
       "['models/automl_model.pkl']"
      ]
     },
     "execution_count": 24,
     "metadata": {},
     "output_type": "execute_result"
    }
   ],
   "source": [
    "#TODO: Save the best model\n",
    "os.makedirs(\"./models\", exist_ok=True)\n",
    "joblib.dump(automl_model, \"models/automl_model.pkl\")"
   ]
  },
  {
   "cell_type": "markdown",
   "metadata": {},
   "source": [
    "## Model Deployment\n",
    "\n",
    "Remember you have to deploy only one of the two models you trained.. Perform the steps in the rest of this notebook only if you wish to deploy this model.\n",
    "\n",
    "TODO: In the cell below, register the model, create an inference config and deploy the model as a web service."
   ]
  },
  {
   "cell_type": "code",
   "execution_count": null,
   "metadata": {
    "collapsed": false,
    "gather": {
     "logged": 1598431435189
    },
    "jupyter": {
     "outputs_hidden": false,
     "source_hidden": false
    },
    "nteract": {
     "transient": {
      "deleting": false
     }
    }
   },
   "outputs": [],
   "source": []
  },
  {
   "cell_type": "markdown",
   "metadata": {
    "gather": {
     "logged": 1598431657736
    },
    "jupyter": {
     "outputs_hidden": false,
     "source_hidden": false
    },
    "nteract": {
     "transient": {
      "deleting": false
     }
    }
   },
   "source": [
    "TODO: In the cell below, send a request to the web service you deployed to test it."
   ]
  },
  {
   "cell_type": "code",
   "execution_count": null,
   "metadata": {
    "collapsed": false,
    "gather": {
     "logged": 1598432707604
    },
    "jupyter": {
     "outputs_hidden": false,
     "source_hidden": false
    },
    "nteract": {
     "transient": {
      "deleting": false
     }
    }
   },
   "outputs": [],
   "source": []
  },
  {
   "cell_type": "markdown",
   "metadata": {
    "gather": {
     "logged": 1598432765711
    },
    "jupyter": {
     "outputs_hidden": false,
     "source_hidden": false
    },
    "nteract": {
     "transient": {
      "deleting": false
     }
    }
   },
   "source": [
    "TODO: In the cell below, print the logs of the web service and delete the service"
   ]
  },
  {
   "cell_type": "code",
   "execution_count": null,
   "metadata": {
    "collapsed": false,
    "jupyter": {
     "outputs_hidden": false,
     "source_hidden": false
    },
    "nteract": {
     "transient": {
      "deleting": false
     }
    }
   },
   "outputs": [],
   "source": []
  }
 ],
 "metadata": {
  "kernel_info": {
   "name": "python3-azureml"
  },
  "kernelspec": {
   "display_name": "Python 3",
   "language": "python",
   "name": "python3"
  },
  "language_info": {
   "codemirror_mode": {
    "name": "ipython",
    "version": 3
   },
   "file_extension": ".py",
   "mimetype": "text/x-python",
   "name": "python",
   "nbconvert_exporter": "python",
   "pygments_lexer": "ipython3",
   "version": "3.6.9"
  },
  "nteract": {
   "version": "nteract-front-end@1.0.0"
  }
 },
 "nbformat": 4,
 "nbformat_minor": 4
}
