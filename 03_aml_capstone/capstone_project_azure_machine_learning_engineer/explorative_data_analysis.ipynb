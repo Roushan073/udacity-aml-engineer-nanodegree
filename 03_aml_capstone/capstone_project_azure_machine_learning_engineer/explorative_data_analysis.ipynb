{
 "cells": [
  {
   "cell_type": "code",
   "execution_count": 60,
   "metadata": {},
   "outputs": [],
   "source": [
    "import numpy as np\n",
    "import pandas as pd\n",
    "import seaborn as sns\n",
    "import torch\n",
    "from azureml.core.dataset import Dataset\n",
    "from azureml.core.workspace import Workspace\n",
    "from sklearn.model_selection import train_test_split"
   ]
  },
  {
   "cell_type": "code",
   "execution_count": 61,
   "metadata": {},
   "outputs": [],
   "source": [
    "# Create workspace object\n",
    "ws = Workspace.from_config()"
   ]
  },
  {
   "cell_type": "code",
   "execution_count": 62,
   "metadata": {},
   "outputs": [],
   "source": [
    "# Set pandas options to be able to display all columns\n",
    "pd.set_option(\"display.max_columns\", 25)"
   ]
  },
  {
   "cell_type": "code",
   "execution_count": 63,
   "metadata": {},
   "outputs": [],
   "source": [
    "# Read in source data\n",
    "df = pd.read_csv(\"./data/raw/attrition.csv\")"
   ]
  },
  {
   "cell_type": "code",
   "execution_count": 64,
   "metadata": {},
   "outputs": [],
   "source": [
    "# Split data into train and test set and store in separate files\n",
    "train_df = df.iloc[:int(0.8*len(df)),] # 80% of the data goes into training\n",
    "test_df = df.iloc[int(0.8*len(df)):,] # 20% is set aside for testing\n",
    "train_df.to_csv(\"./data/attrition_train.csv\", index=False)\n",
    "test_df.to_csv(\"./data/attrition_test.csv\", index=False)"
   ]
  },
  {
   "cell_type": "code",
   "execution_count": 65,
   "metadata": {},
   "outputs": [
    {
     "name": "stdout",
     "output_type": "stream",
     "text": [
      "(1176, 35)\n",
      "(294, 35)\n"
     ]
    }
   ],
   "source": [
    "# Validate shapes of splitted data\n",
    "print(train_df.shape)\n",
    "print(test_df.shape)"
   ]
  },
  {
   "cell_type": "code",
   "execution_count": 66,
   "metadata": {},
   "outputs": [
    {
     "name": "stdout",
     "output_type": "stream",
     "text": [
      "Uploading an estimated of 3 files\n",
      "Target already exists. Skipping upload for data/attrition_test.csv\n",
      "Target already exists. Skipping upload for data/attrition_train.csv\n",
      "Target already exists. Skipping upload for data/raw/attrition.csv\n",
      "Uploaded 0 files\n"
     ]
    }
   ],
   "source": [
    "# Get the default datastore to upload data\n",
    "datastore = ws.get_default_datastore()\n",
    "\n",
    "# Upload the local files from src_dir to the target_path in datastore\n",
    "datastore.upload(src_dir=\"./data\", target_path=\"data\")\n",
    "\n",
    "# Create datasets referencing the cloud location of the training and test csv files\n",
    "train_dataset = Dataset.Tabular.from_delimited_files(path = [(datastore, (\"data/attrition_train.csv\"))])\n",
    "test_dataset = Dataset.Tabular.from_delimited_files(path = [(datastore, (\"data/attrition_test.csv\"))])"
   ]
  },
  {
   "cell_type": "code",
   "execution_count": 67,
   "metadata": {},
   "outputs": [],
   "source": [
    "# Register the training dataset\n",
    "train_dataset = train_dataset.register(\n",
    "    workspace=ws,\n",
    "    name=\"attrition_train\",\n",
    "    description=\"This dataset contains the training part of the IBM HR Analytics Employee Attrition & Performance data from Kaggle.\"\n",
    ")\n",
    "\n",
    "# Register the testing dataset\n",
    "test_dataset = test_dataset.register(\n",
    "    workspace=ws,\n",
    "    name=\"attrition_test\",\n",
    "    description=\"This dataset contains the testing part of the IBM HR Analytics Employee Attrition & Performance data from Kaggle.\"\n",
    ")"
   ]
  },
  {
   "cell_type": "code",
   "execution_count": 59,
   "metadata": {},
   "outputs": [
    {
     "data": {
      "text/plain": [
       "<matplotlib.axes._subplots.AxesSubplot at 0x7faba097e6a0>"
      ]
     },
     "execution_count": 59,
     "metadata": {},
     "output_type": "execute_result"
    },
    {
     "data": {
      "image/png": "[encoded data removed]",
      "text/plain": [
       "<Figure size 432x288 with 1 Axes>"
      ]
     },
     "metadata": {
      "needs_background": "light"
     },
     "output_type": "display_data"
    }
   ],
   "source": [
    "# Check for class imbalance\n",
    "sns.countplot(x=\"Attrition\", data=df)"
   ]
  }
 ],
 "metadata": {
  "kernelspec": {
   "display_name": "mushrooms_dev",
   "language": "python",
   "name": "mushrooms_dev"
  },
  "language_info": {
   "codemirror_mode": {
    "name": "ipython",
    "version": 3
   },
   "file_extension": ".py",
   "mimetype": "text/x-python",
   "name": "python",
   "nbconvert_exporter": "python",
   "pygments_lexer": "ipython3",
   "version": "3.6.9"
  }
 },
 "nbformat": 4,
 "nbformat_minor": 4
}
